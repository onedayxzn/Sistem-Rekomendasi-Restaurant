{
  "nbformat": 4,
  "nbformat_minor": 0,
  "metadata": {
    "colab": {
      "name": "SistemRekomendasiRestaurant.ipynb",
      "provenance": [],
      "collapsed_sections": [],
      "authorship_tag": "ABX9TyOlBEjLQOc1S1151j6/SCIl"
    },
    "kernelspec": {
      "name": "python3",
      "display_name": "Python 3"
    },
    "language_info": {
      "name": "python"
    }
  },
  "cells": [
    {
      "cell_type": "code",
      "metadata": {
        "id": "-V5gNHVFM9av"
      },
      "source": [
        "import pandas as pd\n"
      ],
      "execution_count": null,
      "outputs": []
    },
    {
      "cell_type": "code",
      "metadata": {
        "colab": {
          "base_uri": "https://localhost:8080/"
        },
        "id": "mc6tVXtKaB3m",
        "outputId": "ef8806ad-d1e7-4153-9a2c-0f1102e48368"
      },
      "source": [
        "!wget https://archive.ics.uci.edu/ml/machine-learning-databases/00232/RCdata.zip"
      ],
      "execution_count": null,
      "outputs": [
        {
          "output_type": "stream",
          "name": "stdout",
          "text": [
            "--2021-10-09 01:52:13--  https://archive.ics.uci.edu/ml/machine-learning-databases/00232/RCdata.zip\n",
            "Resolving archive.ics.uci.edu (archive.ics.uci.edu)... 128.195.10.252\n",
            "Connecting to archive.ics.uci.edu (archive.ics.uci.edu)|128.195.10.252|:443... connected.\n",
            "HTTP request sent, awaiting response... 200 OK\n",
            "Length: 39674 (39K) [application/x-httpd-php]\n",
            "Saving to: ‘RCdata.zip’\n",
            "\n",
            "RCdata.zip          100%[===================>]  38.74K  --.-KB/s    in 0.07s   \n",
            "\n",
            "2021-10-09 01:52:13 (562 KB/s) - ‘RCdata.zip’ saved [39674/39674]\n",
            "\n"
          ]
        }
      ]
    },
    {
      "cell_type": "code",
      "metadata": {
        "colab": {
          "base_uri": "https://localhost:8080/"
        },
        "id": "fgOnr14faMLs",
        "outputId": "1a4f37ba-f2e2-4bbf-df88-dfefe1a3b6a3"
      },
      "source": [
        "!unzip /content/RCdata.zip"
      ],
      "execution_count": null,
      "outputs": [
        {
          "output_type": "stream",
          "name": "stdout",
          "text": [
            "Archive:  /content/RCdata.zip\n",
            "  inflating: chefmozaccepts.csv      \n",
            "  inflating: chefmozcuisine.csv      \n",
            "  inflating: chefmozhours4.csv       \n",
            "  inflating: chefmozparking.csv      \n",
            "  inflating: geoplaces2.csv          \n",
            "  inflating: rating_final.csv        \n",
            "  inflating: README                  \n",
            "  inflating: usercuisine.csv         \n",
            "  inflating: userpayment.csv         \n",
            "  inflating: userprofile.csv         \n"
          ]
        }
      ]
    },
    {
      "cell_type": "markdown",
      "metadata": {
        "id": "8GyZMXxVaVei"
      },
      "source": [
        "Selanjutnya, mari kita baca data-data di atas dengan menggunakan fungsi pandas.read_csv. Implementasikan kode berikut."
      ]
    },
    {
      "cell_type": "code",
      "metadata": {
        "colab": {
          "base_uri": "https://localhost:8080/"
        },
        "id": "dbbCjBLHaUya",
        "outputId": "5d6e042e-fe9e-4448-f973-59db04de5df7"
      },
      "source": [
        "import pandas as pd\n",
        " \n",
        "accepts = pd.read_csv('/content/chefmozaccepts.csv')\n",
        "cuisine = pd.read_csv('/content/chefmozcuisine.csv')\n",
        "hours = pd.read_csv('/content/chefmozhours4.csv')\n",
        "parking = pd.read_csv('/content/chefmozparking.csv')\n",
        "geo = pd.read_csv('/content/geoplaces2.csv', encoding = \"ISO-8859-1\")\n",
        "usercuisine = pd.read_csv('/content/usercuisine.csv')\n",
        "payment = pd.read_csv('/content/userpayment.csv')\n",
        "profile = pd.read_csv('/content/userprofile.csv')\n",
        "rating = pd.read_csv('/content/rating_final.csv')\n",
        " \n",
        "print('Jumlah data pembayaran yang diterima restoran: ', len(accepts.placeID.unique()))\n",
        "print('Jumlah data masakan pada restoran: ', len(cuisine.placeID.unique()))\n",
        "print('Jumlah data waktu buka restoran: ', len(hours.placeID.unique()))\n",
        "print('Jumlah data lokasi restoran: ', len(geo.placeID.unique()))\n",
        "print('Jumlah data masakan pengguna: ', len(usercuisine.userID.unique()))\n",
        "print('Jumlah data profil pengguna: ', len(profile.userID.unique()))\n",
        "print('Jumlah data penilaian yang diberikan pengguna: ', len(rating.userID.unique()))\n",
        "print('Jumlah data penilaian restoran: ', len(rating.placeID.unique()))"
      ],
      "execution_count": null,
      "outputs": [
        {
          "output_type": "stream",
          "name": "stdout",
          "text": [
            "Jumlah data pembayaran yang diterima restoran:  615\n",
            "Jumlah data masakan pada restoran:  769\n",
            "Jumlah data waktu buka restoran:  694\n",
            "Jumlah data lokasi restoran:  130\n",
            "Jumlah data masakan pengguna:  138\n",
            "Jumlah data profil pengguna:  138\n",
            "Jumlah data penilaian yang diberikan pengguna:  138\n",
            "Jumlah data penilaian restoran:  130\n"
          ]
        }
      ]
    },
    {
      "cell_type": "markdown",
      "metadata": {
        "id": "DgVamyCSarb0"
      },
      "source": [
        "## Univariate Exploratory Data Analysis\n",
        "Variabel-variabel pada Restaurant UCI dataset adalah sebagai berikut:\n",
        "\n",
        "-accepts : merupakan jenis pembayaran yang diterima pada restoran tertentu. \n",
        "-cuisine : merupakan jenis masakan yang disajikan pada restoran.  \n",
        "-hours : merupakan jadwal buka dan tutupnya restoran.  \n",
        "-parking : merupakan ketersediaan tempat parkir pada restoran.  \n",
        "-geo : merupakan letak restoran.  \n",
        "-usercuisine : merupakan jenis masakan dari data pengguna.  \n",
        "-payment : merupakan jenis pembayaran yang dipakai pengguna.  \n",
        "-profile : merupakan data profil pengguna. \n"
      ]
    },
    {
      "cell_type": "markdown",
      "metadata": {
        "id": "ZT2mMEjmbBo5"
      },
      "source": [
        "Tahap eksplorasi penting untuk memahami variabel-variabel pada data serta korelasi antar variabel. Pemahaman terhadap variabel pada data dan korelasinya akan membantu kita dalam menentukan pendekatan atau algoritma yang cocok untuk data kita. Idealnya, kita melakukan eksplorasi data terhadap seluruh variabel. Namun, pada proyek ini, kita akan mengeksplorasi beberapa variabel saja, antara lain: accept, cuisine, profile, dan rating. \n",
        "\n",
        "Variabel cuisine dan rating akan digunakan pada model rekomendasi kita. Sedangkan, variabel accept dan profile hanya untuk melihat bagaimana profile dan jenis pembayaran yang digunakan oleh pengguna. "
      ]
    },
    {
      "cell_type": "markdown",
      "metadata": {
        "id": "jqmiPJrSbDkU"
      },
      "source": [
        "## Accept Variabel\n",
        "Pertama, mari kita eksplorasi variabel accepts, yaitu jenis pembayaran yang diterima pada restoran tertentu. Implementasikan kode berikut."
      ]
    },
    {
      "cell_type": "code",
      "metadata": {
        "colab": {
          "base_uri": "https://localhost:8080/"
        },
        "id": "aic0aBpYbGWb",
        "outputId": "dc99f563-a884-4ba9-b54a-eaa2790088d5"
      },
      "source": [
        "accepts.info()"
      ],
      "execution_count": null,
      "outputs": [
        {
          "output_type": "stream",
          "name": "stdout",
          "text": [
            "<class 'pandas.core.frame.DataFrame'>\n",
            "RangeIndex: 1314 entries, 0 to 1313\n",
            "Data columns (total 2 columns):\n",
            " #   Column    Non-Null Count  Dtype \n",
            "---  ------    --------------  ----- \n",
            " 0   placeID   1314 non-null   int64 \n",
            " 1   Rpayment  1314 non-null   object\n",
            "dtypes: int64(1), object(1)\n",
            "memory usage: 20.7+ KB\n"
          ]
        }
      ]
    },
    {
      "cell_type": "markdown",
      "metadata": {
        "id": "dvK4TKAvbTvW"
      },
      "source": [
        "Berdasarkan output di atas, kita dapat mengetahui bahwa file accept.csv memiliki 1314 entri. Ingatlah juga, accepts termasuk ke dalam kategori data Restaurant. Oleh karena itu, terdapat dua variabel di sini, yaitu placeID dan Rpayment. PlaceID merupakan ID restoran, sedangkan Rpayment merupakan jenis pembayaran yang digunakan pada restoran.\n",
        "\n",
        "Untuk melihat ada berapa banyak entri yang unik berdasarkan placeID dan jenis-jenis pembayaran unik yang diterima, jalankan kode berikut."
      ]
    },
    {
      "cell_type": "code",
      "metadata": {
        "colab": {
          "base_uri": "https://localhost:8080/"
        },
        "id": "9aN28cyZbQ6a",
        "outputId": "e4a68ee6-63d3-490a-cbef-c697549b6a05"
      },
      "source": [
        "print('Banyak data: ', len(accepts.placeID.unique()))\n",
        "print('Jenis Pembayaran yang diterima: ', accepts.Rpayment.unique())"
      ],
      "execution_count": null,
      "outputs": [
        {
          "output_type": "stream",
          "name": "stdout",
          "text": [
            "Banyak data:  615\n",
            "Jenis Pembayaran yang diterima:  ['cash' 'VISA' 'MasterCard-Eurocard' 'American_Express' 'bank_debit_cards'\n",
            " 'checks' 'Discover' 'Carte_Blanche' 'Diners_Club' 'Visa'\n",
            " 'Japan_Credit_Bureau' 'gift_certificates']\n"
          ]
        }
      ]
    },
    {
      "cell_type": "markdown",
      "metadata": {
        "id": "vzKe7uMLbsuz"
      },
      "source": [
        "## Cuisine Variable\n",
        "Selanjutnya, mari kita eksplorasi variabel cuisine, yaitu jenis masakan yang tersedia di restoran. Mari kita lihat info variabel cuisine dengan menggunakan fungsi info(). "
      ]
    },
    {
      "cell_type": "code",
      "metadata": {
        "colab": {
          "base_uri": "https://localhost:8080/"
        },
        "id": "7beQSe34buyC",
        "outputId": "5d82f1d4-67d9-4f96-8a11-d6820e2d0ece"
      },
      "source": [
        "cuisine.info()"
      ],
      "execution_count": null,
      "outputs": [
        {
          "output_type": "stream",
          "name": "stdout",
          "text": [
            "<class 'pandas.core.frame.DataFrame'>\n",
            "RangeIndex: 916 entries, 0 to 915\n",
            "Data columns (total 2 columns):\n",
            " #   Column    Non-Null Count  Dtype \n",
            "---  ------    --------------  ----- \n",
            " 0   placeID   916 non-null    int64 \n",
            " 1   Rcuisine  916 non-null    object\n",
            "dtypes: int64(1), object(1)\n",
            "memory usage: 14.4+ KB\n"
          ]
        }
      ]
    },
    {
      "cell_type": "code",
      "metadata": {
        "colab": {
          "base_uri": "https://localhost:8080/"
        },
        "id": "wIMqBYk4b0E-",
        "outputId": "273e796e-e4c4-489c-8210-f4ef76a5d947"
      },
      "source": [
        "print('Banyak tipe masakan: ', len(cuisine.Rcuisine.unique()))\n",
        "print('Tipe masakan: ', cuisine.Rcuisine.unique())"
      ],
      "execution_count": null,
      "outputs": [
        {
          "output_type": "stream",
          "name": "stdout",
          "text": [
            "Banyak tipe masakan:  59\n",
            "Tipe masakan:  ['Spanish' 'Italian' 'Latin_American' 'Mexican' 'Fast_Food' 'Burgers'\n",
            " 'Dessert-Ice_Cream' 'Hot_Dogs' 'Steaks' 'Asian' 'International'\n",
            " 'Mongolian' 'Vegetarian' 'Brazilian' 'Cafe-Coffee_Shop' 'Cafeteria'\n",
            " 'Contemporary' 'Deli-Sandwiches' 'Diner' 'Japanese' 'Sushi' 'Seafood'\n",
            " 'Chinese' 'Bar' 'Bar_Pub_Brewery' 'Pizzeria' 'Mediterranean' 'American'\n",
            " 'Family' 'Caribbean' 'African' 'Breakfast-Brunch' 'Regional' 'Afghan'\n",
            " 'Bakery' 'Game' 'Armenian' 'Vietnamese' 'Korean' 'Thai' 'Barbecue'\n",
            " 'Polish' 'Dutch-Belgian' 'French' 'German' 'Southwestern' 'Persian'\n",
            " 'Ethiopian' 'Juice' 'Soup' 'Continental-European' 'Greek' 'Southern'\n",
            " 'Eastern_European' 'California' 'Bagels' 'Turkish' 'Organic-Healthy'\n",
            " 'Fine_Dining']\n"
          ]
        }
      ]
    },
    {
      "cell_type": "markdown",
      "metadata": {
        "id": "Ejq1W0q3cBkg"
      },
      "source": [
        "Terdapat 59 tipe masakan yang berbeda dengan nama masakan seperti terlihat pada output kode. \n",
        "\n",
        "Perhatikanlah, jenis-jenis masakan di atas. Pada modul selanjutnya kita akan gunakan data cuisine ini untuk memprediksi top-N rekomendasi bagi pengguna. "
      ]
    },
    {
      "cell_type": "markdown",
      "metadata": {
        "id": "5XGVx_hbcDLV"
      },
      "source": [
        "## Profile\n",
        "Seperti yang telah dibahas sebelumnya, profile pengguna kadang diperlukan untuk memahami pola preferensi terhadap suatu item. Pertama, kita lihat terlebih dahulu berapa jumlah kolom dan baris pada variabel profile. "
      ]
    },
    {
      "cell_type": "code",
      "metadata": {
        "colab": {
          "base_uri": "https://localhost:8080/"
        },
        "id": "nBNsOAY7cIlE",
        "outputId": "862e94cb-4ced-4758-b037-80995b673609"
      },
      "source": [
        "print(profile.shape)"
      ],
      "execution_count": null,
      "outputs": [
        {
          "output_type": "stream",
          "name": "stdout",
          "text": [
            "(138, 19)\n"
          ]
        }
      ]
    },
    {
      "cell_type": "markdown",
      "metadata": {
        "id": "ZDBQCOpWcMmj"
      },
      "source": [
        "Selanjutnya, mari kita lihat fitur apa saja yang terdapat pada variabel profile. Implementasikan kode berikut."
      ]
    },
    {
      "cell_type": "code",
      "metadata": {
        "colab": {
          "base_uri": "https://localhost:8080/",
          "height": 275
        },
        "id": "FWkeQGdScLg7",
        "outputId": "7f8042fa-a11f-42a2-d9a4-33c549d4900a"
      },
      "source": [
        "profile.head()"
      ],
      "execution_count": null,
      "outputs": [
        {
          "output_type": "execute_result",
          "data": {
            "text/html": [
              "<div>\n",
              "<style scoped>\n",
              "    .dataframe tbody tr th:only-of-type {\n",
              "        vertical-align: middle;\n",
              "    }\n",
              "\n",
              "    .dataframe tbody tr th {\n",
              "        vertical-align: top;\n",
              "    }\n",
              "\n",
              "    .dataframe thead th {\n",
              "        text-align: right;\n",
              "    }\n",
              "</style>\n",
              "<table border=\"1\" class=\"dataframe\">\n",
              "  <thead>\n",
              "    <tr style=\"text-align: right;\">\n",
              "      <th></th>\n",
              "      <th>userID</th>\n",
              "      <th>latitude</th>\n",
              "      <th>longitude</th>\n",
              "      <th>smoker</th>\n",
              "      <th>drink_level</th>\n",
              "      <th>dress_preference</th>\n",
              "      <th>ambience</th>\n",
              "      <th>transport</th>\n",
              "      <th>marital_status</th>\n",
              "      <th>hijos</th>\n",
              "      <th>birth_year</th>\n",
              "      <th>interest</th>\n",
              "      <th>personality</th>\n",
              "      <th>religion</th>\n",
              "      <th>activity</th>\n",
              "      <th>color</th>\n",
              "      <th>weight</th>\n",
              "      <th>budget</th>\n",
              "      <th>height</th>\n",
              "    </tr>\n",
              "  </thead>\n",
              "  <tbody>\n",
              "    <tr>\n",
              "      <th>0</th>\n",
              "      <td>U1001</td>\n",
              "      <td>22.139997</td>\n",
              "      <td>-100.978803</td>\n",
              "      <td>false</td>\n",
              "      <td>abstemious</td>\n",
              "      <td>informal</td>\n",
              "      <td>family</td>\n",
              "      <td>on foot</td>\n",
              "      <td>single</td>\n",
              "      <td>independent</td>\n",
              "      <td>1989</td>\n",
              "      <td>variety</td>\n",
              "      <td>thrifty-protector</td>\n",
              "      <td>none</td>\n",
              "      <td>student</td>\n",
              "      <td>black</td>\n",
              "      <td>69</td>\n",
              "      <td>medium</td>\n",
              "      <td>1.77</td>\n",
              "    </tr>\n",
              "    <tr>\n",
              "      <th>1</th>\n",
              "      <td>U1002</td>\n",
              "      <td>22.150087</td>\n",
              "      <td>-100.983325</td>\n",
              "      <td>false</td>\n",
              "      <td>abstemious</td>\n",
              "      <td>informal</td>\n",
              "      <td>family</td>\n",
              "      <td>public</td>\n",
              "      <td>single</td>\n",
              "      <td>independent</td>\n",
              "      <td>1990</td>\n",
              "      <td>technology</td>\n",
              "      <td>hunter-ostentatious</td>\n",
              "      <td>Catholic</td>\n",
              "      <td>student</td>\n",
              "      <td>red</td>\n",
              "      <td>40</td>\n",
              "      <td>low</td>\n",
              "      <td>1.87</td>\n",
              "    </tr>\n",
              "    <tr>\n",
              "      <th>2</th>\n",
              "      <td>U1003</td>\n",
              "      <td>22.119847</td>\n",
              "      <td>-100.946527</td>\n",
              "      <td>false</td>\n",
              "      <td>social drinker</td>\n",
              "      <td>formal</td>\n",
              "      <td>family</td>\n",
              "      <td>public</td>\n",
              "      <td>single</td>\n",
              "      <td>independent</td>\n",
              "      <td>1989</td>\n",
              "      <td>none</td>\n",
              "      <td>hard-worker</td>\n",
              "      <td>Catholic</td>\n",
              "      <td>student</td>\n",
              "      <td>blue</td>\n",
              "      <td>60</td>\n",
              "      <td>low</td>\n",
              "      <td>1.69</td>\n",
              "    </tr>\n",
              "    <tr>\n",
              "      <th>3</th>\n",
              "      <td>U1004</td>\n",
              "      <td>18.867000</td>\n",
              "      <td>-99.183000</td>\n",
              "      <td>false</td>\n",
              "      <td>abstemious</td>\n",
              "      <td>informal</td>\n",
              "      <td>family</td>\n",
              "      <td>public</td>\n",
              "      <td>single</td>\n",
              "      <td>independent</td>\n",
              "      <td>1940</td>\n",
              "      <td>variety</td>\n",
              "      <td>hard-worker</td>\n",
              "      <td>none</td>\n",
              "      <td>professional</td>\n",
              "      <td>green</td>\n",
              "      <td>44</td>\n",
              "      <td>medium</td>\n",
              "      <td>1.53</td>\n",
              "    </tr>\n",
              "    <tr>\n",
              "      <th>4</th>\n",
              "      <td>U1005</td>\n",
              "      <td>22.183477</td>\n",
              "      <td>-100.959891</td>\n",
              "      <td>false</td>\n",
              "      <td>abstemious</td>\n",
              "      <td>no preference</td>\n",
              "      <td>family</td>\n",
              "      <td>public</td>\n",
              "      <td>single</td>\n",
              "      <td>independent</td>\n",
              "      <td>1992</td>\n",
              "      <td>none</td>\n",
              "      <td>thrifty-protector</td>\n",
              "      <td>Catholic</td>\n",
              "      <td>student</td>\n",
              "      <td>black</td>\n",
              "      <td>65</td>\n",
              "      <td>medium</td>\n",
              "      <td>1.69</td>\n",
              "    </tr>\n",
              "  </tbody>\n",
              "</table>\n",
              "</div>"
            ],
            "text/plain": [
              "  userID   latitude   longitude smoker  ...  color weight  budget height\n",
              "0  U1001  22.139997 -100.978803  false  ...  black     69  medium   1.77\n",
              "1  U1002  22.150087 -100.983325  false  ...    red     40     low   1.87\n",
              "2  U1003  22.119847 -100.946527  false  ...   blue     60     low   1.69\n",
              "3  U1004  18.867000  -99.183000  false  ...  green     44  medium   1.53\n",
              "4  U1005  22.183477 -100.959891  false  ...  black     65  medium   1.69\n",
              "\n",
              "[5 rows x 19 columns]"
            ]
          },
          "metadata": {},
          "execution_count": 10
        }
      ]
    },
    {
      "cell_type": "markdown",
      "metadata": {
        "id": "ahRJGxxUcbM8"
      },
      "source": [
        "Menarik. Kita mendapatkan berbagai data mulai dari marital_status, birth_year, smoker, religion, budget, dll. Jika kita ingin membangun sistem rekomendasi yang lebih kompleks, mungkin kita perlu menyertakan fitur-fitur di atas pada model. Data profile ini berguna jika kita ingin membuat sistem rekomendasi berdasarkan demografi atau kondisi sosial pengguna. Namun, untuk studi kasus kali ini, kita tidak akan menggunakan data profile pada model.\n",
        "\n",
        "Pada latihan dengan content-based filtering nanti, data yang dibutuhkan adalah nama restoran dan cuisine. Kita akan menghitung kesamaan (similarity) cuisine dan nama restoran kemudian membuat rekomendasi berdasarkan kesamaan ini. Data-data ini dibutuhkan saat kita membuat sistem rekomendasi dengan teknik lain, misalnya, teknik yang melibatkan demografi."
      ]
    },
    {
      "cell_type": "markdown",
      "metadata": {
        "id": "w8LAINmqci3c"
      },
      "source": [
        "## Rating\n",
        "Selanjutnya, mari kita eksplorasi data yang akan kita gunakan pada model yaitu data rating. Pertama, kita lihat seperti apa data pada variabel rating dengan fungsi head()"
      ]
    },
    {
      "cell_type": "code",
      "metadata": {
        "colab": {
          "base_uri": "https://localhost:8080/",
          "height": 204
        },
        "id": "6AtvsrCXcodd",
        "outputId": "3ff5599d-f7d6-424a-d400-371768ed1755"
      },
      "source": [
        "rating.head()"
      ],
      "execution_count": null,
      "outputs": [
        {
          "output_type": "execute_result",
          "data": {
            "text/html": [
              "<div>\n",
              "<style scoped>\n",
              "    .dataframe tbody tr th:only-of-type {\n",
              "        vertical-align: middle;\n",
              "    }\n",
              "\n",
              "    .dataframe tbody tr th {\n",
              "        vertical-align: top;\n",
              "    }\n",
              "\n",
              "    .dataframe thead th {\n",
              "        text-align: right;\n",
              "    }\n",
              "</style>\n",
              "<table border=\"1\" class=\"dataframe\">\n",
              "  <thead>\n",
              "    <tr style=\"text-align: right;\">\n",
              "      <th></th>\n",
              "      <th>userID</th>\n",
              "      <th>placeID</th>\n",
              "      <th>rating</th>\n",
              "      <th>food_rating</th>\n",
              "      <th>service_rating</th>\n",
              "    </tr>\n",
              "  </thead>\n",
              "  <tbody>\n",
              "    <tr>\n",
              "      <th>0</th>\n",
              "      <td>U1077</td>\n",
              "      <td>135085</td>\n",
              "      <td>2</td>\n",
              "      <td>2</td>\n",
              "      <td>2</td>\n",
              "    </tr>\n",
              "    <tr>\n",
              "      <th>1</th>\n",
              "      <td>U1077</td>\n",
              "      <td>135038</td>\n",
              "      <td>2</td>\n",
              "      <td>2</td>\n",
              "      <td>1</td>\n",
              "    </tr>\n",
              "    <tr>\n",
              "      <th>2</th>\n",
              "      <td>U1077</td>\n",
              "      <td>132825</td>\n",
              "      <td>2</td>\n",
              "      <td>2</td>\n",
              "      <td>2</td>\n",
              "    </tr>\n",
              "    <tr>\n",
              "      <th>3</th>\n",
              "      <td>U1077</td>\n",
              "      <td>135060</td>\n",
              "      <td>1</td>\n",
              "      <td>2</td>\n",
              "      <td>2</td>\n",
              "    </tr>\n",
              "    <tr>\n",
              "      <th>4</th>\n",
              "      <td>U1068</td>\n",
              "      <td>135104</td>\n",
              "      <td>1</td>\n",
              "      <td>1</td>\n",
              "      <td>2</td>\n",
              "    </tr>\n",
              "  </tbody>\n",
              "</table>\n",
              "</div>"
            ],
            "text/plain": [
              "  userID  placeID  rating  food_rating  service_rating\n",
              "0  U1077   135085       2            2               2\n",
              "1  U1077   135038       2            2               1\n",
              "2  U1077   132825       2            2               2\n",
              "3  U1077   135060       1            2               2\n",
              "4  U1068   135104       1            1               2"
            ]
          },
          "metadata": {},
          "execution_count": 11
        }
      ]
    },
    {
      "cell_type": "markdown",
      "metadata": {
        "id": "RuGB7V-NctTj"
      },
      "source": [
        "Dari fungsi rating.head(), kita dapat mengetahui bahwa data rating terdiri dari 5 kolom dengan tiga kategori rating. Kolom-kolom tersebut antara lain:\n",
        "\n",
        "-userID, merupakan identitas pengguna.  \n",
        "-placeID, merupakan identitas restoran.  \n",
        "-Rating, merupakan data rating untuk restoran.  \n",
        "-Food_rating, merupakan data rating untuk makanan atau masakan di restoran tersebut.  \n",
        "-Service_rating, merupakan data layanan restoran tersebut.  \n",
        "Nah, untuk melihat distribusi rating pada data, gunakan fungsi describe()dengan menerapkan kode berikut:"
      ]
    },
    {
      "cell_type": "code",
      "metadata": {
        "colab": {
          "base_uri": "https://localhost:8080/",
          "height": 297
        },
        "id": "tukNUnMHcs_w",
        "outputId": "90ea7a90-06ae-48ac-b62b-1f41b925b2d7"
      },
      "source": [
        "rating.describe()"
      ],
      "execution_count": null,
      "outputs": [
        {
          "output_type": "execute_result",
          "data": {
            "text/html": [
              "<div>\n",
              "<style scoped>\n",
              "    .dataframe tbody tr th:only-of-type {\n",
              "        vertical-align: middle;\n",
              "    }\n",
              "\n",
              "    .dataframe tbody tr th {\n",
              "        vertical-align: top;\n",
              "    }\n",
              "\n",
              "    .dataframe thead th {\n",
              "        text-align: right;\n",
              "    }\n",
              "</style>\n",
              "<table border=\"1\" class=\"dataframe\">\n",
              "  <thead>\n",
              "    <tr style=\"text-align: right;\">\n",
              "      <th></th>\n",
              "      <th>placeID</th>\n",
              "      <th>rating</th>\n",
              "      <th>food_rating</th>\n",
              "      <th>service_rating</th>\n",
              "    </tr>\n",
              "  </thead>\n",
              "  <tbody>\n",
              "    <tr>\n",
              "      <th>count</th>\n",
              "      <td>1161.000000</td>\n",
              "      <td>1161.000000</td>\n",
              "      <td>1161.000000</td>\n",
              "      <td>1161.000000</td>\n",
              "    </tr>\n",
              "    <tr>\n",
              "      <th>mean</th>\n",
              "      <td>134192.041344</td>\n",
              "      <td>1.199828</td>\n",
              "      <td>1.215332</td>\n",
              "      <td>1.090439</td>\n",
              "    </tr>\n",
              "    <tr>\n",
              "      <th>std</th>\n",
              "      <td>1100.916275</td>\n",
              "      <td>0.773282</td>\n",
              "      <td>0.792294</td>\n",
              "      <td>0.790844</td>\n",
              "    </tr>\n",
              "    <tr>\n",
              "      <th>min</th>\n",
              "      <td>132560.000000</td>\n",
              "      <td>0.000000</td>\n",
              "      <td>0.000000</td>\n",
              "      <td>0.000000</td>\n",
              "    </tr>\n",
              "    <tr>\n",
              "      <th>25%</th>\n",
              "      <td>132856.000000</td>\n",
              "      <td>1.000000</td>\n",
              "      <td>1.000000</td>\n",
              "      <td>0.000000</td>\n",
              "    </tr>\n",
              "    <tr>\n",
              "      <th>50%</th>\n",
              "      <td>135030.000000</td>\n",
              "      <td>1.000000</td>\n",
              "      <td>1.000000</td>\n",
              "      <td>1.000000</td>\n",
              "    </tr>\n",
              "    <tr>\n",
              "      <th>75%</th>\n",
              "      <td>135059.000000</td>\n",
              "      <td>2.000000</td>\n",
              "      <td>2.000000</td>\n",
              "      <td>2.000000</td>\n",
              "    </tr>\n",
              "    <tr>\n",
              "      <th>max</th>\n",
              "      <td>135109.000000</td>\n",
              "      <td>2.000000</td>\n",
              "      <td>2.000000</td>\n",
              "      <td>2.000000</td>\n",
              "    </tr>\n",
              "  </tbody>\n",
              "</table>\n",
              "</div>"
            ],
            "text/plain": [
              "             placeID       rating  food_rating  service_rating\n",
              "count    1161.000000  1161.000000  1161.000000     1161.000000\n",
              "mean   134192.041344     1.199828     1.215332        1.090439\n",
              "std      1100.916275     0.773282     0.792294        0.790844\n",
              "min    132560.000000     0.000000     0.000000        0.000000\n",
              "25%    132856.000000     1.000000     1.000000        0.000000\n",
              "50%    135030.000000     1.000000     1.000000        1.000000\n",
              "75%    135059.000000     2.000000     2.000000        2.000000\n",
              "max    135109.000000     2.000000     2.000000        2.000000"
            ]
          },
          "metadata": {},
          "execution_count": 12
        }
      ]
    },
    {
      "cell_type": "markdown",
      "metadata": {
        "id": "9D2H5CzqdIqc"
      },
      "source": [
        "Dari output di atas, diketahui bahwa nilai maksimum rating adalah 2 dan nilai minimumnya adalah 0. Artinya, skala rating berkisar antara 0 hingga 2. \n",
        "\n",
        "Untuk melihat berapa pengguna yang memberikan rating, jumlah restoran, dan jumlah rating, jalankan kode berikut."
      ]
    },
    {
      "cell_type": "code",
      "metadata": {
        "colab": {
          "base_uri": "https://localhost:8080/"
        },
        "id": "0o0GU38FdIWQ",
        "outputId": "e5f901cb-b3d6-4bcf-cd5e-87b7025e924c"
      },
      "source": [
        "print('Jumlah userID: ', len(rating.userID.unique()))\n",
        "print('Jumlah placeID: ', len(rating.placeID.unique()))\n",
        "print('Jumlah data rating: ', len(rating))"
      ],
      "execution_count": null,
      "outputs": [
        {
          "output_type": "stream",
          "name": "stdout",
          "text": [
            "Jumlah userID:  138\n",
            "Jumlah placeID:  130\n",
            "Jumlah data rating:  1161\n"
          ]
        }
      ]
    },
    {
      "cell_type": "markdown",
      "metadata": {
        "id": "4JDbMFjidam-"
      },
      "source": [
        "## Data Preprocessing\n",
        "\n",
        "\n",
        "### Menggabungkan Restoran\n",
        "Pertama, mari kita identifikasi berapa jumlah seluruh restoran pada dataset. Di sini, kita menggunakan library numpy dan fungsi concatenate untuk menggabungkan beberapa file. Pada materi sebelumnya, Anda mengetahui bahwa kesembilan file data kita dibagi ke dalam tiga kategori, yaitu: Restaurant, User, dan Rating. Nah, pada tahap ini, kita akan menggabungkan seluruh data pada kategori Restaurant. Sehingga, kita akan menggunakan placeID yang unik sebagai acuan dalam penggabungan ini. Implementasikan kode berikut.\n",
        "\n",
        "\n",
        "\n"
      ]
    },
    {
      "cell_type": "code",
      "metadata": {
        "colab": {
          "base_uri": "https://localhost:8080/"
        },
        "id": "wUWZhuFWdk36",
        "outputId": "b8c771d4-ff8a-48ee-d09d-c892aa8a2939"
      },
      "source": [
        "import numpy as np\n",
        " \n",
        "# Menggabungkan seluruh placeID pada kategori Restaurant\n",
        "resto_all = np.concatenate((\n",
        "    accepts.placeID.unique(),\n",
        "    cuisine.placeID.unique(),\n",
        "    hours.placeID.unique(),\n",
        "    parking.placeID.unique(),\n",
        "    geo.placeID.unique()\n",
        "))\n",
        " \n",
        "# Mengurutkan data dan menghapus data yang sama\n",
        "resto_all = np.sort(np.unique(resto_all))\n",
        " \n",
        "print('Jumlah seluruh data restoran berdasarkan placeID: ', len(resto_all))"
      ],
      "execution_count": null,
      "outputs": [
        {
          "output_type": "stream",
          "name": "stdout",
          "text": [
            "Jumlah seluruh data restoran berdasarkan placeID:  938\n"
          ]
        }
      ]
    },
    {
      "cell_type": "markdown",
      "metadata": {
        "id": "HDGh2SBAds2u"
      },
      "source": [
        "### Menggabungkan Seluruh User\n",
        "Mari terapkan cara yang sama pada kategori variabel User. Dengan fungsi concatenate dari library numpy, gabungkan seluruh data pada kategori variabel User. Implementasikan kode berikut:"
      ]
    },
    {
      "cell_type": "code",
      "metadata": {
        "colab": {
          "base_uri": "https://localhost:8080/"
        },
        "id": "Ee-_z7-Edsbk",
        "outputId": "b97d0e25-2274-40fd-b3c7-650ea9b011b3"
      },
      "source": [
        "# Menggabungkan seluruh userID\n",
        "user_all = np.concatenate((\n",
        "    usercuisine.userID.unique(),\n",
        "    payment.userID.unique(),\n",
        "    profile.userID.unique()\n",
        "))\n",
        " \n",
        "# Menghapus data yang sama kemudian mengurutkannya\n",
        "user_all = np.sort(np.unique(user_all)) \n",
        " \n",
        "print('Jumlah seluruh user: ', len(user_all))"
      ],
      "execution_count": null,
      "outputs": [
        {
          "output_type": "stream",
          "name": "stdout",
          "text": [
            "Jumlah seluruh user:  138\n"
          ]
        }
      ]
    },
    {
      "cell_type": "markdown",
      "metadata": {
        "id": "MMVOJKQEd0NU"
      },
      "source": [
        "### Mengetahui Jumlah Rating\n",
        "Untuk mengetahui jumlah seluruh rating dari berbagai file, implementasikan kode berikut."
      ]
    },
    {
      "cell_type": "code",
      "metadata": {
        "colab": {
          "base_uri": "https://localhost:8080/",
          "height": 609
        },
        "id": "Z6o8vxu9d4cd",
        "outputId": "01deca3f-5d31-4d32-89b2-bd4c9dfc481e"
      },
      "source": [
        "# Menggabungkan file accepts, geo, parking, hours ke dalam dataframe resto_info \n",
        "resto_info = pd.concat([accepts, geo, parking, hours])\n",
        " \n",
        "# Menggabungkan dataframe rating dengan resto_info berdasarkan nilai placeID\n",
        "resto = pd.merge(rating, resto_info , on='placeID', how='left')\n",
        "resto"
      ],
      "execution_count": null,
      "outputs": [
        {
          "output_type": "execute_result",
          "data": {
            "text/html": [
              "<div>\n",
              "<style scoped>\n",
              "    .dataframe tbody tr th:only-of-type {\n",
              "        vertical-align: middle;\n",
              "    }\n",
              "\n",
              "    .dataframe tbody tr th {\n",
              "        vertical-align: top;\n",
              "    }\n",
              "\n",
              "    .dataframe thead th {\n",
              "        text-align: right;\n",
              "    }\n",
              "</style>\n",
              "<table border=\"1\" class=\"dataframe\">\n",
              "  <thead>\n",
              "    <tr style=\"text-align: right;\">\n",
              "      <th></th>\n",
              "      <th>userID</th>\n",
              "      <th>placeID</th>\n",
              "      <th>rating</th>\n",
              "      <th>food_rating</th>\n",
              "      <th>service_rating</th>\n",
              "      <th>Rpayment</th>\n",
              "      <th>latitude</th>\n",
              "      <th>longitude</th>\n",
              "      <th>the_geom_meter</th>\n",
              "      <th>name</th>\n",
              "      <th>address</th>\n",
              "      <th>city</th>\n",
              "      <th>state</th>\n",
              "      <th>country</th>\n",
              "      <th>fax</th>\n",
              "      <th>zip</th>\n",
              "      <th>alcohol</th>\n",
              "      <th>smoking_area</th>\n",
              "      <th>dress_code</th>\n",
              "      <th>accessibility</th>\n",
              "      <th>price</th>\n",
              "      <th>url</th>\n",
              "      <th>Rambience</th>\n",
              "      <th>franchise</th>\n",
              "      <th>area</th>\n",
              "      <th>other_services</th>\n",
              "      <th>parking_lot</th>\n",
              "      <th>hours</th>\n",
              "      <th>days</th>\n",
              "    </tr>\n",
              "  </thead>\n",
              "  <tbody>\n",
              "    <tr>\n",
              "      <th>0</th>\n",
              "      <td>U1077</td>\n",
              "      <td>135085</td>\n",
              "      <td>2</td>\n",
              "      <td>2</td>\n",
              "      <td>2</td>\n",
              "      <td>cash</td>\n",
              "      <td>NaN</td>\n",
              "      <td>NaN</td>\n",
              "      <td>NaN</td>\n",
              "      <td>NaN</td>\n",
              "      <td>NaN</td>\n",
              "      <td>NaN</td>\n",
              "      <td>NaN</td>\n",
              "      <td>NaN</td>\n",
              "      <td>NaN</td>\n",
              "      <td>NaN</td>\n",
              "      <td>NaN</td>\n",
              "      <td>NaN</td>\n",
              "      <td>NaN</td>\n",
              "      <td>NaN</td>\n",
              "      <td>NaN</td>\n",
              "      <td>NaN</td>\n",
              "      <td>NaN</td>\n",
              "      <td>NaN</td>\n",
              "      <td>NaN</td>\n",
              "      <td>NaN</td>\n",
              "      <td>NaN</td>\n",
              "      <td>NaN</td>\n",
              "      <td>NaN</td>\n",
              "    </tr>\n",
              "    <tr>\n",
              "      <th>1</th>\n",
              "      <td>U1077</td>\n",
              "      <td>135085</td>\n",
              "      <td>2</td>\n",
              "      <td>2</td>\n",
              "      <td>2</td>\n",
              "      <td>NaN</td>\n",
              "      <td>22.150802</td>\n",
              "      <td>-100.982680</td>\n",
              "      <td>0101000020957F00009F823DA6094858C18A2D4D37F9A4...</td>\n",
              "      <td>Tortas Locas Hipocampo</td>\n",
              "      <td>Venustiano Carranza 719 Centro</td>\n",
              "      <td>San Luis Potosi</td>\n",
              "      <td>SLP</td>\n",
              "      <td>Mexico</td>\n",
              "      <td>?</td>\n",
              "      <td>78000</td>\n",
              "      <td>No_Alcohol_Served</td>\n",
              "      <td>not permitted</td>\n",
              "      <td>informal</td>\n",
              "      <td>no_accessibility</td>\n",
              "      <td>medium</td>\n",
              "      <td>?</td>\n",
              "      <td>familiar</td>\n",
              "      <td>f</td>\n",
              "      <td>closed</td>\n",
              "      <td>none</td>\n",
              "      <td>NaN</td>\n",
              "      <td>NaN</td>\n",
              "      <td>NaN</td>\n",
              "    </tr>\n",
              "    <tr>\n",
              "      <th>2</th>\n",
              "      <td>U1077</td>\n",
              "      <td>135085</td>\n",
              "      <td>2</td>\n",
              "      <td>2</td>\n",
              "      <td>2</td>\n",
              "      <td>NaN</td>\n",
              "      <td>NaN</td>\n",
              "      <td>NaN</td>\n",
              "      <td>NaN</td>\n",
              "      <td>NaN</td>\n",
              "      <td>NaN</td>\n",
              "      <td>NaN</td>\n",
              "      <td>NaN</td>\n",
              "      <td>NaN</td>\n",
              "      <td>NaN</td>\n",
              "      <td>NaN</td>\n",
              "      <td>NaN</td>\n",
              "      <td>NaN</td>\n",
              "      <td>NaN</td>\n",
              "      <td>NaN</td>\n",
              "      <td>NaN</td>\n",
              "      <td>NaN</td>\n",
              "      <td>NaN</td>\n",
              "      <td>NaN</td>\n",
              "      <td>NaN</td>\n",
              "      <td>NaN</td>\n",
              "      <td>public</td>\n",
              "      <td>NaN</td>\n",
              "      <td>NaN</td>\n",
              "    </tr>\n",
              "    <tr>\n",
              "      <th>3</th>\n",
              "      <td>U1077</td>\n",
              "      <td>135085</td>\n",
              "      <td>2</td>\n",
              "      <td>2</td>\n",
              "      <td>2</td>\n",
              "      <td>NaN</td>\n",
              "      <td>NaN</td>\n",
              "      <td>NaN</td>\n",
              "      <td>NaN</td>\n",
              "      <td>NaN</td>\n",
              "      <td>NaN</td>\n",
              "      <td>NaN</td>\n",
              "      <td>NaN</td>\n",
              "      <td>NaN</td>\n",
              "      <td>NaN</td>\n",
              "      <td>NaN</td>\n",
              "      <td>NaN</td>\n",
              "      <td>NaN</td>\n",
              "      <td>NaN</td>\n",
              "      <td>NaN</td>\n",
              "      <td>NaN</td>\n",
              "      <td>NaN</td>\n",
              "      <td>NaN</td>\n",
              "      <td>NaN</td>\n",
              "      <td>NaN</td>\n",
              "      <td>NaN</td>\n",
              "      <td>NaN</td>\n",
              "      <td>00:00-00:00;</td>\n",
              "      <td>Mon;Tue;Wed;Thu;Fri;</td>\n",
              "    </tr>\n",
              "    <tr>\n",
              "      <th>4</th>\n",
              "      <td>U1077</td>\n",
              "      <td>135085</td>\n",
              "      <td>2</td>\n",
              "      <td>2</td>\n",
              "      <td>2</td>\n",
              "      <td>NaN</td>\n",
              "      <td>NaN</td>\n",
              "      <td>NaN</td>\n",
              "      <td>NaN</td>\n",
              "      <td>NaN</td>\n",
              "      <td>NaN</td>\n",
              "      <td>NaN</td>\n",
              "      <td>NaN</td>\n",
              "      <td>NaN</td>\n",
              "      <td>NaN</td>\n",
              "      <td>NaN</td>\n",
              "      <td>NaN</td>\n",
              "      <td>NaN</td>\n",
              "      <td>NaN</td>\n",
              "      <td>NaN</td>\n",
              "      <td>NaN</td>\n",
              "      <td>NaN</td>\n",
              "      <td>NaN</td>\n",
              "      <td>NaN</td>\n",
              "      <td>NaN</td>\n",
              "      <td>NaN</td>\n",
              "      <td>NaN</td>\n",
              "      <td>00:00-00:00;</td>\n",
              "      <td>Sat;</td>\n",
              "    </tr>\n",
              "    <tr>\n",
              "      <th>...</th>\n",
              "      <td>...</td>\n",
              "      <td>...</td>\n",
              "      <td>...</td>\n",
              "      <td>...</td>\n",
              "      <td>...</td>\n",
              "      <td>...</td>\n",
              "      <td>...</td>\n",
              "      <td>...</td>\n",
              "      <td>...</td>\n",
              "      <td>...</td>\n",
              "      <td>...</td>\n",
              "      <td>...</td>\n",
              "      <td>...</td>\n",
              "      <td>...</td>\n",
              "      <td>...</td>\n",
              "      <td>...</td>\n",
              "      <td>...</td>\n",
              "      <td>...</td>\n",
              "      <td>...</td>\n",
              "      <td>...</td>\n",
              "      <td>...</td>\n",
              "      <td>...</td>\n",
              "      <td>...</td>\n",
              "      <td>...</td>\n",
              "      <td>...</td>\n",
              "      <td>...</td>\n",
              "      <td>...</td>\n",
              "      <td>...</td>\n",
              "      <td>...</td>\n",
              "    </tr>\n",
              "    <tr>\n",
              "      <th>8073</th>\n",
              "      <td>U1068</td>\n",
              "      <td>132660</td>\n",
              "      <td>0</td>\n",
              "      <td>0</td>\n",
              "      <td>0</td>\n",
              "      <td>NaN</td>\n",
              "      <td>23.752943</td>\n",
              "      <td>-99.164679</td>\n",
              "      <td>0101000020957F00003D7905C9DC8157C13FCD1AB7334E...</td>\n",
              "      <td>carnitas mata calle Emilio Portes Gil</td>\n",
              "      <td>Emilio Portes Gil</td>\n",
              "      <td>victoria</td>\n",
              "      <td>tamaulipas</td>\n",
              "      <td>?</td>\n",
              "      <td>?</td>\n",
              "      <td>?</td>\n",
              "      <td>No_Alcohol_Served</td>\n",
              "      <td>none</td>\n",
              "      <td>informal</td>\n",
              "      <td>completely</td>\n",
              "      <td>low</td>\n",
              "      <td>?</td>\n",
              "      <td>familiar</td>\n",
              "      <td>f</td>\n",
              "      <td>closed</td>\n",
              "      <td>none</td>\n",
              "      <td>NaN</td>\n",
              "      <td>NaN</td>\n",
              "      <td>NaN</td>\n",
              "    </tr>\n",
              "    <tr>\n",
              "      <th>8074</th>\n",
              "      <td>U1068</td>\n",
              "      <td>132660</td>\n",
              "      <td>0</td>\n",
              "      <td>0</td>\n",
              "      <td>0</td>\n",
              "      <td>NaN</td>\n",
              "      <td>NaN</td>\n",
              "      <td>NaN</td>\n",
              "      <td>NaN</td>\n",
              "      <td>NaN</td>\n",
              "      <td>NaN</td>\n",
              "      <td>NaN</td>\n",
              "      <td>NaN</td>\n",
              "      <td>NaN</td>\n",
              "      <td>NaN</td>\n",
              "      <td>NaN</td>\n",
              "      <td>NaN</td>\n",
              "      <td>NaN</td>\n",
              "      <td>NaN</td>\n",
              "      <td>NaN</td>\n",
              "      <td>NaN</td>\n",
              "      <td>NaN</td>\n",
              "      <td>NaN</td>\n",
              "      <td>NaN</td>\n",
              "      <td>NaN</td>\n",
              "      <td>NaN</td>\n",
              "      <td>none</td>\n",
              "      <td>NaN</td>\n",
              "      <td>NaN</td>\n",
              "    </tr>\n",
              "    <tr>\n",
              "      <th>8075</th>\n",
              "      <td>U1068</td>\n",
              "      <td>132660</td>\n",
              "      <td>0</td>\n",
              "      <td>0</td>\n",
              "      <td>0</td>\n",
              "      <td>NaN</td>\n",
              "      <td>NaN</td>\n",
              "      <td>NaN</td>\n",
              "      <td>NaN</td>\n",
              "      <td>NaN</td>\n",
              "      <td>NaN</td>\n",
              "      <td>NaN</td>\n",
              "      <td>NaN</td>\n",
              "      <td>NaN</td>\n",
              "      <td>NaN</td>\n",
              "      <td>NaN</td>\n",
              "      <td>NaN</td>\n",
              "      <td>NaN</td>\n",
              "      <td>NaN</td>\n",
              "      <td>NaN</td>\n",
              "      <td>NaN</td>\n",
              "      <td>NaN</td>\n",
              "      <td>NaN</td>\n",
              "      <td>NaN</td>\n",
              "      <td>NaN</td>\n",
              "      <td>NaN</td>\n",
              "      <td>NaN</td>\n",
              "      <td>00:00-23:30;</td>\n",
              "      <td>Mon;Tue;Wed;Thu;Fri;</td>\n",
              "    </tr>\n",
              "    <tr>\n",
              "      <th>8076</th>\n",
              "      <td>U1068</td>\n",
              "      <td>132660</td>\n",
              "      <td>0</td>\n",
              "      <td>0</td>\n",
              "      <td>0</td>\n",
              "      <td>NaN</td>\n",
              "      <td>NaN</td>\n",
              "      <td>NaN</td>\n",
              "      <td>NaN</td>\n",
              "      <td>NaN</td>\n",
              "      <td>NaN</td>\n",
              "      <td>NaN</td>\n",
              "      <td>NaN</td>\n",
              "      <td>NaN</td>\n",
              "      <td>NaN</td>\n",
              "      <td>NaN</td>\n",
              "      <td>NaN</td>\n",
              "      <td>NaN</td>\n",
              "      <td>NaN</td>\n",
              "      <td>NaN</td>\n",
              "      <td>NaN</td>\n",
              "      <td>NaN</td>\n",
              "      <td>NaN</td>\n",
              "      <td>NaN</td>\n",
              "      <td>NaN</td>\n",
              "      <td>NaN</td>\n",
              "      <td>NaN</td>\n",
              "      <td>00:00-23:30;</td>\n",
              "      <td>Sat;</td>\n",
              "    </tr>\n",
              "    <tr>\n",
              "      <th>8077</th>\n",
              "      <td>U1068</td>\n",
              "      <td>132660</td>\n",
              "      <td>0</td>\n",
              "      <td>0</td>\n",
              "      <td>0</td>\n",
              "      <td>NaN</td>\n",
              "      <td>NaN</td>\n",
              "      <td>NaN</td>\n",
              "      <td>NaN</td>\n",
              "      <td>NaN</td>\n",
              "      <td>NaN</td>\n",
              "      <td>NaN</td>\n",
              "      <td>NaN</td>\n",
              "      <td>NaN</td>\n",
              "      <td>NaN</td>\n",
              "      <td>NaN</td>\n",
              "      <td>NaN</td>\n",
              "      <td>NaN</td>\n",
              "      <td>NaN</td>\n",
              "      <td>NaN</td>\n",
              "      <td>NaN</td>\n",
              "      <td>NaN</td>\n",
              "      <td>NaN</td>\n",
              "      <td>NaN</td>\n",
              "      <td>NaN</td>\n",
              "      <td>NaN</td>\n",
              "      <td>NaN</td>\n",
              "      <td>00:00-23:30;</td>\n",
              "      <td>Sun;</td>\n",
              "    </tr>\n",
              "  </tbody>\n",
              "</table>\n",
              "<p>8078 rows × 29 columns</p>\n",
              "</div>"
            ],
            "text/plain": [
              "     userID  placeID  rating  ...  parking_lot         hours                  days\n",
              "0     U1077   135085       2  ...          NaN           NaN                   NaN\n",
              "1     U1077   135085       2  ...          NaN           NaN                   NaN\n",
              "2     U1077   135085       2  ...       public           NaN                   NaN\n",
              "3     U1077   135085       2  ...          NaN  00:00-00:00;  Mon;Tue;Wed;Thu;Fri;\n",
              "4     U1077   135085       2  ...          NaN  00:00-00:00;                  Sat;\n",
              "...     ...      ...     ...  ...          ...           ...                   ...\n",
              "8073  U1068   132660       0  ...          NaN           NaN                   NaN\n",
              "8074  U1068   132660       0  ...         none           NaN                   NaN\n",
              "8075  U1068   132660       0  ...          NaN  00:00-23:30;  Mon;Tue;Wed;Thu;Fri;\n",
              "8076  U1068   132660       0  ...          NaN  00:00-23:30;                  Sat;\n",
              "8077  U1068   132660       0  ...          NaN  00:00-23:30;                  Sun;\n",
              "\n",
              "[8078 rows x 29 columns]"
            ]
          },
          "metadata": {},
          "execution_count": 16
        }
      ]
    },
    {
      "cell_type": "markdown",
      "metadata": {
        "id": "jJYUmT4geR6y"
      },
      "source": [
        "Variabel setelah dilakukan merge sangat banyak. Output di atas hanya menampilkan sebagian variabel saja. Perhatikanlah, kita memiliki banyak sekali missing value di sini. Mari kita cek lebih lanjut dengan kode berikut."
      ]
    },
    {
      "cell_type": "code",
      "metadata": {
        "colab": {
          "base_uri": "https://localhost:8080/"
        },
        "id": "c4bGIhrHeT4b",
        "outputId": "673531c9-97ee-4d2a-bd39-4570c5d7d5b3"
      },
      "source": [
        "# Cek missing value dengan fungsi isnull()\n",
        "resto.isnull().sum()"
      ],
      "execution_count": null,
      "outputs": [
        {
          "output_type": "execute_result",
          "data": {
            "text/plain": [
              "userID               0\n",
              "placeID              0\n",
              "rating               0\n",
              "food_rating          0\n",
              "service_rating       0\n",
              "Rpayment          5781\n",
              "latitude          6917\n",
              "longitude         6917\n",
              "the_geom_meter    6917\n",
              "name              6917\n",
              "address           6917\n",
              "city              6917\n",
              "state             6917\n",
              "country           6917\n",
              "fax               6917\n",
              "zip               6917\n",
              "alcohol           6917\n",
              "smoking_area      6917\n",
              "dress_code        6917\n",
              "accessibility     6917\n",
              "price             6917\n",
              "url               6917\n",
              "Rambience         6917\n",
              "franchise         6917\n",
              "area              6917\n",
              "other_services    6917\n",
              "parking_lot       6917\n",
              "hours             4619\n",
              "days              4619\n",
              "dtype: int64"
            ]
          },
          "metadata": {},
          "execution_count": 17
        }
      ]
    },
    {
      "cell_type": "markdown",
      "metadata": {
        "id": "ETl7JEAGeWub"
      },
      "source": [
        "Terdapat banyak missing value pada sebagian besar fitur. Hanya fitur userID, placeID, rating, food_rating, dan service_rating saja yang memiliki 0 missing value. Selanjutnya, mari kita hitung jumlah rating, food_rating, dan service rating berdasarkan place.ID dengan kode berikut."
      ]
    },
    {
      "cell_type": "code",
      "metadata": {
        "colab": {
          "base_uri": "https://localhost:8080/",
          "height": 450
        },
        "id": "J8P4byuEeaP0",
        "outputId": "56cd4e97-7256-4bce-e55d-59dd7e8bd078"
      },
      "source": [
        "# Menghitung jumlah rating, food_rating, dan service kemudian menggabungkannya berdasarkan placeID\n",
        "resto.groupby('placeID').sum()"
      ],
      "execution_count": null,
      "outputs": [
        {
          "output_type": "execute_result",
          "data": {
            "text/html": [
              "<div>\n",
              "<style scoped>\n",
              "    .dataframe tbody tr th:only-of-type {\n",
              "        vertical-align: middle;\n",
              "    }\n",
              "\n",
              "    .dataframe tbody tr th {\n",
              "        vertical-align: top;\n",
              "    }\n",
              "\n",
              "    .dataframe thead th {\n",
              "        text-align: right;\n",
              "    }\n",
              "</style>\n",
              "<table border=\"1\" class=\"dataframe\">\n",
              "  <thead>\n",
              "    <tr style=\"text-align: right;\">\n",
              "      <th></th>\n",
              "      <th>rating</th>\n",
              "      <th>food_rating</th>\n",
              "      <th>service_rating</th>\n",
              "      <th>latitude</th>\n",
              "      <th>longitude</th>\n",
              "    </tr>\n",
              "    <tr>\n",
              "      <th>placeID</th>\n",
              "      <th></th>\n",
              "      <th></th>\n",
              "      <th></th>\n",
              "      <th></th>\n",
              "      <th></th>\n",
              "    </tr>\n",
              "  </thead>\n",
              "  <tbody>\n",
              "    <tr>\n",
              "      <th>132560</th>\n",
              "      <td>12</td>\n",
              "      <td>24</td>\n",
              "      <td>6</td>\n",
              "      <td>95.009216</td>\n",
              "      <td>-396.667653</td>\n",
              "    </tr>\n",
              "    <tr>\n",
              "      <th>132561</th>\n",
              "      <td>15</td>\n",
              "      <td>20</td>\n",
              "      <td>20</td>\n",
              "      <td>94.907276</td>\n",
              "      <td>-396.506024</td>\n",
              "    </tr>\n",
              "    <tr>\n",
              "      <th>132564</th>\n",
              "      <td>25</td>\n",
              "      <td>25</td>\n",
              "      <td>30</td>\n",
              "      <td>94.923698</td>\n",
              "      <td>-396.580739</td>\n",
              "    </tr>\n",
              "    <tr>\n",
              "      <th>132572</th>\n",
              "      <td>90</td>\n",
              "      <td>90</td>\n",
              "      <td>84</td>\n",
              "      <td>332.124707</td>\n",
              "      <td>-1514.890677</td>\n",
              "    </tr>\n",
              "    <tr>\n",
              "      <th>132583</th>\n",
              "      <td>24</td>\n",
              "      <td>24</td>\n",
              "      <td>30</td>\n",
              "      <td>75.689162</td>\n",
              "      <td>-396.937328</td>\n",
              "    </tr>\n",
              "    <tr>\n",
              "      <th>...</th>\n",
              "      <td>...</td>\n",
              "      <td>...</td>\n",
              "      <td>...</td>\n",
              "      <td>...</td>\n",
              "      <td>...</td>\n",
              "    </tr>\n",
              "    <tr>\n",
              "      <th>135088</th>\n",
              "      <td>36</td>\n",
              "      <td>42</td>\n",
              "      <td>36</td>\n",
              "      <td>113.256068</td>\n",
              "      <td>-595.319338</td>\n",
              "    </tr>\n",
              "    <tr>\n",
              "      <th>135104</th>\n",
              "      <td>48</td>\n",
              "      <td>80</td>\n",
              "      <td>48</td>\n",
              "      <td>166.270875</td>\n",
              "      <td>-694.179039</td>\n",
              "    </tr>\n",
              "    <tr>\n",
              "      <th>135106</th>\n",
              "      <td>96</td>\n",
              "      <td>96</td>\n",
              "      <td>96</td>\n",
              "      <td>221.497088</td>\n",
              "      <td>-1009.760928</td>\n",
              "    </tr>\n",
              "    <tr>\n",
              "      <th>135108</th>\n",
              "      <td>65</td>\n",
              "      <td>65</td>\n",
              "      <td>55</td>\n",
              "      <td>243.498787</td>\n",
              "      <td>-1110.269437</td>\n",
              "    </tr>\n",
              "    <tr>\n",
              "      <th>135109</th>\n",
              "      <td>24</td>\n",
              "      <td>30</td>\n",
              "      <td>18</td>\n",
              "      <td>75.687139</td>\n",
              "      <td>-396.941400</td>\n",
              "    </tr>\n",
              "  </tbody>\n",
              "</table>\n",
              "<p>130 rows × 5 columns</p>\n",
              "</div>"
            ],
            "text/plain": [
              "         rating  food_rating  service_rating    latitude    longitude\n",
              "placeID                                                              \n",
              "132560       12           24               6   95.009216  -396.667653\n",
              "132561       15           20              20   94.907276  -396.506024\n",
              "132564       25           25              30   94.923698  -396.580739\n",
              "132572       90           90              84  332.124707 -1514.890677\n",
              "132583       24           24              30   75.689162  -396.937328\n",
              "...         ...          ...             ...         ...          ...\n",
              "135088       36           42              36  113.256068  -595.319338\n",
              "135104       48           80              48  166.270875  -694.179039\n",
              "135106       96           96              96  221.497088 -1009.760928\n",
              "135108       65           65              55  243.498787 -1110.269437\n",
              "135109       24           30              18   75.687139  -396.941400\n",
              "\n",
              "[130 rows x 5 columns]"
            ]
          },
          "metadata": {},
          "execution_count": 18
        }
      ]
    },
    {
      "cell_type": "markdown",
      "metadata": {
        "id": "9pNaVVD9ekSS"
      },
      "source": [
        "### Menggabungkan Data dengan Fitur Nama Resto\n",
        "Pertama, definisikan variabel all_resto_rate dengan variabel rating yang telah kita ketahui sebelumnya. Jalankan kode berikut."
      ]
    },
    {
      "cell_type": "code",
      "metadata": {
        "colab": {
          "base_uri": "https://localhost:8080/",
          "height": 419
        },
        "id": "sNijmVwJenTL",
        "outputId": "5c67f0a7-52c8-43e9-821a-04f984e9b210"
      },
      "source": [
        "# Definisikan dataframe rating ke dalam variabel all_resto_rate\n",
        "all_resto_rate = rating\n",
        "all_resto_rate"
      ],
      "execution_count": null,
      "outputs": [
        {
          "output_type": "execute_result",
          "data": {
            "text/html": [
              "<div>\n",
              "<style scoped>\n",
              "    .dataframe tbody tr th:only-of-type {\n",
              "        vertical-align: middle;\n",
              "    }\n",
              "\n",
              "    .dataframe tbody tr th {\n",
              "        vertical-align: top;\n",
              "    }\n",
              "\n",
              "    .dataframe thead th {\n",
              "        text-align: right;\n",
              "    }\n",
              "</style>\n",
              "<table border=\"1\" class=\"dataframe\">\n",
              "  <thead>\n",
              "    <tr style=\"text-align: right;\">\n",
              "      <th></th>\n",
              "      <th>userID</th>\n",
              "      <th>placeID</th>\n",
              "      <th>rating</th>\n",
              "      <th>food_rating</th>\n",
              "      <th>service_rating</th>\n",
              "    </tr>\n",
              "  </thead>\n",
              "  <tbody>\n",
              "    <tr>\n",
              "      <th>0</th>\n",
              "      <td>U1077</td>\n",
              "      <td>135085</td>\n",
              "      <td>2</td>\n",
              "      <td>2</td>\n",
              "      <td>2</td>\n",
              "    </tr>\n",
              "    <tr>\n",
              "      <th>1</th>\n",
              "      <td>U1077</td>\n",
              "      <td>135038</td>\n",
              "      <td>2</td>\n",
              "      <td>2</td>\n",
              "      <td>1</td>\n",
              "    </tr>\n",
              "    <tr>\n",
              "      <th>2</th>\n",
              "      <td>U1077</td>\n",
              "      <td>132825</td>\n",
              "      <td>2</td>\n",
              "      <td>2</td>\n",
              "      <td>2</td>\n",
              "    </tr>\n",
              "    <tr>\n",
              "      <th>3</th>\n",
              "      <td>U1077</td>\n",
              "      <td>135060</td>\n",
              "      <td>1</td>\n",
              "      <td>2</td>\n",
              "      <td>2</td>\n",
              "    </tr>\n",
              "    <tr>\n",
              "      <th>4</th>\n",
              "      <td>U1068</td>\n",
              "      <td>135104</td>\n",
              "      <td>1</td>\n",
              "      <td>1</td>\n",
              "      <td>2</td>\n",
              "    </tr>\n",
              "    <tr>\n",
              "      <th>...</th>\n",
              "      <td>...</td>\n",
              "      <td>...</td>\n",
              "      <td>...</td>\n",
              "      <td>...</td>\n",
              "      <td>...</td>\n",
              "    </tr>\n",
              "    <tr>\n",
              "      <th>1156</th>\n",
              "      <td>U1043</td>\n",
              "      <td>132630</td>\n",
              "      <td>1</td>\n",
              "      <td>1</td>\n",
              "      <td>1</td>\n",
              "    </tr>\n",
              "    <tr>\n",
              "      <th>1157</th>\n",
              "      <td>U1011</td>\n",
              "      <td>132715</td>\n",
              "      <td>1</td>\n",
              "      <td>1</td>\n",
              "      <td>0</td>\n",
              "    </tr>\n",
              "    <tr>\n",
              "      <th>1158</th>\n",
              "      <td>U1068</td>\n",
              "      <td>132733</td>\n",
              "      <td>1</td>\n",
              "      <td>1</td>\n",
              "      <td>0</td>\n",
              "    </tr>\n",
              "    <tr>\n",
              "      <th>1159</th>\n",
              "      <td>U1068</td>\n",
              "      <td>132594</td>\n",
              "      <td>1</td>\n",
              "      <td>1</td>\n",
              "      <td>1</td>\n",
              "    </tr>\n",
              "    <tr>\n",
              "      <th>1160</th>\n",
              "      <td>U1068</td>\n",
              "      <td>132660</td>\n",
              "      <td>0</td>\n",
              "      <td>0</td>\n",
              "      <td>0</td>\n",
              "    </tr>\n",
              "  </tbody>\n",
              "</table>\n",
              "<p>1161 rows × 5 columns</p>\n",
              "</div>"
            ],
            "text/plain": [
              "     userID  placeID  rating  food_rating  service_rating\n",
              "0     U1077   135085       2            2               2\n",
              "1     U1077   135038       2            2               1\n",
              "2     U1077   132825       2            2               2\n",
              "3     U1077   135060       1            2               2\n",
              "4     U1068   135104       1            1               2\n",
              "...     ...      ...     ...          ...             ...\n",
              "1156  U1043   132630       1            1               1\n",
              "1157  U1011   132715       1            1               0\n",
              "1158  U1068   132733       1            1               0\n",
              "1159  U1068   132594       1            1               1\n",
              "1160  U1068   132660       0            0               0\n",
              "\n",
              "[1161 rows x 5 columns]"
            ]
          },
          "metadata": {},
          "execution_count": 19
        }
      ]
    },
    {
      "cell_type": "markdown",
      "metadata": {
        "id": "Lz8HHnLyevq9"
      },
      "source": [
        "Selanjutnya, untuk mengetahui nama restoran dengan placeID tertentu, mari kita gabungkan data geo yang berisikan placeID dan nama resto berdasarkan placeID dan assign ke variabel all_resto_name dengan fungsi merge dari library pandas."
      ]
    },
    {
      "cell_type": "code",
      "metadata": {
        "colab": {
          "base_uri": "https://localhost:8080/",
          "height": 419
        },
        "id": "WwucJQmnevTF",
        "outputId": "378fb428-4a09-46fe-d643-b8cdc39512fd"
      },
      "source": [
        "# Menggabungkan all resto_rate dengan dataframe geo berdasarkan placeID\n",
        "all_resto_name = pd.merge(all_resto_rate, geo[['placeID','name']], on='placeID', how='left')\n",
        " \n",
        "# Print dataframe all_resto_name\n",
        "all_resto_name"
      ],
      "execution_count": null,
      "outputs": [
        {
          "output_type": "execute_result",
          "data": {
            "text/html": [
              "<div>\n",
              "<style scoped>\n",
              "    .dataframe tbody tr th:only-of-type {\n",
              "        vertical-align: middle;\n",
              "    }\n",
              "\n",
              "    .dataframe tbody tr th {\n",
              "        vertical-align: top;\n",
              "    }\n",
              "\n",
              "    .dataframe thead th {\n",
              "        text-align: right;\n",
              "    }\n",
              "</style>\n",
              "<table border=\"1\" class=\"dataframe\">\n",
              "  <thead>\n",
              "    <tr style=\"text-align: right;\">\n",
              "      <th></th>\n",
              "      <th>userID</th>\n",
              "      <th>placeID</th>\n",
              "      <th>rating</th>\n",
              "      <th>food_rating</th>\n",
              "      <th>service_rating</th>\n",
              "      <th>name</th>\n",
              "    </tr>\n",
              "  </thead>\n",
              "  <tbody>\n",
              "    <tr>\n",
              "      <th>0</th>\n",
              "      <td>U1077</td>\n",
              "      <td>135085</td>\n",
              "      <td>2</td>\n",
              "      <td>2</td>\n",
              "      <td>2</td>\n",
              "      <td>Tortas Locas Hipocampo</td>\n",
              "    </tr>\n",
              "    <tr>\n",
              "      <th>1</th>\n",
              "      <td>U1077</td>\n",
              "      <td>135038</td>\n",
              "      <td>2</td>\n",
              "      <td>2</td>\n",
              "      <td>1</td>\n",
              "      <td>Restaurant la Chalita</td>\n",
              "    </tr>\n",
              "    <tr>\n",
              "      <th>2</th>\n",
              "      <td>U1077</td>\n",
              "      <td>132825</td>\n",
              "      <td>2</td>\n",
              "      <td>2</td>\n",
              "      <td>2</td>\n",
              "      <td>puesto de tacos</td>\n",
              "    </tr>\n",
              "    <tr>\n",
              "      <th>3</th>\n",
              "      <td>U1077</td>\n",
              "      <td>135060</td>\n",
              "      <td>1</td>\n",
              "      <td>2</td>\n",
              "      <td>2</td>\n",
              "      <td>Restaurante Marisco Sam</td>\n",
              "    </tr>\n",
              "    <tr>\n",
              "      <th>4</th>\n",
              "      <td>U1068</td>\n",
              "      <td>135104</td>\n",
              "      <td>1</td>\n",
              "      <td>1</td>\n",
              "      <td>2</td>\n",
              "      <td>vips</td>\n",
              "    </tr>\n",
              "    <tr>\n",
              "      <th>...</th>\n",
              "      <td>...</td>\n",
              "      <td>...</td>\n",
              "      <td>...</td>\n",
              "      <td>...</td>\n",
              "      <td>...</td>\n",
              "      <td>...</td>\n",
              "    </tr>\n",
              "    <tr>\n",
              "      <th>1156</th>\n",
              "      <td>U1043</td>\n",
              "      <td>132630</td>\n",
              "      <td>1</td>\n",
              "      <td>1</td>\n",
              "      <td>1</td>\n",
              "      <td>palomo tec</td>\n",
              "    </tr>\n",
              "    <tr>\n",
              "      <th>1157</th>\n",
              "      <td>U1011</td>\n",
              "      <td>132715</td>\n",
              "      <td>1</td>\n",
              "      <td>1</td>\n",
              "      <td>0</td>\n",
              "      <td>tacos de la estacion</td>\n",
              "    </tr>\n",
              "    <tr>\n",
              "      <th>1158</th>\n",
              "      <td>U1068</td>\n",
              "      <td>132733</td>\n",
              "      <td>1</td>\n",
              "      <td>1</td>\n",
              "      <td>0</td>\n",
              "      <td>Little Cesarz</td>\n",
              "    </tr>\n",
              "    <tr>\n",
              "      <th>1159</th>\n",
              "      <td>U1068</td>\n",
              "      <td>132594</td>\n",
              "      <td>1</td>\n",
              "      <td>1</td>\n",
              "      <td>1</td>\n",
              "      <td>tacos de barbacoa enfrente del Tec</td>\n",
              "    </tr>\n",
              "    <tr>\n",
              "      <th>1160</th>\n",
              "      <td>U1068</td>\n",
              "      <td>132660</td>\n",
              "      <td>0</td>\n",
              "      <td>0</td>\n",
              "      <td>0</td>\n",
              "      <td>carnitas mata calle Emilio Portes Gil</td>\n",
              "    </tr>\n",
              "  </tbody>\n",
              "</table>\n",
              "<p>1161 rows × 6 columns</p>\n",
              "</div>"
            ],
            "text/plain": [
              "     userID  placeID  ...  service_rating                                   name\n",
              "0     U1077   135085  ...               2                 Tortas Locas Hipocampo\n",
              "1     U1077   135038  ...               1                  Restaurant la Chalita\n",
              "2     U1077   132825  ...               2                        puesto de tacos\n",
              "3     U1077   135060  ...               2                Restaurante Marisco Sam\n",
              "4     U1068   135104  ...               2                                   vips\n",
              "...     ...      ...  ...             ...                                    ...\n",
              "1156  U1043   132630  ...               1                             palomo tec\n",
              "1157  U1011   132715  ...               0                   tacos de la estacion\n",
              "1158  U1068   132733  ...               0                          Little Cesarz\n",
              "1159  U1068   132594  ...               1     tacos de barbacoa enfrente del Tec\n",
              "1160  U1068   132660  ...               0  carnitas mata calle Emilio Portes Gil\n",
              "\n",
              "[1161 rows x 6 columns]"
            ]
          },
          "metadata": {},
          "execution_count": 20
        }
      ]
    },
    {
      "cell_type": "markdown",
      "metadata": {
        "id": "C_J0MPIke9Bd"
      },
      "source": [
        "### Menggabungkan Data dengan Fitur masakan Resto\n",
        "Langkah selanjutnya adalah menggabungkan variabel all_resto_name yang kita peroleh dari tahapan sebelumnya dengan fitur masakan resto (cuisine). Tujuannya, agar kita mengetahui masakan yang disediakan oleh restoran. Implementasikan kode berikut."
      ]
    },
    {
      "cell_type": "code",
      "metadata": {
        "colab": {
          "base_uri": "https://localhost:8080/",
          "height": 419
        },
        "id": "JWbVLFgnfAa9",
        "outputId": "fdfa3105-4394-484f-f7d5-d5b5fb4b87c1"
      },
      "source": [
        "# Menggabungkan dataframe cuisine dengan all_resto_name dan memasukkannya ke dalam variabel all_resto \n",
        "all_resto = pd.merge(all_resto_name, cuisine, on='placeID', how='left')\n",
        "all_resto"
      ],
      "execution_count": null,
      "outputs": [
        {
          "output_type": "execute_result",
          "data": {
            "text/html": [
              "<div>\n",
              "<style scoped>\n",
              "    .dataframe tbody tr th:only-of-type {\n",
              "        vertical-align: middle;\n",
              "    }\n",
              "\n",
              "    .dataframe tbody tr th {\n",
              "        vertical-align: top;\n",
              "    }\n",
              "\n",
              "    .dataframe thead th {\n",
              "        text-align: right;\n",
              "    }\n",
              "</style>\n",
              "<table border=\"1\" class=\"dataframe\">\n",
              "  <thead>\n",
              "    <tr style=\"text-align: right;\">\n",
              "      <th></th>\n",
              "      <th>userID</th>\n",
              "      <th>placeID</th>\n",
              "      <th>rating</th>\n",
              "      <th>food_rating</th>\n",
              "      <th>service_rating</th>\n",
              "      <th>name</th>\n",
              "      <th>Rcuisine</th>\n",
              "    </tr>\n",
              "  </thead>\n",
              "  <tbody>\n",
              "    <tr>\n",
              "      <th>0</th>\n",
              "      <td>U1077</td>\n",
              "      <td>135085</td>\n",
              "      <td>2</td>\n",
              "      <td>2</td>\n",
              "      <td>2</td>\n",
              "      <td>Tortas Locas Hipocampo</td>\n",
              "      <td>Fast_Food</td>\n",
              "    </tr>\n",
              "    <tr>\n",
              "      <th>1</th>\n",
              "      <td>U1077</td>\n",
              "      <td>135038</td>\n",
              "      <td>2</td>\n",
              "      <td>2</td>\n",
              "      <td>1</td>\n",
              "      <td>Restaurant la Chalita</td>\n",
              "      <td>NaN</td>\n",
              "    </tr>\n",
              "    <tr>\n",
              "      <th>2</th>\n",
              "      <td>U1077</td>\n",
              "      <td>132825</td>\n",
              "      <td>2</td>\n",
              "      <td>2</td>\n",
              "      <td>2</td>\n",
              "      <td>puesto de tacos</td>\n",
              "      <td>Mexican</td>\n",
              "    </tr>\n",
              "    <tr>\n",
              "      <th>3</th>\n",
              "      <td>U1077</td>\n",
              "      <td>135060</td>\n",
              "      <td>1</td>\n",
              "      <td>2</td>\n",
              "      <td>2</td>\n",
              "      <td>Restaurante Marisco Sam</td>\n",
              "      <td>Seafood</td>\n",
              "    </tr>\n",
              "    <tr>\n",
              "      <th>4</th>\n",
              "      <td>U1068</td>\n",
              "      <td>135104</td>\n",
              "      <td>1</td>\n",
              "      <td>1</td>\n",
              "      <td>2</td>\n",
              "      <td>vips</td>\n",
              "      <td>Mexican</td>\n",
              "    </tr>\n",
              "    <tr>\n",
              "      <th>...</th>\n",
              "      <td>...</td>\n",
              "      <td>...</td>\n",
              "      <td>...</td>\n",
              "      <td>...</td>\n",
              "      <td>...</td>\n",
              "      <td>...</td>\n",
              "      <td>...</td>\n",
              "    </tr>\n",
              "    <tr>\n",
              "      <th>1326</th>\n",
              "      <td>U1043</td>\n",
              "      <td>132630</td>\n",
              "      <td>1</td>\n",
              "      <td>1</td>\n",
              "      <td>1</td>\n",
              "      <td>palomo tec</td>\n",
              "      <td>Mexican</td>\n",
              "    </tr>\n",
              "    <tr>\n",
              "      <th>1327</th>\n",
              "      <td>U1011</td>\n",
              "      <td>132715</td>\n",
              "      <td>1</td>\n",
              "      <td>1</td>\n",
              "      <td>0</td>\n",
              "      <td>tacos de la estacion</td>\n",
              "      <td>Mexican</td>\n",
              "    </tr>\n",
              "    <tr>\n",
              "      <th>1328</th>\n",
              "      <td>U1068</td>\n",
              "      <td>132733</td>\n",
              "      <td>1</td>\n",
              "      <td>1</td>\n",
              "      <td>0</td>\n",
              "      <td>Little Cesarz</td>\n",
              "      <td>Pizzeria</td>\n",
              "    </tr>\n",
              "    <tr>\n",
              "      <th>1329</th>\n",
              "      <td>U1068</td>\n",
              "      <td>132594</td>\n",
              "      <td>1</td>\n",
              "      <td>1</td>\n",
              "      <td>1</td>\n",
              "      <td>tacos de barbacoa enfrente del Tec</td>\n",
              "      <td>Mexican</td>\n",
              "    </tr>\n",
              "    <tr>\n",
              "      <th>1330</th>\n",
              "      <td>U1068</td>\n",
              "      <td>132660</td>\n",
              "      <td>0</td>\n",
              "      <td>0</td>\n",
              "      <td>0</td>\n",
              "      <td>carnitas mata calle Emilio Portes Gil</td>\n",
              "      <td>NaN</td>\n",
              "    </tr>\n",
              "  </tbody>\n",
              "</table>\n",
              "<p>1331 rows × 7 columns</p>\n",
              "</div>"
            ],
            "text/plain": [
              "     userID  placeID  ...                                   name   Rcuisine\n",
              "0     U1077   135085  ...                 Tortas Locas Hipocampo  Fast_Food\n",
              "1     U1077   135038  ...                  Restaurant la Chalita        NaN\n",
              "2     U1077   132825  ...                        puesto de tacos    Mexican\n",
              "3     U1077   135060  ...                Restaurante Marisco Sam    Seafood\n",
              "4     U1068   135104  ...                                   vips    Mexican\n",
              "...     ...      ...  ...                                    ...        ...\n",
              "1326  U1043   132630  ...                             palomo tec    Mexican\n",
              "1327  U1011   132715  ...                   tacos de la estacion    Mexican\n",
              "1328  U1068   132733  ...                          Little Cesarz   Pizzeria\n",
              "1329  U1068   132594  ...     tacos de barbacoa enfrente del Tec    Mexican\n",
              "1330  U1068   132660  ...  carnitas mata calle Emilio Portes Gil        NaN\n",
              "\n",
              "[1331 rows x 7 columns]"
            ]
          },
          "metadata": {},
          "execution_count": 21
        }
      ]
    },
    {
      "cell_type": "markdown",
      "metadata": {
        "id": "NUE0UkmxfJsZ"
      },
      "source": [
        "## Data Preparation\n",
        "\n",
        "\n",
        "### Mengatasi Missing Value\n",
        "Setelah proses penggabungan, mari kita cek lagi datanya apakah ada missing value atau tidak. Jalankan kode berikut."
      ]
    },
    {
      "cell_type": "code",
      "metadata": {
        "colab": {
          "base_uri": "https://localhost:8080/"
        },
        "id": "ZO1jqCsXfOPX",
        "outputId": "63736de6-40df-4ed1-8622-1875c2d0aecb"
      },
      "source": [
        "# Mengecek missing value pada dataframe all_resto\n",
        "all_resto.isnull().sum()\n"
      ],
      "execution_count": null,
      "outputs": [
        {
          "output_type": "execute_result",
          "data": {
            "text/plain": [
              "userID              0\n",
              "placeID             0\n",
              "rating              0\n",
              "food_rating         0\n",
              "service_rating      0\n",
              "name                0\n",
              "Rcuisine          288\n",
              "dtype: int64"
            ]
          },
          "metadata": {},
          "execution_count": 22
        }
      ]
    },
    {
      "cell_type": "markdown",
      "metadata": {
        "id": "UylX9xq4fRIc"
      },
      "source": [
        "Perhatikanlah, terdapat 288 missing value pada fitur ‘Rcuisine’ (kategori masakan). 288 dari 1331 merupakan jumlah yang signifikan. Sebenarnya sayang jika data missing value ini langsung di-drop begitu saja. Namun, kita tidak bisa mengidentifikasi nama masakan yang tidak memiliki data ‘Rcuisine’ ini termasuk ke dalam kategori masakan mana. Oleh karena itu, untuk saat ini kita akan drop saja missing value ini. "
      ]
    },
    {
      "cell_type": "code",
      "metadata": {
        "colab": {
          "base_uri": "https://localhost:8080/",
          "height": 419
        },
        "id": "wJYSwUNWfWn9",
        "outputId": "a2eaa889-0bf0-42b0-d390-4d945c2cab6f"
      },
      "source": [
        "# Membersihkan missing value dengan fungsi dropna()\n",
        "all_resto_clean = all_resto.dropna()\n",
        "all_resto_clean"
      ],
      "execution_count": null,
      "outputs": [
        {
          "output_type": "execute_result",
          "data": {
            "text/html": [
              "<div>\n",
              "<style scoped>\n",
              "    .dataframe tbody tr th:only-of-type {\n",
              "        vertical-align: middle;\n",
              "    }\n",
              "\n",
              "    .dataframe tbody tr th {\n",
              "        vertical-align: top;\n",
              "    }\n",
              "\n",
              "    .dataframe thead th {\n",
              "        text-align: right;\n",
              "    }\n",
              "</style>\n",
              "<table border=\"1\" class=\"dataframe\">\n",
              "  <thead>\n",
              "    <tr style=\"text-align: right;\">\n",
              "      <th></th>\n",
              "      <th>userID</th>\n",
              "      <th>placeID</th>\n",
              "      <th>rating</th>\n",
              "      <th>food_rating</th>\n",
              "      <th>service_rating</th>\n",
              "      <th>name</th>\n",
              "      <th>Rcuisine</th>\n",
              "    </tr>\n",
              "  </thead>\n",
              "  <tbody>\n",
              "    <tr>\n",
              "      <th>0</th>\n",
              "      <td>U1077</td>\n",
              "      <td>135085</td>\n",
              "      <td>2</td>\n",
              "      <td>2</td>\n",
              "      <td>2</td>\n",
              "      <td>Tortas Locas Hipocampo</td>\n",
              "      <td>Fast_Food</td>\n",
              "    </tr>\n",
              "    <tr>\n",
              "      <th>2</th>\n",
              "      <td>U1077</td>\n",
              "      <td>132825</td>\n",
              "      <td>2</td>\n",
              "      <td>2</td>\n",
              "      <td>2</td>\n",
              "      <td>puesto de tacos</td>\n",
              "      <td>Mexican</td>\n",
              "    </tr>\n",
              "    <tr>\n",
              "      <th>3</th>\n",
              "      <td>U1077</td>\n",
              "      <td>135060</td>\n",
              "      <td>1</td>\n",
              "      <td>2</td>\n",
              "      <td>2</td>\n",
              "      <td>Restaurante Marisco Sam</td>\n",
              "      <td>Seafood</td>\n",
              "    </tr>\n",
              "    <tr>\n",
              "      <th>4</th>\n",
              "      <td>U1068</td>\n",
              "      <td>135104</td>\n",
              "      <td>1</td>\n",
              "      <td>1</td>\n",
              "      <td>2</td>\n",
              "      <td>vips</td>\n",
              "      <td>Mexican</td>\n",
              "    </tr>\n",
              "    <tr>\n",
              "      <th>5</th>\n",
              "      <td>U1068</td>\n",
              "      <td>132740</td>\n",
              "      <td>0</td>\n",
              "      <td>0</td>\n",
              "      <td>0</td>\n",
              "      <td>Carreton de Flautas y Migadas</td>\n",
              "      <td>Mexican</td>\n",
              "    </tr>\n",
              "    <tr>\n",
              "      <th>...</th>\n",
              "      <td>...</td>\n",
              "      <td>...</td>\n",
              "      <td>...</td>\n",
              "      <td>...</td>\n",
              "      <td>...</td>\n",
              "      <td>...</td>\n",
              "      <td>...</td>\n",
              "    </tr>\n",
              "    <tr>\n",
              "      <th>1325</th>\n",
              "      <td>U1043</td>\n",
              "      <td>132732</td>\n",
              "      <td>1</td>\n",
              "      <td>1</td>\n",
              "      <td>1</td>\n",
              "      <td>Taqueria EL amigo</td>\n",
              "      <td>Mexican</td>\n",
              "    </tr>\n",
              "    <tr>\n",
              "      <th>1326</th>\n",
              "      <td>U1043</td>\n",
              "      <td>132630</td>\n",
              "      <td>1</td>\n",
              "      <td>1</td>\n",
              "      <td>1</td>\n",
              "      <td>palomo tec</td>\n",
              "      <td>Mexican</td>\n",
              "    </tr>\n",
              "    <tr>\n",
              "      <th>1327</th>\n",
              "      <td>U1011</td>\n",
              "      <td>132715</td>\n",
              "      <td>1</td>\n",
              "      <td>1</td>\n",
              "      <td>0</td>\n",
              "      <td>tacos de la estacion</td>\n",
              "      <td>Mexican</td>\n",
              "    </tr>\n",
              "    <tr>\n",
              "      <th>1328</th>\n",
              "      <td>U1068</td>\n",
              "      <td>132733</td>\n",
              "      <td>1</td>\n",
              "      <td>1</td>\n",
              "      <td>0</td>\n",
              "      <td>Little Cesarz</td>\n",
              "      <td>Pizzeria</td>\n",
              "    </tr>\n",
              "    <tr>\n",
              "      <th>1329</th>\n",
              "      <td>U1068</td>\n",
              "      <td>132594</td>\n",
              "      <td>1</td>\n",
              "      <td>1</td>\n",
              "      <td>1</td>\n",
              "      <td>tacos de barbacoa enfrente del Tec</td>\n",
              "      <td>Mexican</td>\n",
              "    </tr>\n",
              "  </tbody>\n",
              "</table>\n",
              "<p>1043 rows × 7 columns</p>\n",
              "</div>"
            ],
            "text/plain": [
              "     userID  placeID  ...                                name   Rcuisine\n",
              "0     U1077   135085  ...              Tortas Locas Hipocampo  Fast_Food\n",
              "2     U1077   132825  ...                     puesto de tacos    Mexican\n",
              "3     U1077   135060  ...             Restaurante Marisco Sam    Seafood\n",
              "4     U1068   135104  ...                                vips    Mexican\n",
              "5     U1068   132740  ...       Carreton de Flautas y Migadas    Mexican\n",
              "...     ...      ...  ...                                 ...        ...\n",
              "1325  U1043   132732  ...                  Taqueria EL amigo     Mexican\n",
              "1326  U1043   132630  ...                          palomo tec    Mexican\n",
              "1327  U1011   132715  ...                tacos de la estacion    Mexican\n",
              "1328  U1068   132733  ...                       Little Cesarz   Pizzeria\n",
              "1329  U1068   132594  ...  tacos de barbacoa enfrente del Tec    Mexican\n",
              "\n",
              "[1043 rows x 7 columns]"
            ]
          },
          "metadata": {},
          "execution_count": 23
        }
      ]
    },
    {
      "cell_type": "markdown",
      "metadata": {
        "id": "9vGTpaUufaXb"
      },
      "source": [
        "Perhatikanlah, data kita sekarang memiliki 1043 baris. Untuk memastikan tidak ada missing value lagi dalam data, jalankan kode berikut."
      ]
    },
    {
      "cell_type": "code",
      "metadata": {
        "colab": {
          "base_uri": "https://localhost:8080/"
        },
        "id": "qyxMof4mfcTl",
        "outputId": "20db6cea-f703-4024-bcf3-b44ee3351cde"
      },
      "source": [
        "# Mengecek kembali missing value pada variabel all_resto_clean\n",
        "all_resto_clean.isnull().sum()"
      ],
      "execution_count": null,
      "outputs": [
        {
          "output_type": "execute_result",
          "data": {
            "text/plain": [
              "userID            0\n",
              "placeID           0\n",
              "rating            0\n",
              "food_rating       0\n",
              "service_rating    0\n",
              "name              0\n",
              "Rcuisine          0\n",
              "dtype: int64"
            ]
          },
          "metadata": {},
          "execution_count": 24
        }
      ]
    },
    {
      "cell_type": "markdown",
      "metadata": {
        "id": "7jYQSkExffgs"
      },
      "source": [
        "### Menyamakan Jenis masakan\n",
        "Sebelum masuk tahap akhir (pemodelan), kita perlu menyamakan nama masakan. Kadang, masakan yang sama memiliki nama atau kategori yang berbeda. Jika dibiarkan, hal ini bisa menyebabkan bias pada data. Sebagai contoh, pada data yang digunakan dalam studi kasus ini, Anda akan menemukan nama masakan ‘Game’. Anda tentu bertanya-tanya, jenis makanan apa ini? Nah, Anda akan menemukan jawabannya pada tahapan ini.  \n",
        "\n",
        "Pertama, mari kita cek ulang data setelah proses cleaning pada tahap sebelumnya. Kita buat variabel baru bernama fix_resto untuk menyimpan dataframe."
      ]
    },
    {
      "cell_type": "code",
      "metadata": {
        "colab": {
          "base_uri": "https://localhost:8080/",
          "height": 419
        },
        "id": "U5b3ZneVfm-r",
        "outputId": "dadd0549-288d-4a6b-d61e-78d765a2601a"
      },
      "source": [
        "# Mengurutkan resto berdasarkan PlaceID kemudian memasukkannya ke dalam variabel fix_resto\n",
        "fix_resto = all_resto_clean.sort_values('placeID', ascending=True)\n",
        "fix_resto"
      ],
      "execution_count": null,
      "outputs": [
        {
          "output_type": "execute_result",
          "data": {
            "text/html": [
              "<div>\n",
              "<style scoped>\n",
              "    .dataframe tbody tr th:only-of-type {\n",
              "        vertical-align: middle;\n",
              "    }\n",
              "\n",
              "    .dataframe tbody tr th {\n",
              "        vertical-align: top;\n",
              "    }\n",
              "\n",
              "    .dataframe thead th {\n",
              "        text-align: right;\n",
              "    }\n",
              "</style>\n",
              "<table border=\"1\" class=\"dataframe\">\n",
              "  <thead>\n",
              "    <tr style=\"text-align: right;\">\n",
              "      <th></th>\n",
              "      <th>userID</th>\n",
              "      <th>placeID</th>\n",
              "      <th>rating</th>\n",
              "      <th>food_rating</th>\n",
              "      <th>service_rating</th>\n",
              "      <th>name</th>\n",
              "      <th>Rcuisine</th>\n",
              "    </tr>\n",
              "  </thead>\n",
              "  <tbody>\n",
              "    <tr>\n",
              "      <th>1303</th>\n",
              "      <td>U1087</td>\n",
              "      <td>132560</td>\n",
              "      <td>1</td>\n",
              "      <td>2</td>\n",
              "      <td>1</td>\n",
              "      <td>puesto de gorditas</td>\n",
              "      <td>Regional</td>\n",
              "    </tr>\n",
              "    <tr>\n",
              "      <th>1288</th>\n",
              "      <td>U1050</td>\n",
              "      <td>132560</td>\n",
              "      <td>0</td>\n",
              "      <td>2</td>\n",
              "      <td>0</td>\n",
              "      <td>puesto de gorditas</td>\n",
              "      <td>Regional</td>\n",
              "    </tr>\n",
              "    <tr>\n",
              "      <th>14</th>\n",
              "      <td>U1067</td>\n",
              "      <td>132560</td>\n",
              "      <td>1</td>\n",
              "      <td>0</td>\n",
              "      <td>0</td>\n",
              "      <td>puesto de gorditas</td>\n",
              "      <td>Regional</td>\n",
              "    </tr>\n",
              "    <tr>\n",
              "      <th>42</th>\n",
              "      <td>U1082</td>\n",
              "      <td>132560</td>\n",
              "      <td>0</td>\n",
              "      <td>0</td>\n",
              "      <td>0</td>\n",
              "      <td>puesto de gorditas</td>\n",
              "      <td>Regional</td>\n",
              "    </tr>\n",
              "    <tr>\n",
              "      <th>1052</th>\n",
              "      <td>U1013</td>\n",
              "      <td>132572</td>\n",
              "      <td>1</td>\n",
              "      <td>1</td>\n",
              "      <td>0</td>\n",
              "      <td>Cafe Chaires</td>\n",
              "      <td>Cafeteria</td>\n",
              "    </tr>\n",
              "    <tr>\n",
              "      <th>...</th>\n",
              "      <td>...</td>\n",
              "      <td>...</td>\n",
              "      <td>...</td>\n",
              "      <td>...</td>\n",
              "      <td>...</td>\n",
              "      <td>...</td>\n",
              "      <td>...</td>\n",
              "    </tr>\n",
              "    <tr>\n",
              "      <th>438</th>\n",
              "      <td>U1024</td>\n",
              "      <td>135106</td>\n",
              "      <td>1</td>\n",
              "      <td>1</td>\n",
              "      <td>1</td>\n",
              "      <td>El Rincón de San Francisco</td>\n",
              "      <td>Mexican</td>\n",
              "    </tr>\n",
              "    <tr>\n",
              "      <th>178</th>\n",
              "      <td>U1020</td>\n",
              "      <td>135109</td>\n",
              "      <td>2</td>\n",
              "      <td>2</td>\n",
              "      <td>1</td>\n",
              "      <td>Paniroles</td>\n",
              "      <td>Italian</td>\n",
              "    </tr>\n",
              "    <tr>\n",
              "      <th>1071</th>\n",
              "      <td>U1041</td>\n",
              "      <td>135109</td>\n",
              "      <td>1</td>\n",
              "      <td>2</td>\n",
              "      <td>1</td>\n",
              "      <td>Paniroles</td>\n",
              "      <td>Italian</td>\n",
              "    </tr>\n",
              "    <tr>\n",
              "      <th>99</th>\n",
              "      <td>U1030</td>\n",
              "      <td>135109</td>\n",
              "      <td>0</td>\n",
              "      <td>0</td>\n",
              "      <td>0</td>\n",
              "      <td>Paniroles</td>\n",
              "      <td>Italian</td>\n",
              "    </tr>\n",
              "    <tr>\n",
              "      <th>180</th>\n",
              "      <td>U1051</td>\n",
              "      <td>135109</td>\n",
              "      <td>1</td>\n",
              "      <td>1</td>\n",
              "      <td>1</td>\n",
              "      <td>Paniroles</td>\n",
              "      <td>Italian</td>\n",
              "    </tr>\n",
              "  </tbody>\n",
              "</table>\n",
              "<p>1043 rows × 7 columns</p>\n",
              "</div>"
            ],
            "text/plain": [
              "     userID  placeID  ...                        name   Rcuisine\n",
              "1303  U1087   132560  ...          puesto de gorditas   Regional\n",
              "1288  U1050   132560  ...          puesto de gorditas   Regional\n",
              "14    U1067   132560  ...          puesto de gorditas   Regional\n",
              "42    U1082   132560  ...          puesto de gorditas   Regional\n",
              "1052  U1013   132572  ...                Cafe Chaires  Cafeteria\n",
              "...     ...      ...  ...                         ...        ...\n",
              "438   U1024   135106  ...  El Rincón de San Francisco    Mexican\n",
              "178   U1020   135109  ...                   Paniroles    Italian\n",
              "1071  U1041   135109  ...                   Paniroles    Italian\n",
              "99    U1030   135109  ...                   Paniroles    Italian\n",
              "180   U1051   135109  ...                   Paniroles    Italian\n",
              "\n",
              "[1043 rows x 7 columns]"
            ]
          },
          "metadata": {},
          "execution_count": 25
        }
      ]
    },
    {
      "cell_type": "markdown",
      "metadata": {
        "id": "QxYogKcXfqET"
      },
      "source": [
        "Sekarang, kita memiliki 1043 baris data. Untuk mengecek berapa jumlah restoran yang mencakup data tersebut, jalankan kode berikut."
      ]
    },
    {
      "cell_type": "code",
      "metadata": {
        "colab": {
          "base_uri": "https://localhost:8080/"
        },
        "id": "LYxQopk_fp6H",
        "outputId": "87c16880-b8ed-456b-f516-c1824f82710e"
      },
      "source": [
        "# Mengecek berapa jumlah fix_resto\n",
        "len(fix_resto.placeID.unique())"
      ],
      "execution_count": null,
      "outputs": [
        {
          "output_type": "execute_result",
          "data": {
            "text/plain": [
              "95"
            ]
          },
          "metadata": {},
          "execution_count": 26
        }
      ]
    },
    {
      "cell_type": "markdown",
      "metadata": {
        "id": "Mk0Rm4qJfweU"
      },
      "source": [
        "Selanjutnya, mari kita cek Rcuisine (kategori masakan) yang unik dengan kode berikut."
      ]
    },
    {
      "cell_type": "code",
      "metadata": {
        "colab": {
          "base_uri": "https://localhost:8080/"
        },
        "id": "GdkmroZCfwGD",
        "outputId": "ab616405-5e20-4fc8-b0bc-327742db9100"
      },
      "source": [
        "# Mengecek kategori masakan yang unik\n",
        "fix_resto.Rcuisine.unique()"
      ],
      "execution_count": null,
      "outputs": [
        {
          "output_type": "execute_result",
          "data": {
            "text/plain": [
              "array(['Regional', 'Cafeteria', 'American', 'Mexican', 'Fast_Food',\n",
              "       'Italian', 'Armenian', 'Pizzeria', 'Japanese', 'Vietnamese',\n",
              "       'Family', 'International', 'Game', 'Burgers', 'Bakery', 'Bar',\n",
              "       'Breakfast-Brunch', 'Bar_Pub_Brewery', 'Mediterranean',\n",
              "       'Cafe-Coffee_Shop', 'Contemporary', 'Seafood', 'Chinese'],\n",
              "      dtype=object)"
            ]
          },
          "metadata": {},
          "execution_count": 27
        }
      ]
    },
    {
      "cell_type": "markdown",
      "metadata": {
        "id": "8J5hrmxwf6AL"
      },
      "source": [
        "Perhatikanlah, di antara semua kategori masakan pada data, ada satu yang menarik, yaitu kategori masakan bernama ‘Game’. Hal-hal seperti ini kadang kita temukan pada data. Penyebabnya bisa beragam, misalnya, kesalahan input data atau perbedaan istilah di suatu daerah dengan daerah lainnya. Jika menemukan data seperti ini, hal yang perlu kita lakukan adalah mengeksplorasi datanya lebih lanjut dan melakukan analisis. \n",
        "\n",
        "Dari proses analisis, kita akan memahami perbedaan penamaan ini terjadi pada data mana saja dan apa yang bisa kita lakukan untuk mengatasinya. Tentu solusi untuk permasalahan seperti ini akan berbeda tergantung kasusnya. Untuk kasus pada proyek ini, kita akan memilih salah satu penamaan kategori saja untuk digunakan pada data.\n",
        "\n",
        "Nah, Anda tentu penasaran, restoran mana yang memiliki kategori ‘Game’? Mari kita lihat sama-sama."
      ]
    },
    {
      "cell_type": "code",
      "metadata": {
        "colab": {
          "base_uri": "https://localhost:8080/",
          "height": 266
        },
        "id": "0iVTwlvcf5ei",
        "outputId": "fa861f0e-ef95-4ac8-8430-4e26b775e753"
      },
      "source": [
        "# Mengecek kategori masakan Game \n",
        "fix_resto[fix_resto['Rcuisine'] == 'Game']"
      ],
      "execution_count": null,
      "outputs": [
        {
          "output_type": "execute_result",
          "data": {
            "text/html": [
              "<div>\n",
              "<style scoped>\n",
              "    .dataframe tbody tr th:only-of-type {\n",
              "        vertical-align: middle;\n",
              "    }\n",
              "\n",
              "    .dataframe tbody tr th {\n",
              "        vertical-align: top;\n",
              "    }\n",
              "\n",
              "    .dataframe thead th {\n",
              "        text-align: right;\n",
              "    }\n",
              "</style>\n",
              "<table border=\"1\" class=\"dataframe\">\n",
              "  <thead>\n",
              "    <tr style=\"text-align: right;\">\n",
              "      <th></th>\n",
              "      <th>userID</th>\n",
              "      <th>placeID</th>\n",
              "      <th>rating</th>\n",
              "      <th>food_rating</th>\n",
              "      <th>service_rating</th>\n",
              "      <th>name</th>\n",
              "      <th>Rcuisine</th>\n",
              "    </tr>\n",
              "  </thead>\n",
              "  <tbody>\n",
              "    <tr>\n",
              "      <th>781</th>\n",
              "      <td>U1015</td>\n",
              "      <td>132851</td>\n",
              "      <td>1</td>\n",
              "      <td>1</td>\n",
              "      <td>1</td>\n",
              "      <td>KFC</td>\n",
              "      <td>Game</td>\n",
              "    </tr>\n",
              "    <tr>\n",
              "      <th>509</th>\n",
              "      <td>U1052</td>\n",
              "      <td>132851</td>\n",
              "      <td>1</td>\n",
              "      <td>0</td>\n",
              "      <td>2</td>\n",
              "      <td>KFC</td>\n",
              "      <td>Game</td>\n",
              "    </tr>\n",
              "    <tr>\n",
              "      <th>708</th>\n",
              "      <td>U1008</td>\n",
              "      <td>132851</td>\n",
              "      <td>1</td>\n",
              "      <td>1</td>\n",
              "      <td>1</td>\n",
              "      <td>KFC</td>\n",
              "      <td>Game</td>\n",
              "    </tr>\n",
              "    <tr>\n",
              "      <th>770</th>\n",
              "      <td>U1037</td>\n",
              "      <td>132851</td>\n",
              "      <td>2</td>\n",
              "      <td>2</td>\n",
              "      <td>1</td>\n",
              "      <td>KFC</td>\n",
              "      <td>Game</td>\n",
              "    </tr>\n",
              "    <tr>\n",
              "      <th>574</th>\n",
              "      <td>U1069</td>\n",
              "      <td>132851</td>\n",
              "      <td>1</td>\n",
              "      <td>0</td>\n",
              "      <td>0</td>\n",
              "      <td>KFC</td>\n",
              "      <td>Game</td>\n",
              "    </tr>\n",
              "    <tr>\n",
              "      <th>1188</th>\n",
              "      <td>U1131</td>\n",
              "      <td>132851</td>\n",
              "      <td>2</td>\n",
              "      <td>2</td>\n",
              "      <td>2</td>\n",
              "      <td>KFC</td>\n",
              "      <td>Game</td>\n",
              "    </tr>\n",
              "    <tr>\n",
              "      <th>764</th>\n",
              "      <td>U1111</td>\n",
              "      <td>132851</td>\n",
              "      <td>2</td>\n",
              "      <td>1</td>\n",
              "      <td>0</td>\n",
              "      <td>KFC</td>\n",
              "      <td>Game</td>\n",
              "    </tr>\n",
              "  </tbody>\n",
              "</table>\n",
              "</div>"
            ],
            "text/plain": [
              "     userID  placeID  rating  food_rating  service_rating name Rcuisine\n",
              "781   U1015   132851       1            1               1  KFC     Game\n",
              "509   U1052   132851       1            0               2  KFC     Game\n",
              "708   U1008   132851       1            1               1  KFC     Game\n",
              "770   U1037   132851       2            2               1  KFC     Game\n",
              "574   U1069   132851       1            0               0  KFC     Game\n",
              "1188  U1131   132851       2            2               2  KFC     Game\n",
              "764   U1111   132851       2            1               0  KFC     Game"
            ]
          },
          "metadata": {},
          "execution_count": 28
        }
      ]
    },
    {
      "cell_type": "markdown",
      "metadata": {
        "id": "kGtVwcVdgEDN"
      },
      "source": [
        "Ternyata, Game adalah masakan pada nama restoran KFC. Menarik. Pertanyaan selanjutnya, adakah kategori masakan (Rcuisine) lain untuk KFC? Mari kita cek."
      ]
    },
    {
      "cell_type": "code",
      "metadata": {
        "colab": {
          "base_uri": "https://localhost:8080/",
          "height": 483
        },
        "id": "w83HKNTGgCsE",
        "outputId": "c197d2af-b43d-445a-a47c-bc7eea030de8"
      },
      "source": [
        "# Mengecek kategori masakan pada nama restoran KFC\n",
        "fix_resto[fix_resto['name'] == 'KFC']"
      ],
      "execution_count": null,
      "outputs": [
        {
          "output_type": "execute_result",
          "data": {
            "text/html": [
              "<div>\n",
              "<style scoped>\n",
              "    .dataframe tbody tr th:only-of-type {\n",
              "        vertical-align: middle;\n",
              "    }\n",
              "\n",
              "    .dataframe tbody tr th {\n",
              "        vertical-align: top;\n",
              "    }\n",
              "\n",
              "    .dataframe thead th {\n",
              "        text-align: right;\n",
              "    }\n",
              "</style>\n",
              "<table border=\"1\" class=\"dataframe\">\n",
              "  <thead>\n",
              "    <tr style=\"text-align: right;\">\n",
              "      <th></th>\n",
              "      <th>userID</th>\n",
              "      <th>placeID</th>\n",
              "      <th>rating</th>\n",
              "      <th>food_rating</th>\n",
              "      <th>service_rating</th>\n",
              "      <th>name</th>\n",
              "      <th>Rcuisine</th>\n",
              "    </tr>\n",
              "  </thead>\n",
              "  <tbody>\n",
              "    <tr>\n",
              "      <th>781</th>\n",
              "      <td>U1015</td>\n",
              "      <td>132851</td>\n",
              "      <td>1</td>\n",
              "      <td>1</td>\n",
              "      <td>1</td>\n",
              "      <td>KFC</td>\n",
              "      <td>Game</td>\n",
              "    </tr>\n",
              "    <tr>\n",
              "      <th>508</th>\n",
              "      <td>U1052</td>\n",
              "      <td>132851</td>\n",
              "      <td>1</td>\n",
              "      <td>0</td>\n",
              "      <td>2</td>\n",
              "      <td>KFC</td>\n",
              "      <td>American</td>\n",
              "    </tr>\n",
              "    <tr>\n",
              "      <th>780</th>\n",
              "      <td>U1015</td>\n",
              "      <td>132851</td>\n",
              "      <td>1</td>\n",
              "      <td>1</td>\n",
              "      <td>1</td>\n",
              "      <td>KFC</td>\n",
              "      <td>American</td>\n",
              "    </tr>\n",
              "    <tr>\n",
              "      <th>509</th>\n",
              "      <td>U1052</td>\n",
              "      <td>132851</td>\n",
              "      <td>1</td>\n",
              "      <td>0</td>\n",
              "      <td>2</td>\n",
              "      <td>KFC</td>\n",
              "      <td>Game</td>\n",
              "    </tr>\n",
              "    <tr>\n",
              "      <th>708</th>\n",
              "      <td>U1008</td>\n",
              "      <td>132851</td>\n",
              "      <td>1</td>\n",
              "      <td>1</td>\n",
              "      <td>1</td>\n",
              "      <td>KFC</td>\n",
              "      <td>Game</td>\n",
              "    </tr>\n",
              "    <tr>\n",
              "      <th>707</th>\n",
              "      <td>U1008</td>\n",
              "      <td>132851</td>\n",
              "      <td>1</td>\n",
              "      <td>1</td>\n",
              "      <td>1</td>\n",
              "      <td>KFC</td>\n",
              "      <td>American</td>\n",
              "    </tr>\n",
              "    <tr>\n",
              "      <th>770</th>\n",
              "      <td>U1037</td>\n",
              "      <td>132851</td>\n",
              "      <td>2</td>\n",
              "      <td>2</td>\n",
              "      <td>1</td>\n",
              "      <td>KFC</td>\n",
              "      <td>Game</td>\n",
              "    </tr>\n",
              "    <tr>\n",
              "      <th>769</th>\n",
              "      <td>U1037</td>\n",
              "      <td>132851</td>\n",
              "      <td>2</td>\n",
              "      <td>2</td>\n",
              "      <td>1</td>\n",
              "      <td>KFC</td>\n",
              "      <td>American</td>\n",
              "    </tr>\n",
              "    <tr>\n",
              "      <th>1187</th>\n",
              "      <td>U1131</td>\n",
              "      <td>132851</td>\n",
              "      <td>2</td>\n",
              "      <td>2</td>\n",
              "      <td>2</td>\n",
              "      <td>KFC</td>\n",
              "      <td>American</td>\n",
              "    </tr>\n",
              "    <tr>\n",
              "      <th>574</th>\n",
              "      <td>U1069</td>\n",
              "      <td>132851</td>\n",
              "      <td>1</td>\n",
              "      <td>0</td>\n",
              "      <td>0</td>\n",
              "      <td>KFC</td>\n",
              "      <td>Game</td>\n",
              "    </tr>\n",
              "    <tr>\n",
              "      <th>1188</th>\n",
              "      <td>U1131</td>\n",
              "      <td>132851</td>\n",
              "      <td>2</td>\n",
              "      <td>2</td>\n",
              "      <td>2</td>\n",
              "      <td>KFC</td>\n",
              "      <td>Game</td>\n",
              "    </tr>\n",
              "    <tr>\n",
              "      <th>764</th>\n",
              "      <td>U1111</td>\n",
              "      <td>132851</td>\n",
              "      <td>2</td>\n",
              "      <td>1</td>\n",
              "      <td>0</td>\n",
              "      <td>KFC</td>\n",
              "      <td>Game</td>\n",
              "    </tr>\n",
              "    <tr>\n",
              "      <th>763</th>\n",
              "      <td>U1111</td>\n",
              "      <td>132851</td>\n",
              "      <td>2</td>\n",
              "      <td>1</td>\n",
              "      <td>0</td>\n",
              "      <td>KFC</td>\n",
              "      <td>American</td>\n",
              "    </tr>\n",
              "    <tr>\n",
              "      <th>573</th>\n",
              "      <td>U1069</td>\n",
              "      <td>132851</td>\n",
              "      <td>1</td>\n",
              "      <td>0</td>\n",
              "      <td>0</td>\n",
              "      <td>KFC</td>\n",
              "      <td>American</td>\n",
              "    </tr>\n",
              "  </tbody>\n",
              "</table>\n",
              "</div>"
            ],
            "text/plain": [
              "     userID  placeID  rating  food_rating  service_rating name  Rcuisine\n",
              "781   U1015   132851       1            1               1  KFC      Game\n",
              "508   U1052   132851       1            0               2  KFC  American\n",
              "780   U1015   132851       1            1               1  KFC  American\n",
              "509   U1052   132851       1            0               2  KFC      Game\n",
              "708   U1008   132851       1            1               1  KFC      Game\n",
              "707   U1008   132851       1            1               1  KFC  American\n",
              "770   U1037   132851       2            2               1  KFC      Game\n",
              "769   U1037   132851       2            2               1  KFC  American\n",
              "1187  U1131   132851       2            2               2  KFC  American\n",
              "574   U1069   132851       1            0               0  KFC      Game\n",
              "1188  U1131   132851       2            2               2  KFC      Game\n",
              "764   U1111   132851       2            1               0  KFC      Game\n",
              "763   U1111   132851       2            1               0  KFC  American\n",
              "573   U1069   132851       1            0               0  KFC  American"
            ]
          },
          "metadata": {},
          "execution_count": 29
        }
      ]
    },
    {
      "cell_type": "markdown",
      "metadata": {
        "id": "Do4huKDlgJ1n"
      },
      "source": [
        "Ada! Ternyata, KFC memiliki dua kategori masakan yang berbeda, ‘Game’ dan ‘American’. Tentu ini harus diperbaiki. Dalam sistem rekomendasi yang akan kita kembangkan, satu restoran memiliki satu kategori masakan. Dalam hal ini, KFC lebih cocok disebut sebagai restoran dengan kategori masakan American. Jadi, kita perlu mengganti kategori ‘Game’ dengan ‘American’. \n",
        "\n",
        "Jalankan kode berikut."
      ]
    },
    {
      "cell_type": "code",
      "metadata": {
        "colab": {
          "base_uri": "https://localhost:8080/",
          "height": 483
        },
        "id": "xLPwDZatgI9F",
        "outputId": "cdf315f6-be58-4e55-83d1-b76174e4f404"
      },
      "source": [
        "# Mengubah nama kategori masakan ‘Game’ menjadi ‘American’\n",
        "fix_resto = fix_resto.replace('Game', 'American')\n",
        "fix_resto[fix_resto['name'] == 'KFC']"
      ],
      "execution_count": null,
      "outputs": [
        {
          "output_type": "execute_result",
          "data": {
            "text/html": [
              "<div>\n",
              "<style scoped>\n",
              "    .dataframe tbody tr th:only-of-type {\n",
              "        vertical-align: middle;\n",
              "    }\n",
              "\n",
              "    .dataframe tbody tr th {\n",
              "        vertical-align: top;\n",
              "    }\n",
              "\n",
              "    .dataframe thead th {\n",
              "        text-align: right;\n",
              "    }\n",
              "</style>\n",
              "<table border=\"1\" class=\"dataframe\">\n",
              "  <thead>\n",
              "    <tr style=\"text-align: right;\">\n",
              "      <th></th>\n",
              "      <th>userID</th>\n",
              "      <th>placeID</th>\n",
              "      <th>rating</th>\n",
              "      <th>food_rating</th>\n",
              "      <th>service_rating</th>\n",
              "      <th>name</th>\n",
              "      <th>Rcuisine</th>\n",
              "    </tr>\n",
              "  </thead>\n",
              "  <tbody>\n",
              "    <tr>\n",
              "      <th>781</th>\n",
              "      <td>U1015</td>\n",
              "      <td>132851</td>\n",
              "      <td>1</td>\n",
              "      <td>1</td>\n",
              "      <td>1</td>\n",
              "      <td>KFC</td>\n",
              "      <td>American</td>\n",
              "    </tr>\n",
              "    <tr>\n",
              "      <th>508</th>\n",
              "      <td>U1052</td>\n",
              "      <td>132851</td>\n",
              "      <td>1</td>\n",
              "      <td>0</td>\n",
              "      <td>2</td>\n",
              "      <td>KFC</td>\n",
              "      <td>American</td>\n",
              "    </tr>\n",
              "    <tr>\n",
              "      <th>780</th>\n",
              "      <td>U1015</td>\n",
              "      <td>132851</td>\n",
              "      <td>1</td>\n",
              "      <td>1</td>\n",
              "      <td>1</td>\n",
              "      <td>KFC</td>\n",
              "      <td>American</td>\n",
              "    </tr>\n",
              "    <tr>\n",
              "      <th>509</th>\n",
              "      <td>U1052</td>\n",
              "      <td>132851</td>\n",
              "      <td>1</td>\n",
              "      <td>0</td>\n",
              "      <td>2</td>\n",
              "      <td>KFC</td>\n",
              "      <td>American</td>\n",
              "    </tr>\n",
              "    <tr>\n",
              "      <th>708</th>\n",
              "      <td>U1008</td>\n",
              "      <td>132851</td>\n",
              "      <td>1</td>\n",
              "      <td>1</td>\n",
              "      <td>1</td>\n",
              "      <td>KFC</td>\n",
              "      <td>American</td>\n",
              "    </tr>\n",
              "    <tr>\n",
              "      <th>707</th>\n",
              "      <td>U1008</td>\n",
              "      <td>132851</td>\n",
              "      <td>1</td>\n",
              "      <td>1</td>\n",
              "      <td>1</td>\n",
              "      <td>KFC</td>\n",
              "      <td>American</td>\n",
              "    </tr>\n",
              "    <tr>\n",
              "      <th>770</th>\n",
              "      <td>U1037</td>\n",
              "      <td>132851</td>\n",
              "      <td>2</td>\n",
              "      <td>2</td>\n",
              "      <td>1</td>\n",
              "      <td>KFC</td>\n",
              "      <td>American</td>\n",
              "    </tr>\n",
              "    <tr>\n",
              "      <th>769</th>\n",
              "      <td>U1037</td>\n",
              "      <td>132851</td>\n",
              "      <td>2</td>\n",
              "      <td>2</td>\n",
              "      <td>1</td>\n",
              "      <td>KFC</td>\n",
              "      <td>American</td>\n",
              "    </tr>\n",
              "    <tr>\n",
              "      <th>1187</th>\n",
              "      <td>U1131</td>\n",
              "      <td>132851</td>\n",
              "      <td>2</td>\n",
              "      <td>2</td>\n",
              "      <td>2</td>\n",
              "      <td>KFC</td>\n",
              "      <td>American</td>\n",
              "    </tr>\n",
              "    <tr>\n",
              "      <th>574</th>\n",
              "      <td>U1069</td>\n",
              "      <td>132851</td>\n",
              "      <td>1</td>\n",
              "      <td>0</td>\n",
              "      <td>0</td>\n",
              "      <td>KFC</td>\n",
              "      <td>American</td>\n",
              "    </tr>\n",
              "    <tr>\n",
              "      <th>1188</th>\n",
              "      <td>U1131</td>\n",
              "      <td>132851</td>\n",
              "      <td>2</td>\n",
              "      <td>2</td>\n",
              "      <td>2</td>\n",
              "      <td>KFC</td>\n",
              "      <td>American</td>\n",
              "    </tr>\n",
              "    <tr>\n",
              "      <th>764</th>\n",
              "      <td>U1111</td>\n",
              "      <td>132851</td>\n",
              "      <td>2</td>\n",
              "      <td>1</td>\n",
              "      <td>0</td>\n",
              "      <td>KFC</td>\n",
              "      <td>American</td>\n",
              "    </tr>\n",
              "    <tr>\n",
              "      <th>763</th>\n",
              "      <td>U1111</td>\n",
              "      <td>132851</td>\n",
              "      <td>2</td>\n",
              "      <td>1</td>\n",
              "      <td>0</td>\n",
              "      <td>KFC</td>\n",
              "      <td>American</td>\n",
              "    </tr>\n",
              "    <tr>\n",
              "      <th>573</th>\n",
              "      <td>U1069</td>\n",
              "      <td>132851</td>\n",
              "      <td>1</td>\n",
              "      <td>0</td>\n",
              "      <td>0</td>\n",
              "      <td>KFC</td>\n",
              "      <td>American</td>\n",
              "    </tr>\n",
              "  </tbody>\n",
              "</table>\n",
              "</div>"
            ],
            "text/plain": [
              "     userID  placeID  rating  food_rating  service_rating name  Rcuisine\n",
              "781   U1015   132851       1            1               1  KFC  American\n",
              "508   U1052   132851       1            0               2  KFC  American\n",
              "780   U1015   132851       1            1               1  KFC  American\n",
              "509   U1052   132851       1            0               2  KFC  American\n",
              "708   U1008   132851       1            1               1  KFC  American\n",
              "707   U1008   132851       1            1               1  KFC  American\n",
              "770   U1037   132851       2            2               1  KFC  American\n",
              "769   U1037   132851       2            2               1  KFC  American\n",
              "1187  U1131   132851       2            2               2  KFC  American\n",
              "574   U1069   132851       1            0               0  KFC  American\n",
              "1188  U1131   132851       2            2               2  KFC  American\n",
              "764   U1111   132851       2            1               0  KFC  American\n",
              "763   U1111   132851       2            1               0  KFC  American\n",
              "573   U1069   132851       1            0               0  KFC  American"
            ]
          },
          "metadata": {},
          "execution_count": 30
        }
      ]
    },
    {
      "cell_type": "markdown",
      "metadata": {
        "id": "ySeC3rNBgQZY"
      },
      "source": [
        "Bagus! Sekarang, semua kategori masakan ‘Game’ telah berubah menjadi ‘American’. Kini, restoran ‘KFC’ telah memiliki satu kategori masakan seperti yang kita harapkan, yaitu ‘American’. Dalam sistem rekomendasi yang kita kembangkan, penting untuk memastikan satu restoran mewakili satu kategori masakan. Tujuannya supaya tidak terjadi dobel atau rangkap kategori dalam satu restoran. Sehingga, sistem dapat merekomendasikan resto berdasarkan kategori masakannya. \n",
        "\n",
        "Berikutnya, kita bisa melanjutkan ke tahap persiapan. Buatlah variabel bernama preparation. Jalankan kode berikut."
      ]
    },
    {
      "cell_type": "code",
      "metadata": {
        "colab": {
          "base_uri": "https://localhost:8080/",
          "height": 419
        },
        "id": "BxZnswmmgY4i",
        "outputId": "8d9602b5-ce25-460e-edf0-26d86afc63f0"
      },
      "source": [
        "# Membuat variabel preparation yang berisi dataframe fix_resto kemudian mengurutkan berdasarkan placeID\n",
        "preparation = fix_resto\n",
        "preparation.sort_values('placeID')"
      ],
      "execution_count": null,
      "outputs": [
        {
          "output_type": "execute_result",
          "data": {
            "text/html": [
              "<div>\n",
              "<style scoped>\n",
              "    .dataframe tbody tr th:only-of-type {\n",
              "        vertical-align: middle;\n",
              "    }\n",
              "\n",
              "    .dataframe tbody tr th {\n",
              "        vertical-align: top;\n",
              "    }\n",
              "\n",
              "    .dataframe thead th {\n",
              "        text-align: right;\n",
              "    }\n",
              "</style>\n",
              "<table border=\"1\" class=\"dataframe\">\n",
              "  <thead>\n",
              "    <tr style=\"text-align: right;\">\n",
              "      <th></th>\n",
              "      <th>userID</th>\n",
              "      <th>placeID</th>\n",
              "      <th>rating</th>\n",
              "      <th>food_rating</th>\n",
              "      <th>service_rating</th>\n",
              "      <th>name</th>\n",
              "      <th>Rcuisine</th>\n",
              "    </tr>\n",
              "  </thead>\n",
              "  <tbody>\n",
              "    <tr>\n",
              "      <th>1303</th>\n",
              "      <td>U1087</td>\n",
              "      <td>132560</td>\n",
              "      <td>1</td>\n",
              "      <td>2</td>\n",
              "      <td>1</td>\n",
              "      <td>puesto de gorditas</td>\n",
              "      <td>Regional</td>\n",
              "    </tr>\n",
              "    <tr>\n",
              "      <th>1288</th>\n",
              "      <td>U1050</td>\n",
              "      <td>132560</td>\n",
              "      <td>0</td>\n",
              "      <td>2</td>\n",
              "      <td>0</td>\n",
              "      <td>puesto de gorditas</td>\n",
              "      <td>Regional</td>\n",
              "    </tr>\n",
              "    <tr>\n",
              "      <th>14</th>\n",
              "      <td>U1067</td>\n",
              "      <td>132560</td>\n",
              "      <td>1</td>\n",
              "      <td>0</td>\n",
              "      <td>0</td>\n",
              "      <td>puesto de gorditas</td>\n",
              "      <td>Regional</td>\n",
              "    </tr>\n",
              "    <tr>\n",
              "      <th>42</th>\n",
              "      <td>U1082</td>\n",
              "      <td>132560</td>\n",
              "      <td>0</td>\n",
              "      <td>0</td>\n",
              "      <td>0</td>\n",
              "      <td>puesto de gorditas</td>\n",
              "      <td>Regional</td>\n",
              "    </tr>\n",
              "    <tr>\n",
              "      <th>184</th>\n",
              "      <td>U1055</td>\n",
              "      <td>132572</td>\n",
              "      <td>2</td>\n",
              "      <td>2</td>\n",
              "      <td>2</td>\n",
              "      <td>Cafe Chaires</td>\n",
              "      <td>Cafeteria</td>\n",
              "    </tr>\n",
              "    <tr>\n",
              "      <th>...</th>\n",
              "      <td>...</td>\n",
              "      <td>...</td>\n",
              "      <td>...</td>\n",
              "      <td>...</td>\n",
              "      <td>...</td>\n",
              "      <td>...</td>\n",
              "      <td>...</td>\n",
              "    </tr>\n",
              "    <tr>\n",
              "      <th>1224</th>\n",
              "      <td>U1002</td>\n",
              "      <td>135106</td>\n",
              "      <td>1</td>\n",
              "      <td>1</td>\n",
              "      <td>1</td>\n",
              "      <td>El Rincón de San Francisco</td>\n",
              "      <td>Mexican</td>\n",
              "    </tr>\n",
              "    <tr>\n",
              "      <th>99</th>\n",
              "      <td>U1030</td>\n",
              "      <td>135109</td>\n",
              "      <td>0</td>\n",
              "      <td>0</td>\n",
              "      <td>0</td>\n",
              "      <td>Paniroles</td>\n",
              "      <td>Italian</td>\n",
              "    </tr>\n",
              "    <tr>\n",
              "      <th>178</th>\n",
              "      <td>U1020</td>\n",
              "      <td>135109</td>\n",
              "      <td>2</td>\n",
              "      <td>2</td>\n",
              "      <td>1</td>\n",
              "      <td>Paniroles</td>\n",
              "      <td>Italian</td>\n",
              "    </tr>\n",
              "    <tr>\n",
              "      <th>1071</th>\n",
              "      <td>U1041</td>\n",
              "      <td>135109</td>\n",
              "      <td>1</td>\n",
              "      <td>2</td>\n",
              "      <td>1</td>\n",
              "      <td>Paniroles</td>\n",
              "      <td>Italian</td>\n",
              "    </tr>\n",
              "    <tr>\n",
              "      <th>180</th>\n",
              "      <td>U1051</td>\n",
              "      <td>135109</td>\n",
              "      <td>1</td>\n",
              "      <td>1</td>\n",
              "      <td>1</td>\n",
              "      <td>Paniroles</td>\n",
              "      <td>Italian</td>\n",
              "    </tr>\n",
              "  </tbody>\n",
              "</table>\n",
              "<p>1043 rows × 7 columns</p>\n",
              "</div>"
            ],
            "text/plain": [
              "     userID  placeID  ...                        name   Rcuisine\n",
              "1303  U1087   132560  ...          puesto de gorditas   Regional\n",
              "1288  U1050   132560  ...          puesto de gorditas   Regional\n",
              "14    U1067   132560  ...          puesto de gorditas   Regional\n",
              "42    U1082   132560  ...          puesto de gorditas   Regional\n",
              "184   U1055   132572  ...                Cafe Chaires  Cafeteria\n",
              "...     ...      ...  ...                         ...        ...\n",
              "1224  U1002   135106  ...  El Rincón de San Francisco    Mexican\n",
              "99    U1030   135109  ...                   Paniroles    Italian\n",
              "178   U1020   135109  ...                   Paniroles    Italian\n",
              "1071  U1041   135109  ...                   Paniroles    Italian\n",
              "180   U1051   135109  ...                   Paniroles    Italian\n",
              "\n",
              "[1043 rows x 7 columns]"
            ]
          },
          "metadata": {},
          "execution_count": 31
        }
      ]
    },
    {
      "cell_type": "markdown",
      "metadata": {
        "id": "-62oleszggho"
      },
      "source": [
        "Selanjutnya, kita hanya akan menggunakan data unik untuk dimasukkan ke dalam proses pemodelan. Oleh karena itu, kita perlu menghapus data yang duplikat dengan fungsi drop_duplicates(). Dalam hal ini, kita membuang data duplikat pada kolom ‘placeID’. Implementasikan kode berikut."
      ]
    },
    {
      "cell_type": "code",
      "metadata": {
        "colab": {
          "base_uri": "https://localhost:8080/",
          "height": 419
        },
        "id": "y6LiJxffgiGZ",
        "outputId": "3653857a-8d2f-4fb4-8c9a-f8e0931fa6fd"
      },
      "source": [
        "# Membuang data duplikat pada variabel preparation\n",
        "preparation = preparation.drop_duplicates('placeID')\n",
        "preparation"
      ],
      "execution_count": null,
      "outputs": [
        {
          "output_type": "execute_result",
          "data": {
            "text/html": [
              "<div>\n",
              "<style scoped>\n",
              "    .dataframe tbody tr th:only-of-type {\n",
              "        vertical-align: middle;\n",
              "    }\n",
              "\n",
              "    .dataframe tbody tr th {\n",
              "        vertical-align: top;\n",
              "    }\n",
              "\n",
              "    .dataframe thead th {\n",
              "        text-align: right;\n",
              "    }\n",
              "</style>\n",
              "<table border=\"1\" class=\"dataframe\">\n",
              "  <thead>\n",
              "    <tr style=\"text-align: right;\">\n",
              "      <th></th>\n",
              "      <th>userID</th>\n",
              "      <th>placeID</th>\n",
              "      <th>rating</th>\n",
              "      <th>food_rating</th>\n",
              "      <th>service_rating</th>\n",
              "      <th>name</th>\n",
              "      <th>Rcuisine</th>\n",
              "    </tr>\n",
              "  </thead>\n",
              "  <tbody>\n",
              "    <tr>\n",
              "      <th>1303</th>\n",
              "      <td>U1087</td>\n",
              "      <td>132560</td>\n",
              "      <td>1</td>\n",
              "      <td>2</td>\n",
              "      <td>1</td>\n",
              "      <td>puesto de gorditas</td>\n",
              "      <td>Regional</td>\n",
              "    </tr>\n",
              "    <tr>\n",
              "      <th>1052</th>\n",
              "      <td>U1013</td>\n",
              "      <td>132572</td>\n",
              "      <td>1</td>\n",
              "      <td>1</td>\n",
              "      <td>0</td>\n",
              "      <td>Cafe Chaires</td>\n",
              "      <td>Cafeteria</td>\n",
              "    </tr>\n",
              "    <tr>\n",
              "      <th>168</th>\n",
              "      <td>U1118</td>\n",
              "      <td>132583</td>\n",
              "      <td>0</td>\n",
              "      <td>0</td>\n",
              "      <td>0</td>\n",
              "      <td>McDonalds Centro</td>\n",
              "      <td>American</td>\n",
              "    </tr>\n",
              "    <tr>\n",
              "      <th>24</th>\n",
              "      <td>U1107</td>\n",
              "      <td>132584</td>\n",
              "      <td>2</td>\n",
              "      <td>2</td>\n",
              "      <td>2</td>\n",
              "      <td>Gorditas Dona Tota</td>\n",
              "      <td>Mexican</td>\n",
              "    </tr>\n",
              "    <tr>\n",
              "      <th>1329</th>\n",
              "      <td>U1068</td>\n",
              "      <td>132594</td>\n",
              "      <td>1</td>\n",
              "      <td>1</td>\n",
              "      <td>1</td>\n",
              "      <td>tacos de barbacoa enfrente del Tec</td>\n",
              "      <td>Mexican</td>\n",
              "    </tr>\n",
              "    <tr>\n",
              "      <th>...</th>\n",
              "      <td>...</td>\n",
              "      <td>...</td>\n",
              "      <td>...</td>\n",
              "      <td>...</td>\n",
              "      <td>...</td>\n",
              "      <td>...</td>\n",
              "      <td>...</td>\n",
              "    </tr>\n",
              "    <tr>\n",
              "      <th>681</th>\n",
              "      <td>U1095</td>\n",
              "      <td>135086</td>\n",
              "      <td>1</td>\n",
              "      <td>2</td>\n",
              "      <td>1</td>\n",
              "      <td>Mcdonalds Parque Tangamanga</td>\n",
              "      <td>Fast_Food</td>\n",
              "    </tr>\n",
              "    <tr>\n",
              "      <th>175</th>\n",
              "      <td>U1020</td>\n",
              "      <td>135088</td>\n",
              "      <td>1</td>\n",
              "      <td>2</td>\n",
              "      <td>0</td>\n",
              "      <td>Cafeteria cenidet</td>\n",
              "      <td>Cafeteria</td>\n",
              "    </tr>\n",
              "    <tr>\n",
              "      <th>4</th>\n",
              "      <td>U1068</td>\n",
              "      <td>135104</td>\n",
              "      <td>1</td>\n",
              "      <td>1</td>\n",
              "      <td>2</td>\n",
              "      <td>vips</td>\n",
              "      <td>Mexican</td>\n",
              "    </tr>\n",
              "    <tr>\n",
              "      <th>488</th>\n",
              "      <td>U1004</td>\n",
              "      <td>135106</td>\n",
              "      <td>2</td>\n",
              "      <td>2</td>\n",
              "      <td>2</td>\n",
              "      <td>El Rincón de San Francisco</td>\n",
              "      <td>Mexican</td>\n",
              "    </tr>\n",
              "    <tr>\n",
              "      <th>178</th>\n",
              "      <td>U1020</td>\n",
              "      <td>135109</td>\n",
              "      <td>2</td>\n",
              "      <td>2</td>\n",
              "      <td>1</td>\n",
              "      <td>Paniroles</td>\n",
              "      <td>Italian</td>\n",
              "    </tr>\n",
              "  </tbody>\n",
              "</table>\n",
              "<p>95 rows × 7 columns</p>\n",
              "</div>"
            ],
            "text/plain": [
              "     userID  placeID  ...                                name   Rcuisine\n",
              "1303  U1087   132560  ...                  puesto de gorditas   Regional\n",
              "1052  U1013   132572  ...                        Cafe Chaires  Cafeteria\n",
              "168   U1118   132583  ...                    McDonalds Centro   American\n",
              "24    U1107   132584  ...                  Gorditas Dona Tota    Mexican\n",
              "1329  U1068   132594  ...  tacos de barbacoa enfrente del Tec    Mexican\n",
              "...     ...      ...  ...                                 ...        ...\n",
              "681   U1095   135086  ...         Mcdonalds Parque Tangamanga  Fast_Food\n",
              "175   U1020   135088  ...                   Cafeteria cenidet  Cafeteria\n",
              "4     U1068   135104  ...                                vips    Mexican\n",
              "488   U1004   135106  ...          El Rincón de San Francisco    Mexican\n",
              "178   U1020   135109  ...                           Paniroles    Italian\n",
              "\n",
              "[95 rows x 7 columns]"
            ]
          },
          "metadata": {},
          "execution_count": 32
        }
      ]
    },
    {
      "cell_type": "markdown",
      "metadata": {
        "id": "KeW79sqrgkl9"
      },
      "source": [
        "Selanjutnya, kita perlu melakukan konversi data series menjadi list. Dalam hal ini, kita menggunakan fungsi tolist() dari library numpy. Implementasikan kode berikut."
      ]
    },
    {
      "cell_type": "code",
      "metadata": {
        "colab": {
          "base_uri": "https://localhost:8080/"
        },
        "id": "zwSLmndSgnzS",
        "outputId": "8e4c1981-b6a2-4566-ad37-585a72e31994"
      },
      "source": [
        "# Mengonversi data series ‘placeID’ menjadi dalam bentuk list\n",
        "resto_id = preparation['placeID'].tolist()\n",
        " \n",
        "# Mengonversi data series ‘Name’ menjadi dalam bentuk list\n",
        "resto_name = preparation['name'].tolist()\n",
        " \n",
        "# Mengonversi data series ‘Rcuisine’ menjadi dalam bentuk list\n",
        "resto_cuisine = preparation['Rcuisine'].tolist()\n",
        " \n",
        "print(len(resto_id))\n",
        "print(len(resto_name))\n",
        "print(len(resto_cuisine))"
      ],
      "execution_count": null,
      "outputs": [
        {
          "output_type": "stream",
          "name": "stdout",
          "text": [
            "95\n",
            "95\n",
            "95\n"
          ]
        }
      ]
    },
    {
      "cell_type": "markdown",
      "metadata": {
        "id": "ZnrKJDkggsPF"
      },
      "source": [
        "Tahap berikutnya, kita akan membuat dictionary untuk menentukan pasangan key-value pada data resto_id, resto_name, dan resto_cuisine yang telah kita siapkan sebelumnya."
      ]
    },
    {
      "cell_type": "code",
      "metadata": {
        "colab": {
          "base_uri": "https://localhost:8080/",
          "height": 419
        },
        "id": "Nk8CFm8cgum9",
        "outputId": "53931ea2-8f34-4797-d460-fffd55cd7d54"
      },
      "source": [
        "# Membuat dictionary untuk data ‘resto_id’, ‘resto_name’, dan ‘cuisine’\n",
        "resto_new = pd.DataFrame({\n",
        "    'id': resto_id,\n",
        "    'resto_name': resto_name,\n",
        "    'cuisine': resto_cuisine\n",
        "})\n",
        "resto_new"
      ],
      "execution_count": null,
      "outputs": [
        {
          "output_type": "execute_result",
          "data": {
            "text/html": [
              "<div>\n",
              "<style scoped>\n",
              "    .dataframe tbody tr th:only-of-type {\n",
              "        vertical-align: middle;\n",
              "    }\n",
              "\n",
              "    .dataframe tbody tr th {\n",
              "        vertical-align: top;\n",
              "    }\n",
              "\n",
              "    .dataframe thead th {\n",
              "        text-align: right;\n",
              "    }\n",
              "</style>\n",
              "<table border=\"1\" class=\"dataframe\">\n",
              "  <thead>\n",
              "    <tr style=\"text-align: right;\">\n",
              "      <th></th>\n",
              "      <th>id</th>\n",
              "      <th>resto_name</th>\n",
              "      <th>cuisine</th>\n",
              "    </tr>\n",
              "  </thead>\n",
              "  <tbody>\n",
              "    <tr>\n",
              "      <th>0</th>\n",
              "      <td>132560</td>\n",
              "      <td>puesto de gorditas</td>\n",
              "      <td>Regional</td>\n",
              "    </tr>\n",
              "    <tr>\n",
              "      <th>1</th>\n",
              "      <td>132572</td>\n",
              "      <td>Cafe Chaires</td>\n",
              "      <td>Cafeteria</td>\n",
              "    </tr>\n",
              "    <tr>\n",
              "      <th>2</th>\n",
              "      <td>132583</td>\n",
              "      <td>McDonalds Centro</td>\n",
              "      <td>American</td>\n",
              "    </tr>\n",
              "    <tr>\n",
              "      <th>3</th>\n",
              "      <td>132584</td>\n",
              "      <td>Gorditas Dona Tota</td>\n",
              "      <td>Mexican</td>\n",
              "    </tr>\n",
              "    <tr>\n",
              "      <th>4</th>\n",
              "      <td>132594</td>\n",
              "      <td>tacos de barbacoa enfrente del Tec</td>\n",
              "      <td>Mexican</td>\n",
              "    </tr>\n",
              "    <tr>\n",
              "      <th>...</th>\n",
              "      <td>...</td>\n",
              "      <td>...</td>\n",
              "      <td>...</td>\n",
              "    </tr>\n",
              "    <tr>\n",
              "      <th>90</th>\n",
              "      <td>135086</td>\n",
              "      <td>Mcdonalds Parque Tangamanga</td>\n",
              "      <td>Fast_Food</td>\n",
              "    </tr>\n",
              "    <tr>\n",
              "      <th>91</th>\n",
              "      <td>135088</td>\n",
              "      <td>Cafeteria cenidet</td>\n",
              "      <td>Cafeteria</td>\n",
              "    </tr>\n",
              "    <tr>\n",
              "      <th>92</th>\n",
              "      <td>135104</td>\n",
              "      <td>vips</td>\n",
              "      <td>Mexican</td>\n",
              "    </tr>\n",
              "    <tr>\n",
              "      <th>93</th>\n",
              "      <td>135106</td>\n",
              "      <td>El Rincón de San Francisco</td>\n",
              "      <td>Mexican</td>\n",
              "    </tr>\n",
              "    <tr>\n",
              "      <th>94</th>\n",
              "      <td>135109</td>\n",
              "      <td>Paniroles</td>\n",
              "      <td>Italian</td>\n",
              "    </tr>\n",
              "  </tbody>\n",
              "</table>\n",
              "<p>95 rows × 3 columns</p>\n",
              "</div>"
            ],
            "text/plain": [
              "        id                          resto_name    cuisine\n",
              "0   132560                  puesto de gorditas   Regional\n",
              "1   132572                        Cafe Chaires  Cafeteria\n",
              "2   132583                    McDonalds Centro   American\n",
              "3   132584                  Gorditas Dona Tota    Mexican\n",
              "4   132594  tacos de barbacoa enfrente del Tec    Mexican\n",
              "..     ...                                 ...        ...\n",
              "90  135086         Mcdonalds Parque Tangamanga  Fast_Food\n",
              "91  135088                   Cafeteria cenidet  Cafeteria\n",
              "92  135104                                vips    Mexican\n",
              "93  135106          El Rincón de San Francisco    Mexican\n",
              "94  135109                           Paniroles    Italian\n",
              "\n",
              "[95 rows x 3 columns]"
            ]
          },
          "metadata": {},
          "execution_count": 34
        }
      ]
    },
    {
      "cell_type": "markdown",
      "metadata": {
        "id": "XrQL02B0L3Rj"
      },
      "source": [
        "# Model Development dengan Content Based Filtering\n",
        "\n",
        "\n",
        "## TF-IDF Vectorizer\n",
        "Pada tahap ini, kita akan membangun sistem rekomendasi sederhana berdasarkan jenis masakan yang disediakan restoran. Anda telah belajar mengenai TF-IDF Vectorizer pada modul Sentiment Analysis. Teknik tersebut juga akan digunakan pada sistem rekomendasi untuk menemukan representasi fitur penting dari setiap kategori masakan.\n",
        "\n",
        "Sama seperti proyek sentiment analysis, pada proyek ini, kita juga menggunakan fungsi tfidfvectorizer() dari library sklearn. Jalankan kode berikut"
      ]
    },
    {
      "cell_type": "code",
      "metadata": {
        "colab": {
          "base_uri": "https://localhost:8080/"
        },
        "id": "Ruj3ZBpaL_fc",
        "outputId": "e4439ab1-d7f9-406b-a964-2124e202949f"
      },
      "source": [
        "from sklearn.feature_extraction.text import TfidfVectorizer\n",
        " \n",
        "# Inisialisasi TfidfVectorizer\n",
        "tf = TfidfVectorizer()\n",
        " \n",
        "# Melakukan perhitungan idf pada data cuisine\n",
        "tf.fit(resto_new['cuisine']) \n",
        " \n",
        "# Mapping array dari fitur index integer ke fitur nama\n",
        "tf.get_feature_names() "
      ],
      "execution_count": null,
      "outputs": [
        {
          "output_type": "execute_result",
          "data": {
            "text/plain": [
              "['american',\n",
              " 'armenian',\n",
              " 'bar',\n",
              " 'bar_pub_brewery',\n",
              " 'breakfast',\n",
              " 'brunch',\n",
              " 'burgers',\n",
              " 'cafe',\n",
              " 'cafeteria',\n",
              " 'chinese',\n",
              " 'coffee_shop',\n",
              " 'contemporary',\n",
              " 'family',\n",
              " 'fast_food',\n",
              " 'international',\n",
              " 'italian',\n",
              " 'japanese',\n",
              " 'mexican',\n",
              " 'pizzeria',\n",
              " 'regional',\n",
              " 'seafood',\n",
              " 'vietnamese']"
            ]
          },
          "metadata": {},
          "execution_count": 35
        }
      ]
    },
    {
      "cell_type": "markdown",
      "metadata": {
        "id": "Wg4SRhzFMZ39"
      },
      "source": [
        "Selanjutnya, lakukan fit dan transformasi ke dalam bentuk matriks. "
      ]
    },
    {
      "cell_type": "code",
      "metadata": {
        "colab": {
          "base_uri": "https://localhost:8080/"
        },
        "id": "IphlObw3Mbny",
        "outputId": "2473bef4-6aeb-4733-ad27-d31f098a1b68"
      },
      "source": [
        "# Melakukan fit lalu ditransformasikan ke bentuk matrix\n",
        "tfidf_matrix = tf.fit_transform(resto_new['cuisine']) \n",
        " \n",
        "# Melihat ukuran matrix tfidf\n",
        "tfidf_matrix.shape "
      ],
      "execution_count": null,
      "outputs": [
        {
          "output_type": "execute_result",
          "data": {
            "text/plain": [
              "(95, 22)"
            ]
          },
          "metadata": {},
          "execution_count": 36
        }
      ]
    },
    {
      "cell_type": "markdown",
      "metadata": {
        "id": "a0xVSkdoNd7e"
      },
      "source": [
        "Perhatikanlah, matriks yang kita miliki berukuran (95, 22). Nilai 95 merupakan ukuran data dan 22 merupakan matrik kategori masakan. \n",
        "\n",
        "Untuk menghasilkan vektor tf-idf dalam bentuk matriks, kita menggunakan fungsi todense(). Jalankan kode berikut."
      ]
    },
    {
      "cell_type": "code",
      "metadata": {
        "colab": {
          "base_uri": "https://localhost:8080/"
        },
        "id": "WJKGrVYaNhHC",
        "outputId": "6c0708fd-ea8b-4391-b083-1c4bc2390a8e"
      },
      "source": [
        "# Mengubah vektor tf-idf dalam bentuk matriks dengan fungsi todense()\n",
        "tfidf_matrix.todense()"
      ],
      "execution_count": null,
      "outputs": [
        {
          "output_type": "execute_result",
          "data": {
            "text/plain": [
              "matrix([[0., 0., 0., ..., 1., 0., 0.],\n",
              "        [0., 0., 0., ..., 0., 0., 0.],\n",
              "        [1., 0., 0., ..., 0., 0., 0.],\n",
              "        ...,\n",
              "        [0., 0., 0., ..., 0., 0., 0.],\n",
              "        [0., 0., 0., ..., 0., 0., 0.],\n",
              "        [0., 0., 0., ..., 0., 0., 0.]])"
            ]
          },
          "metadata": {},
          "execution_count": 37
        }
      ]
    },
    {
      "cell_type": "markdown",
      "metadata": {
        "id": "NnvGQcNJNlLd"
      },
      "source": [
        "Selanjutnya, mari kita lihat matriks tf-idf untuk beberapa resto (resto_name) dan kategori masakan (cuisine). Terapkan kode berikut."
      ]
    },
    {
      "cell_type": "code",
      "metadata": {
        "colab": {
          "base_uri": "https://localhost:8080/",
          "height": 597
        },
        "id": "j-xhkpAcNnDI",
        "outputId": "4529f86d-cca9-4a64-f3ae-5a3f32f5cee3"
      },
      "source": [
        "# Membuat dataframe untuk melihat tf-idf matrix\n",
        "# Kolom diisi dengan jenis masakan\n",
        "# Baris diisi dengan nama resto\n",
        " \n",
        "pd.DataFrame(\n",
        "    tfidf_matrix.todense(), \n",
        "    columns=tf.get_feature_names(),\n",
        "    index=resto_new.resto_name\n",
        ").sample(22, axis=1).sample(10, axis=0)"
      ],
      "execution_count": null,
      "outputs": [
        {
          "output_type": "execute_result",
          "data": {
            "text/html": [
              "<div>\n",
              "<style scoped>\n",
              "    .dataframe tbody tr th:only-of-type {\n",
              "        vertical-align: middle;\n",
              "    }\n",
              "\n",
              "    .dataframe tbody tr th {\n",
              "        vertical-align: top;\n",
              "    }\n",
              "\n",
              "    .dataframe thead th {\n",
              "        text-align: right;\n",
              "    }\n",
              "</style>\n",
              "<table border=\"1\" class=\"dataframe\">\n",
              "  <thead>\n",
              "    <tr style=\"text-align: right;\">\n",
              "      <th></th>\n",
              "      <th>vietnamese</th>\n",
              "      <th>seafood</th>\n",
              "      <th>cafe</th>\n",
              "      <th>breakfast</th>\n",
              "      <th>family</th>\n",
              "      <th>bar_pub_brewery</th>\n",
              "      <th>cafeteria</th>\n",
              "      <th>contemporary</th>\n",
              "      <th>coffee_shop</th>\n",
              "      <th>pizzeria</th>\n",
              "      <th>fast_food</th>\n",
              "      <th>international</th>\n",
              "      <th>regional</th>\n",
              "      <th>burgers</th>\n",
              "      <th>italian</th>\n",
              "      <th>armenian</th>\n",
              "      <th>brunch</th>\n",
              "      <th>bar</th>\n",
              "      <th>mexican</th>\n",
              "      <th>japanese</th>\n",
              "      <th>chinese</th>\n",
              "      <th>american</th>\n",
              "    </tr>\n",
              "    <tr>\n",
              "      <th>resto_name</th>\n",
              "      <th></th>\n",
              "      <th></th>\n",
              "      <th></th>\n",
              "      <th></th>\n",
              "      <th></th>\n",
              "      <th></th>\n",
              "      <th></th>\n",
              "      <th></th>\n",
              "      <th></th>\n",
              "      <th></th>\n",
              "      <th></th>\n",
              "      <th></th>\n",
              "      <th></th>\n",
              "      <th></th>\n",
              "      <th></th>\n",
              "      <th></th>\n",
              "      <th></th>\n",
              "      <th></th>\n",
              "      <th></th>\n",
              "      <th></th>\n",
              "      <th></th>\n",
              "      <th></th>\n",
              "    </tr>\n",
              "  </thead>\n",
              "  <tbody>\n",
              "    <tr>\n",
              "      <th>Luna Cafe</th>\n",
              "      <td>0.0</td>\n",
              "      <td>0.0</td>\n",
              "      <td>0.0</td>\n",
              "      <td>0.0</td>\n",
              "      <td>0.0</td>\n",
              "      <td>0.0</td>\n",
              "      <td>0.0</td>\n",
              "      <td>0.0</td>\n",
              "      <td>0.0</td>\n",
              "      <td>0.0</td>\n",
              "      <td>0.0</td>\n",
              "      <td>0.0</td>\n",
              "      <td>0.0</td>\n",
              "      <td>0.0</td>\n",
              "      <td>0.0</td>\n",
              "      <td>0.0</td>\n",
              "      <td>0.0</td>\n",
              "      <td>1.0</td>\n",
              "      <td>0.0</td>\n",
              "      <td>0.0</td>\n",
              "      <td>0.0</td>\n",
              "      <td>0.0</td>\n",
              "    </tr>\n",
              "    <tr>\n",
              "      <th>Carreton de Flautas y Migadas</th>\n",
              "      <td>0.0</td>\n",
              "      <td>0.0</td>\n",
              "      <td>0.0</td>\n",
              "      <td>0.0</td>\n",
              "      <td>0.0</td>\n",
              "      <td>0.0</td>\n",
              "      <td>0.0</td>\n",
              "      <td>0.0</td>\n",
              "      <td>0.0</td>\n",
              "      <td>0.0</td>\n",
              "      <td>0.0</td>\n",
              "      <td>0.0</td>\n",
              "      <td>0.0</td>\n",
              "      <td>0.0</td>\n",
              "      <td>0.0</td>\n",
              "      <td>0.0</td>\n",
              "      <td>0.0</td>\n",
              "      <td>0.0</td>\n",
              "      <td>1.0</td>\n",
              "      <td>0.0</td>\n",
              "      <td>0.0</td>\n",
              "      <td>0.0</td>\n",
              "    </tr>\n",
              "    <tr>\n",
              "      <th>Mcdonalds Parque Tangamanga</th>\n",
              "      <td>0.0</td>\n",
              "      <td>0.0</td>\n",
              "      <td>0.0</td>\n",
              "      <td>0.0</td>\n",
              "      <td>0.0</td>\n",
              "      <td>0.0</td>\n",
              "      <td>0.0</td>\n",
              "      <td>0.0</td>\n",
              "      <td>0.0</td>\n",
              "      <td>0.0</td>\n",
              "      <td>1.0</td>\n",
              "      <td>0.0</td>\n",
              "      <td>0.0</td>\n",
              "      <td>0.0</td>\n",
              "      <td>0.0</td>\n",
              "      <td>0.0</td>\n",
              "      <td>0.0</td>\n",
              "      <td>0.0</td>\n",
              "      <td>0.0</td>\n",
              "      <td>0.0</td>\n",
              "      <td>0.0</td>\n",
              "      <td>0.0</td>\n",
              "    </tr>\n",
              "    <tr>\n",
              "      <th>Pizzeria Julios</th>\n",
              "      <td>0.0</td>\n",
              "      <td>0.0</td>\n",
              "      <td>0.0</td>\n",
              "      <td>0.0</td>\n",
              "      <td>0.0</td>\n",
              "      <td>0.0</td>\n",
              "      <td>0.0</td>\n",
              "      <td>0.0</td>\n",
              "      <td>0.0</td>\n",
              "      <td>0.0</td>\n",
              "      <td>0.0</td>\n",
              "      <td>0.0</td>\n",
              "      <td>0.0</td>\n",
              "      <td>0.0</td>\n",
              "      <td>0.0</td>\n",
              "      <td>0.0</td>\n",
              "      <td>0.0</td>\n",
              "      <td>0.0</td>\n",
              "      <td>0.0</td>\n",
              "      <td>0.0</td>\n",
              "      <td>0.0</td>\n",
              "      <td>1.0</td>\n",
              "    </tr>\n",
              "    <tr>\n",
              "      <th>Restaurante Bar El Gallinero</th>\n",
              "      <td>0.0</td>\n",
              "      <td>0.0</td>\n",
              "      <td>0.0</td>\n",
              "      <td>0.0</td>\n",
              "      <td>0.0</td>\n",
              "      <td>0.0</td>\n",
              "      <td>0.0</td>\n",
              "      <td>0.0</td>\n",
              "      <td>0.0</td>\n",
              "      <td>0.0</td>\n",
              "      <td>0.0</td>\n",
              "      <td>0.0</td>\n",
              "      <td>0.0</td>\n",
              "      <td>0.0</td>\n",
              "      <td>0.0</td>\n",
              "      <td>0.0</td>\n",
              "      <td>0.0</td>\n",
              "      <td>1.0</td>\n",
              "      <td>0.0</td>\n",
              "      <td>0.0</td>\n",
              "      <td>0.0</td>\n",
              "      <td>0.0</td>\n",
              "    </tr>\n",
              "    <tr>\n",
              "      <th>Restaurante Bar Fu-hao</th>\n",
              "      <td>0.0</td>\n",
              "      <td>0.0</td>\n",
              "      <td>0.0</td>\n",
              "      <td>0.0</td>\n",
              "      <td>0.0</td>\n",
              "      <td>0.0</td>\n",
              "      <td>0.0</td>\n",
              "      <td>0.0</td>\n",
              "      <td>0.0</td>\n",
              "      <td>0.0</td>\n",
              "      <td>0.0</td>\n",
              "      <td>0.0</td>\n",
              "      <td>0.0</td>\n",
              "      <td>0.0</td>\n",
              "      <td>0.0</td>\n",
              "      <td>0.0</td>\n",
              "      <td>0.0</td>\n",
              "      <td>1.0</td>\n",
              "      <td>0.0</td>\n",
              "      <td>0.0</td>\n",
              "      <td>0.0</td>\n",
              "      <td>0.0</td>\n",
              "    </tr>\n",
              "    <tr>\n",
              "      <th>Little Cesarz</th>\n",
              "      <td>0.0</td>\n",
              "      <td>0.0</td>\n",
              "      <td>0.0</td>\n",
              "      <td>0.0</td>\n",
              "      <td>0.0</td>\n",
              "      <td>0.0</td>\n",
              "      <td>0.0</td>\n",
              "      <td>0.0</td>\n",
              "      <td>0.0</td>\n",
              "      <td>1.0</td>\n",
              "      <td>0.0</td>\n",
              "      <td>0.0</td>\n",
              "      <td>0.0</td>\n",
              "      <td>0.0</td>\n",
              "      <td>0.0</td>\n",
              "      <td>0.0</td>\n",
              "      <td>0.0</td>\n",
              "      <td>0.0</td>\n",
              "      <td>0.0</td>\n",
              "      <td>0.0</td>\n",
              "      <td>0.0</td>\n",
              "      <td>0.0</td>\n",
              "    </tr>\n",
              "    <tr>\n",
              "      <th>Subway</th>\n",
              "      <td>0.0</td>\n",
              "      <td>0.0</td>\n",
              "      <td>0.0</td>\n",
              "      <td>0.0</td>\n",
              "      <td>0.0</td>\n",
              "      <td>0.0</td>\n",
              "      <td>0.0</td>\n",
              "      <td>0.0</td>\n",
              "      <td>0.0</td>\n",
              "      <td>0.0</td>\n",
              "      <td>1.0</td>\n",
              "      <td>0.0</td>\n",
              "      <td>0.0</td>\n",
              "      <td>0.0</td>\n",
              "      <td>0.0</td>\n",
              "      <td>0.0</td>\n",
              "      <td>0.0</td>\n",
              "      <td>0.0</td>\n",
              "      <td>0.0</td>\n",
              "      <td>0.0</td>\n",
              "      <td>0.0</td>\n",
              "      <td>0.0</td>\n",
              "    </tr>\n",
              "    <tr>\n",
              "      <th>Restaurant Las Mananitas</th>\n",
              "      <td>0.0</td>\n",
              "      <td>0.0</td>\n",
              "      <td>0.0</td>\n",
              "      <td>0.0</td>\n",
              "      <td>0.0</td>\n",
              "      <td>0.0</td>\n",
              "      <td>0.0</td>\n",
              "      <td>0.0</td>\n",
              "      <td>0.0</td>\n",
              "      <td>0.0</td>\n",
              "      <td>0.0</td>\n",
              "      <td>1.0</td>\n",
              "      <td>0.0</td>\n",
              "      <td>0.0</td>\n",
              "      <td>0.0</td>\n",
              "      <td>0.0</td>\n",
              "      <td>0.0</td>\n",
              "      <td>0.0</td>\n",
              "      <td>0.0</td>\n",
              "      <td>0.0</td>\n",
              "      <td>0.0</td>\n",
              "      <td>0.0</td>\n",
              "    </tr>\n",
              "    <tr>\n",
              "      <th>McDonalds Centro</th>\n",
              "      <td>0.0</td>\n",
              "      <td>0.0</td>\n",
              "      <td>0.0</td>\n",
              "      <td>0.0</td>\n",
              "      <td>0.0</td>\n",
              "      <td>0.0</td>\n",
              "      <td>0.0</td>\n",
              "      <td>0.0</td>\n",
              "      <td>0.0</td>\n",
              "      <td>0.0</td>\n",
              "      <td>0.0</td>\n",
              "      <td>0.0</td>\n",
              "      <td>0.0</td>\n",
              "      <td>0.0</td>\n",
              "      <td>0.0</td>\n",
              "      <td>0.0</td>\n",
              "      <td>0.0</td>\n",
              "      <td>0.0</td>\n",
              "      <td>0.0</td>\n",
              "      <td>0.0</td>\n",
              "      <td>0.0</td>\n",
              "      <td>1.0</td>\n",
              "    </tr>\n",
              "  </tbody>\n",
              "</table>\n",
              "</div>"
            ],
            "text/plain": [
              "                               vietnamese  seafood  ...  chinese  american\n",
              "resto_name                                          ...                   \n",
              "Luna Cafe                             0.0      0.0  ...      0.0       0.0\n",
              "Carreton de Flautas y Migadas         0.0      0.0  ...      0.0       0.0\n",
              "Mcdonalds Parque Tangamanga           0.0      0.0  ...      0.0       0.0\n",
              "Pizzeria Julios                       0.0      0.0  ...      0.0       1.0\n",
              "Restaurante Bar El Gallinero          0.0      0.0  ...      0.0       0.0\n",
              "Restaurante Bar Fu-hao                0.0      0.0  ...      0.0       0.0\n",
              "Little Cesarz                         0.0      0.0  ...      0.0       0.0\n",
              "Subway                                0.0      0.0  ...      0.0       0.0\n",
              "Restaurant Las Mananitas              0.0      0.0  ...      0.0       0.0\n",
              "McDonalds Centro                      0.0      0.0  ...      0.0       1.0\n",
              "\n",
              "[10 rows x 22 columns]"
            ]
          },
          "metadata": {},
          "execution_count": 38
        }
      ]
    },
    {
      "cell_type": "markdown",
      "metadata": {
        "id": "4gfqYBCRNq1Y"
      },
      "source": [
        "Output matriks tf-idf di atas menunjukkan Restaurant Bar Fu-hao memiliki kategori bar. Bar Fu-hao, matriks menunjukan bahwa restoran tersebut merupakan resto dengan kategori bar. Hal ini terlihat dari nilai matriks 1.0 pada kategori bar. Selanjutnya, restoran El Rincon de San Francisco termasuk dalam kategori mexican. Sedangkan, restoran Tortas y hamburguesas el gordo termasuk dalam kategori burgers. Demikian seterusnya. \n",
        "\n",
        "Sampai di sini, kita telah berhasil mengidentifikasi representasi fitur penting dari setiap kategori masakan dengan fungsi tfidfvectorizer. Kita juga telah menghasilkan matriks yang menunjukkan korelasi antara jenis masakan dengan restoran. Selanjutnya, kita akan menghitung derajat kesamaan antara satu restoran dengan restoran lainnya untuk menghasilkan kandidat restoran yang akan direkomendasikan."
      ]
    },
    {
      "cell_type": "markdown",
      "metadata": {
        "id": "DwEnI2VsNsUn"
      },
      "source": [
        "## Cosine Similarity\n",
        "Pada tahap sebelumnya, kita telah berhasil mengidentifikasi korelasi antara restoran dengan kategori masakannya. Sekarang, kita akan menghitung derajat kesamaan (similarity degree) antar restoran dengan teknik cosine similarity. Di sini, kita menggunakan fungsi cosine_similarity dari library sklearn. \n",
        "\n",
        "Jalankan kode berikut."
      ]
    },
    {
      "cell_type": "code",
      "metadata": {
        "colab": {
          "base_uri": "https://localhost:8080/"
        },
        "id": "rr4kwyISNqK8",
        "outputId": "28966843-94f8-4b47-98b4-2c4a216ea0ac"
      },
      "source": [
        "from sklearn.metrics.pairwise import cosine_similarity\n",
        " \n",
        "# Menghitung cosine similarity pada matrix tf-idf\n",
        "cosine_sim = cosine_similarity(tfidf_matrix) \n",
        "cosine_sim"
      ],
      "execution_count": null,
      "outputs": [
        {
          "output_type": "execute_result",
          "data": {
            "text/plain": [
              "array([[1., 0., 0., ..., 0., 0., 0.],\n",
              "       [0., 1., 0., ..., 0., 0., 0.],\n",
              "       [0., 0., 1., ..., 0., 0., 0.],\n",
              "       ...,\n",
              "       [0., 0., 0., ..., 1., 1., 0.],\n",
              "       [0., 0., 0., ..., 1., 1., 0.],\n",
              "       [0., 0., 0., ..., 0., 0., 1.]])"
            ]
          },
          "metadata": {},
          "execution_count": 39
        }
      ]
    },
    {
      "cell_type": "markdown",
      "metadata": {
        "id": "lt50vcaJN2V6"
      },
      "source": [
        "Pada tahapan ini, kita menghitung cosine similarity dataframe tfidf_matrix yang kita peroleh pada tahapan sebelumnya. Dengan satu baris kode untuk memanggil fungsi cosine similarity dari library sklearn, kita telah berhasil menghitung kesamaan (similarity) antar restoran. Kode di atas menghasilkan keluaran berupa matriks kesamaan dalam bentuk array. \n",
        "\n",
        "Selanjutnya, mari kita lihat matriks kesamaan setiap resto dengan menampilkan nama restoran dalam 5 sampel kolom (axis = 1) dan 10 sampel baris (axis=0). Jalankan kode berikut."
      ]
    },
    {
      "cell_type": "code",
      "metadata": {
        "colab": {
          "base_uri": "https://localhost:8080/",
          "height": 407
        },
        "id": "jEC99jyuN9uO",
        "outputId": "33fa70d6-7148-445f-9df0-953c660efd1f"
      },
      "source": [
        "# Membuat dataframe dari variabel cosine_sim dengan baris dan kolom berupa nama resto\n",
        "cosine_sim_df = pd.DataFrame(cosine_sim, index=resto_new['resto_name'], columns=resto_new['resto_name'])\n",
        "print('Shape:', cosine_sim_df.shape)\n",
        " \n",
        "# Melihat similarity matrix pada setiap resto\n",
        "cosine_sim_df.sample(5, axis=1).sample(10, axis=0)"
      ],
      "execution_count": null,
      "outputs": [
        {
          "output_type": "stream",
          "name": "stdout",
          "text": [
            "Shape: (95, 95)\n"
          ]
        },
        {
          "output_type": "execute_result",
          "data": {
            "text/html": [
              "<div>\n",
              "<style scoped>\n",
              "    .dataframe tbody tr th:only-of-type {\n",
              "        vertical-align: middle;\n",
              "    }\n",
              "\n",
              "    .dataframe tbody tr th {\n",
              "        vertical-align: top;\n",
              "    }\n",
              "\n",
              "    .dataframe thead th {\n",
              "        text-align: right;\n",
              "    }\n",
              "</style>\n",
              "<table border=\"1\" class=\"dataframe\">\n",
              "  <thead>\n",
              "    <tr style=\"text-align: right;\">\n",
              "      <th>resto_name</th>\n",
              "      <th>McDonalds Centro</th>\n",
              "      <th>La Posada del Virrey</th>\n",
              "      <th>Paniroles</th>\n",
              "      <th>Gorditas Doa Gloria</th>\n",
              "      <th>shi ro ie</th>\n",
              "    </tr>\n",
              "    <tr>\n",
              "      <th>resto_name</th>\n",
              "      <th></th>\n",
              "      <th></th>\n",
              "      <th></th>\n",
              "      <th></th>\n",
              "      <th></th>\n",
              "    </tr>\n",
              "  </thead>\n",
              "  <tbody>\n",
              "    <tr>\n",
              "      <th>Chaires</th>\n",
              "      <td>0.0</td>\n",
              "      <td>0.0</td>\n",
              "      <td>0.0</td>\n",
              "      <td>0.0</td>\n",
              "      <td>0.0</td>\n",
              "    </tr>\n",
              "    <tr>\n",
              "      <th>Restaurant Wu Zhuo Yi</th>\n",
              "      <td>0.0</td>\n",
              "      <td>0.0</td>\n",
              "      <td>0.0</td>\n",
              "      <td>0.0</td>\n",
              "      <td>0.0</td>\n",
              "    </tr>\n",
              "    <tr>\n",
              "      <th>Mcdonalds Parque Tangamanga</th>\n",
              "      <td>0.0</td>\n",
              "      <td>0.0</td>\n",
              "      <td>0.0</td>\n",
              "      <td>0.0</td>\n",
              "      <td>0.0</td>\n",
              "    </tr>\n",
              "    <tr>\n",
              "      <th>Hamburguesas Valle Dorado</th>\n",
              "      <td>0.0</td>\n",
              "      <td>0.0</td>\n",
              "      <td>0.0</td>\n",
              "      <td>0.0</td>\n",
              "      <td>0.0</td>\n",
              "    </tr>\n",
              "    <tr>\n",
              "      <th>Restaurant de Mariscos de Picon</th>\n",
              "      <td>0.0</td>\n",
              "      <td>0.0</td>\n",
              "      <td>0.0</td>\n",
              "      <td>0.0</td>\n",
              "      <td>0.0</td>\n",
              "    </tr>\n",
              "    <tr>\n",
              "      <th>El cotorreo</th>\n",
              "      <td>0.0</td>\n",
              "      <td>0.0</td>\n",
              "      <td>0.0</td>\n",
              "      <td>1.0</td>\n",
              "      <td>0.0</td>\n",
              "    </tr>\n",
              "    <tr>\n",
              "      <th>carnitas_mata</th>\n",
              "      <td>0.0</td>\n",
              "      <td>0.0</td>\n",
              "      <td>0.0</td>\n",
              "      <td>1.0</td>\n",
              "      <td>0.0</td>\n",
              "    </tr>\n",
              "    <tr>\n",
              "      <th>VIPS</th>\n",
              "      <td>1.0</td>\n",
              "      <td>0.0</td>\n",
              "      <td>0.0</td>\n",
              "      <td>0.0</td>\n",
              "      <td>0.0</td>\n",
              "    </tr>\n",
              "    <tr>\n",
              "      <th>El Mundo de la Pasta</th>\n",
              "      <td>0.0</td>\n",
              "      <td>0.0</td>\n",
              "      <td>1.0</td>\n",
              "      <td>0.0</td>\n",
              "      <td>0.0</td>\n",
              "    </tr>\n",
              "    <tr>\n",
              "      <th>Pizzeria Julios</th>\n",
              "      <td>1.0</td>\n",
              "      <td>0.0</td>\n",
              "      <td>0.0</td>\n",
              "      <td>0.0</td>\n",
              "      <td>0.0</td>\n",
              "    </tr>\n",
              "  </tbody>\n",
              "</table>\n",
              "</div>"
            ],
            "text/plain": [
              "resto_name                       McDonalds Centro  ...  shi ro ie\n",
              "resto_name                                         ...           \n",
              "Chaires                                       0.0  ...        0.0\n",
              "Restaurant Wu Zhuo Yi                         0.0  ...        0.0\n",
              "Mcdonalds Parque Tangamanga                   0.0  ...        0.0\n",
              "Hamburguesas Valle Dorado                     0.0  ...        0.0\n",
              "Restaurant de Mariscos de Picon               0.0  ...        0.0\n",
              "El cotorreo                                   0.0  ...        0.0\n",
              "carnitas_mata                                 0.0  ...        0.0\n",
              "VIPS                                          1.0  ...        0.0\n",
              "El Mundo de la Pasta                          0.0  ...        0.0\n",
              "Pizzeria Julios                               1.0  ...        0.0\n",
              "\n",
              "[10 rows x 5 columns]"
            ]
          },
          "metadata": {},
          "execution_count": 40
        }
      ]
    },
    {
      "cell_type": "markdown",
      "metadata": {
        "id": "ZnQML6EmOA23"
      },
      "source": [
        "Dengan cosine similarity, kita berhasil mengidentifikasi kesamaan antara satu restoran dengan restoran lainnya. Shape (95, 95) merupakan ukuran matriks similarity dari data yang kita miliki. Berdasarkan data yang ada, matriks di atas sebenarnya berukuran 95 restoran x 95 restoran (masing-masing dalam sumbu X dan Y). Artinya, kita mengidentifikasi tingkat kesamaan pada 95 nama restoran. Tapi tentu kita tidak bisa menampilkan semuanya. Oleh karena itu, kita hanya memilih 10 restoran pada baris vertikal dan 5 restoran pada sumbu horizontal seperti pada contoh di atas. \n",
        "\n",
        "Perhatikanlah kotak merah pada output matriks di atas. Angka 1.0 yang diberi kotak merah mengindikasikan bahwa restoran pada kolom X (horizontal) memiliki kesamaan dengan restoran pada baris Y (vertikal). Sebagai contoh, restoran Gorditas Doa Gloria dan Gorditas Dona Tota teridentifikasi sama (similar) dengan restoran Palomo Tec. Contoh lain, restoran La Perica Hamburguesa teridentifikasi mirip dengan restoran El Mundo de La Pasta. Cukup jelas, bukan?\n",
        "\n",
        "Nah, dengan data kesamaan (similarity) restoran yang diperoleh dari kode sebelumnya, kita akan merekomendasikan daftar resto yang mirip (similar) dengan resto yang sebelumnya pernah melayani pengguna. Yuk lanjut ke materi berikutnya!"
      ]
    },
    {
      "cell_type": "markdown",
      "metadata": {
        "id": "xDYETsfVOGeQ"
      },
      "source": [
        "## Mendapatkan Rekomendasi\n",
        "Sebelumnya, kita telah memiliki data similarity (kesamaan) antar restoran. Kini, tibalah saatnya  menghasilkan sejumlah restoran yang akan direkomendasikan kepada pengguna. Untuk lebih memahami bagaimana cara kerjanya, lihatlah kembali matriks similarity pada tahap sebelumnya. Sebagai gambaran, mari kita ambil satu contoh berikut.\n",
        "\n",
        "Pengguna X pernah memesan makanan dari resto Palomo Tec. Kemudian, saat pengguna tersebut berencana untuk memesan makanan dari restoran lain, sistem akan merekomendasikan resto Gorditas Doa Gloria atau Gorditas Dona Tota. Nah, rekomendasi kedua restoran ini berdasarkan kesamaan yang dihitung dengan cosine similarity pada tahap sebelumnya. \n",
        "\n",
        "Di sini, kita membuat fungsi resto_recommendations dengan beberapa parameter sebagai berikut:\n",
        "\n",
        "-Nama_resto : Nama restoran (index kemiripan dataframe).  \n",
        "-Similarity_data : Dataframe mengenai similarity yang telah kita definisikan sebelumnya.  \n",
        "-Items : Nama dan fitur yang digunakan untuk mendefinisikan kemiripan, dalam hal ini adalah ‘resto_name’ dan ‘cuisine’.  \n",
        "-k : Banyak rekomendasi yang ingin diberikan.  \n",
        "Sebelum mulai menulis kodenya, ingatlah kembali definisi sistem rekomendasi yang menyatakan bahwa keluaran sistem ini adalah berupa top-N recommendation. Oleh karena itu, kita akan memberikan sejumlah rekomendasi restoran pada pengguna yang diatur dalam parameter k. \n",
        "\n",
        "Jalankan kode berikut."
      ]
    },
    {
      "cell_type": "code",
      "metadata": {
        "id": "7IqgkMaDOAm6"
      },
      "source": [
        "def resto_recommendations(nama_resto, similarity_data=cosine_sim_df, items=resto_new[['resto_name', 'cuisine']], k=5):\n",
        "    \"\"\"\n",
        "    Rekomendasi Resto berdasarkan kemiripan dataframe\n",
        " \n",
        "    Parameter:\n",
        "    ---\n",
        "    nama_resto : tipe data string (str)\n",
        "                Nama Restoran (index kemiripan dataframe)\n",
        "    similarity_data : tipe data pd.DataFrame (object)\n",
        "                      Kesamaan dataframe, simetrik, dengan resto sebagai \n",
        "                      indeks dan kolom\n",
        "    items : tipe data pd.DataFrame (object)\n",
        "            Mengandung kedua nama dan fitur lainnya yang digunakan untuk mendefinisikan kemiripan\n",
        "    k : tipe data integer (int)\n",
        "        Banyaknya jumlah rekomendasi yang diberikan\n",
        "    ---\n",
        " \n",
        " \n",
        "    Pada index ini, kita mengambil k dengan nilai similarity terbesar \n",
        "    pada index matrix yang diberikan (i).\n",
        "    \"\"\"\n",
        " \n",
        " \n",
        "    # Mengambil data dengan menggunakan argpartition untuk melakukan partisi secara tidak langsung sepanjang sumbu yang diberikan    \n",
        "    # Dataframe diubah menjadi numpy\n",
        "    # Range(start, stop, step)\n",
        "    index = similarity_data.loc[:,nama_resto].to_numpy().argpartition(\n",
        "        range(-1, -k, -1))\n",
        "    \n",
        "    # Mengambil data dengan similarity terbesar dari index yang ada\n",
        "    closest = similarity_data.columns[index[-1:-(k+2):-1]]\n",
        "    \n",
        "    # Drop nama_resto agar nama resto yang dicari tidak muncul dalam daftar rekomendasi\n",
        "    closest = closest.drop(nama_resto, errors='ignore')\n",
        " \n",
        "    return pd.DataFrame(closest).merge(items).head(k)"
      ],
      "execution_count": null,
      "outputs": []
    },
    {
      "cell_type": "markdown",
      "metadata": {
        "id": "u9LTO9UGOc8G"
      },
      "source": [
        "Perhatikanlah, dengan menggunakan argpartition, kita mengambil sejumlah nilai k tertinggi dari similarity data (dalam kasus ini: dataframe cosine_sim_df). Kemudian, kita mengambil data dari bobot (tingkat kesamaan) tertinggi ke terendah. Data ini dimasukkan ke dalam variabel closest. Berikutnya, kita perlu menghapus nama_resto yang yang dicari agar tidak muncul dalam daftar rekomendasi. Dalam kasus ini, nanti kita akan mencari resto yang mirip dengan KFC, sehingga kita perlu drop nama_resto KFC agar tidak muncul dalam daftar rekomendais yang diberikan nanti.  \n",
        "\n",
        "Selanjutnya, mari kita terapkan kode di atas untuk menemukan rekomendasi restoran yang mirip dengan KFC. Terapkan kode berikut:"
      ]
    },
    {
      "cell_type": "code",
      "metadata": {
        "colab": {
          "base_uri": "https://localhost:8080/",
          "height": 80
        },
        "id": "bEI8b0ztOkbs",
        "outputId": "87509113-2925-471d-ae3e-08c9e7b3a839"
      },
      "source": [
        "resto_new[resto_new.resto_name.eq('KFC')]"
      ],
      "execution_count": null,
      "outputs": [
        {
          "output_type": "execute_result",
          "data": {
            "text/html": [
              "<div>\n",
              "<style scoped>\n",
              "    .dataframe tbody tr th:only-of-type {\n",
              "        vertical-align: middle;\n",
              "    }\n",
              "\n",
              "    .dataframe tbody tr th {\n",
              "        vertical-align: top;\n",
              "    }\n",
              "\n",
              "    .dataframe thead th {\n",
              "        text-align: right;\n",
              "    }\n",
              "</style>\n",
              "<table border=\"1\" class=\"dataframe\">\n",
              "  <thead>\n",
              "    <tr style=\"text-align: right;\">\n",
              "      <th></th>\n",
              "      <th>id</th>\n",
              "      <th>resto_name</th>\n",
              "      <th>cuisine</th>\n",
              "    </tr>\n",
              "  </thead>\n",
              "  <tbody>\n",
              "    <tr>\n",
              "      <th>31</th>\n",
              "      <td>132851</td>\n",
              "      <td>KFC</td>\n",
              "      <td>American</td>\n",
              "    </tr>\n",
              "  </tbody>\n",
              "</table>\n",
              "</div>"
            ],
            "text/plain": [
              "        id resto_name   cuisine\n",
              "31  132851        KFC  American"
            ]
          },
          "metadata": {},
          "execution_count": 42
        }
      ]
    },
    {
      "cell_type": "markdown",
      "metadata": {
        "id": "jFvD0epROmSm"
      },
      "source": [
        "Perhatikanlah, KFC masuk dalam kategori cuisine American. Tentu kita berharap rekomendasi yang diberikan adalah resto dengan kategori yang mirip. Nah, sekarang, dapatkan resto recommendation dengan memanggil fungsi yang telah kita definisikan sebelumnya:"
      ]
    },
    {
      "cell_type": "code",
      "metadata": {
        "colab": {
          "base_uri": "https://localhost:8080/",
          "height": 204
        },
        "id": "a5PJnUgqOoJd",
        "outputId": "cf3df296-1a88-448b-83c0-6834729c36ab"
      },
      "source": [
        "# Mendapatkan rekomendasi restoran yang mirip dengan KFC\n",
        "resto_recommendations('KFC')"
      ],
      "execution_count": null,
      "outputs": [
        {
          "output_type": "execute_result",
          "data": {
            "text/html": [
              "<div>\n",
              "<style scoped>\n",
              "    .dataframe tbody tr th:only-of-type {\n",
              "        vertical-align: middle;\n",
              "    }\n",
              "\n",
              "    .dataframe tbody tr th {\n",
              "        vertical-align: top;\n",
              "    }\n",
              "\n",
              "    .dataframe thead th {\n",
              "        text-align: right;\n",
              "    }\n",
              "</style>\n",
              "<table border=\"1\" class=\"dataframe\">\n",
              "  <thead>\n",
              "    <tr style=\"text-align: right;\">\n",
              "      <th></th>\n",
              "      <th>resto_name</th>\n",
              "      <th>cuisine</th>\n",
              "    </tr>\n",
              "  </thead>\n",
              "  <tbody>\n",
              "    <tr>\n",
              "      <th>0</th>\n",
              "      <td>VIPS</td>\n",
              "      <td>American</td>\n",
              "    </tr>\n",
              "    <tr>\n",
              "      <th>1</th>\n",
              "      <td>tacos los volcanes</td>\n",
              "      <td>American</td>\n",
              "    </tr>\n",
              "    <tr>\n",
              "      <th>2</th>\n",
              "      <td>Pizzeria Julios</td>\n",
              "      <td>American</td>\n",
              "    </tr>\n",
              "    <tr>\n",
              "      <th>3</th>\n",
              "      <td>Sirlone</td>\n",
              "      <td>International</td>\n",
              "    </tr>\n",
              "    <tr>\n",
              "      <th>4</th>\n",
              "      <td>McDonalds Centro</td>\n",
              "      <td>American</td>\n",
              "    </tr>\n",
              "  </tbody>\n",
              "</table>\n",
              "</div>"
            ],
            "text/plain": [
              "           resto_name        cuisine\n",
              "0                VIPS       American\n",
              "1  tacos los volcanes       American\n",
              "2     Pizzeria Julios       American\n",
              "3             Sirlone  International\n",
              "4    McDonalds Centro       American"
            ]
          },
          "metadata": {},
          "execution_count": 43
        }
      ]
    },
    {
      "cell_type": "markdown",
      "metadata": {
        "id": "v1bSrGKgO2MF"
      },
      "source": [
        "++++++++++++++++++++++++++++++++++++++++++++++++++++++++++++++++++++++++++++++++++++++++++"
      ]
    },
    {
      "cell_type": "markdown",
      "metadata": {
        "id": "IE5DXGzbO5HM"
      },
      "source": [
        "## Model Development dengan Collaborative Filtering \n",
        "Sebelumnya kita telah menerapkan teknik content based filtering pada data. Teknik ini merekomendasikan item yang mirip dengan preferensi pengguna di masa lalu. Pada materi ini, kita akan menerapkan teknik collaborative filtering untuk membuat sistem rekomendasi. Teknik ini membutuhkan data rating dari user. \n",
        "\n",
        "Goal proyek kita kali ini adalah menghasilkan rekomendasi sejumlah restoran yang sesuai dengan preferensi pengguna berdasarkan rating yang telah diberikan sebelumnya. Dari data rating pengguna, kita akan mengidentifikasi restoran-restoran yang mirip dan belum pernah dikunjungi oleh pengguna untuk direkomendasikan. Kita akan menggunakan teknik collaborative filtering untuk membuat rekomendasi ini. \n",
        "\n",
        "Yuk, langsung kita bangun model sistemnya!"
      ]
    },
    {
      "cell_type": "markdown",
      "metadata": {
        "id": "Hagyk77IPBjs"
      },
      "source": [
        "### Data Understanding\n",
        "Pertama, jangan lupa import semua library yang dibutuhkan. Seperti yang telah kita bahas sebelumnya, impor library di awal merupakan kebiasaan yang umum dilakukan oleh para praktisi data. Hal ini karena praktisi data kadang menggunakan IDE, tools, maupun lingkungan cloud lainnya. Sehingga, library perlu didefinisikan di awal. Namun, pada Google Colab, Anda juga bisa melakukan impor library di setiap sel kode. Pilihlah cara yang menurut Anda nyaman. \n",
        "\n",
        "Pada proyek ini, kita akan melakukan impor library di awal agar terlihat rapi dan pada sel kode selanjutnya, kita bisa fokus pada menulis kodenya saja. "
      ]
    },
    {
      "cell_type": "code",
      "metadata": {
        "id": "sz9QIFTxPTr9"
      },
      "source": [
        "# Import library\n",
        "import pandas as pd\n",
        "import numpy as np \n",
        "from zipfile import ZipFile\n",
        "import tensorflow as tf\n",
        "from tensorflow import keras\n",
        "from tensorflow.keras import layers\n",
        "from pathlib import Path\n",
        "import matplotlib.pyplot as plt"
      ],
      "execution_count": null,
      "outputs": []
    },
    {
      "cell_type": "markdown",
      "metadata": {
        "id": "e6pasz4-PYPC"
      },
      "source": [
        "Selanjutnya, pahami terlebih dahulu data rating yang kita miliki. Ingatlah saat Anda melakukan load data di awal dan membaca file rating_final.csv. Saat itu, Anda membuat variabel rating dan menetapkan data pada variabel tersebut. Untuk memudahkan supaya tidak tertukar dengan fitur ‘rating’ pada data, kita ubah nama variabel rating menjadi df."
      ]
    },
    {
      "cell_type": "code",
      "metadata": {
        "colab": {
          "base_uri": "https://localhost:8080/",
          "height": 419
        },
        "id": "EqppHcMPPYCv",
        "outputId": "b3d35966-f9a7-4204-b9a3-4ee3fbdbcd05"
      },
      "source": [
        "# Membaca dataset\n",
        " \n",
        "df = rating\n",
        "df"
      ],
      "execution_count": null,
      "outputs": [
        {
          "output_type": "execute_result",
          "data": {
            "text/html": [
              "<div>\n",
              "<style scoped>\n",
              "    .dataframe tbody tr th:only-of-type {\n",
              "        vertical-align: middle;\n",
              "    }\n",
              "\n",
              "    .dataframe tbody tr th {\n",
              "        vertical-align: top;\n",
              "    }\n",
              "\n",
              "    .dataframe thead th {\n",
              "        text-align: right;\n",
              "    }\n",
              "</style>\n",
              "<table border=\"1\" class=\"dataframe\">\n",
              "  <thead>\n",
              "    <tr style=\"text-align: right;\">\n",
              "      <th></th>\n",
              "      <th>userID</th>\n",
              "      <th>placeID</th>\n",
              "      <th>rating</th>\n",
              "      <th>food_rating</th>\n",
              "      <th>service_rating</th>\n",
              "    </tr>\n",
              "  </thead>\n",
              "  <tbody>\n",
              "    <tr>\n",
              "      <th>0</th>\n",
              "      <td>U1077</td>\n",
              "      <td>135085</td>\n",
              "      <td>2</td>\n",
              "      <td>2</td>\n",
              "      <td>2</td>\n",
              "    </tr>\n",
              "    <tr>\n",
              "      <th>1</th>\n",
              "      <td>U1077</td>\n",
              "      <td>135038</td>\n",
              "      <td>2</td>\n",
              "      <td>2</td>\n",
              "      <td>1</td>\n",
              "    </tr>\n",
              "    <tr>\n",
              "      <th>2</th>\n",
              "      <td>U1077</td>\n",
              "      <td>132825</td>\n",
              "      <td>2</td>\n",
              "      <td>2</td>\n",
              "      <td>2</td>\n",
              "    </tr>\n",
              "    <tr>\n",
              "      <th>3</th>\n",
              "      <td>U1077</td>\n",
              "      <td>135060</td>\n",
              "      <td>1</td>\n",
              "      <td>2</td>\n",
              "      <td>2</td>\n",
              "    </tr>\n",
              "    <tr>\n",
              "      <th>4</th>\n",
              "      <td>U1068</td>\n",
              "      <td>135104</td>\n",
              "      <td>1</td>\n",
              "      <td>1</td>\n",
              "      <td>2</td>\n",
              "    </tr>\n",
              "    <tr>\n",
              "      <th>...</th>\n",
              "      <td>...</td>\n",
              "      <td>...</td>\n",
              "      <td>...</td>\n",
              "      <td>...</td>\n",
              "      <td>...</td>\n",
              "    </tr>\n",
              "    <tr>\n",
              "      <th>1156</th>\n",
              "      <td>U1043</td>\n",
              "      <td>132630</td>\n",
              "      <td>1</td>\n",
              "      <td>1</td>\n",
              "      <td>1</td>\n",
              "    </tr>\n",
              "    <tr>\n",
              "      <th>1157</th>\n",
              "      <td>U1011</td>\n",
              "      <td>132715</td>\n",
              "      <td>1</td>\n",
              "      <td>1</td>\n",
              "      <td>0</td>\n",
              "    </tr>\n",
              "    <tr>\n",
              "      <th>1158</th>\n",
              "      <td>U1068</td>\n",
              "      <td>132733</td>\n",
              "      <td>1</td>\n",
              "      <td>1</td>\n",
              "      <td>0</td>\n",
              "    </tr>\n",
              "    <tr>\n",
              "      <th>1159</th>\n",
              "      <td>U1068</td>\n",
              "      <td>132594</td>\n",
              "      <td>1</td>\n",
              "      <td>1</td>\n",
              "      <td>1</td>\n",
              "    </tr>\n",
              "    <tr>\n",
              "      <th>1160</th>\n",
              "      <td>U1068</td>\n",
              "      <td>132660</td>\n",
              "      <td>0</td>\n",
              "      <td>0</td>\n",
              "      <td>0</td>\n",
              "    </tr>\n",
              "  </tbody>\n",
              "</table>\n",
              "<p>1161 rows × 5 columns</p>\n",
              "</div>"
            ],
            "text/plain": [
              "     userID  placeID  rating  food_rating  service_rating\n",
              "0     U1077   135085       2            2               2\n",
              "1     U1077   135038       2            2               1\n",
              "2     U1077   132825       2            2               2\n",
              "3     U1077   135060       1            2               2\n",
              "4     U1068   135104       1            1               2\n",
              "...     ...      ...     ...          ...             ...\n",
              "1156  U1043   132630       1            1               1\n",
              "1157  U1011   132715       1            1               0\n",
              "1158  U1068   132733       1            1               0\n",
              "1159  U1068   132594       1            1               1\n",
              "1160  U1068   132660       0            0               0\n",
              "\n",
              "[1161 rows x 5 columns]"
            ]
          },
          "metadata": {},
          "execution_count": 45
        }
      ]
    },
    {
      "cell_type": "markdown",
      "metadata": {
        "id": "ZFX98D9FPfGQ"
      },
      "source": [
        "### Data Preparation\n",
        "Kini Anda memasuki tahap preprocessing. Pada tahap ini, Anda perlu melakukan persiapan data untuk menyandikan (encode) fitur ‘user’ dan ‘placeID’ ke dalam indeks integer. Terapkan kode berikut."
      ]
    },
    {
      "cell_type": "code",
      "metadata": {
        "colab": {
          "base_uri": "https://localhost:8080/"
        },
        "id": "dJt27bMmPoyt",
        "outputId": "0f13e0e6-3e42-437c-b1c7-5aaace55b531"
      },
      "source": [
        "# Mengubah userID menjadi list tanpa nilai yang sama\n",
        "user_ids = df['userID'].unique().tolist()\n",
        "print('list userID: ', user_ids)\n",
        " \n",
        "# Melakukan encoding userID\n",
        "user_to_user_encoded = {x: i for i, x in enumerate(user_ids)}\n",
        "print('encoded userID : ', user_to_user_encoded)\n",
        " \n",
        "# Melakukan proses encoding angka ke ke userID\n",
        "user_encoded_to_user = {i: x for i, x in enumerate(user_ids)}\n",
        "print('encoded angka ke userID: ', user_encoded_to_user)"
      ],
      "execution_count": null,
      "outputs": [
        {
          "output_type": "stream",
          "name": "stdout",
          "text": [
            "list userID:  ['U1077', 'U1068', 'U1067', 'U1103', 'U1107', 'U1044', 'U1070', 'U1031', 'U1082', 'U1023', 'U1060', 'U1015', 'U1123', 'U1021', 'U1026', 'U1083', 'U1108', 'U1012', 'U1093', 'U1030', 'U1066', 'U1127', 'U1017', 'U1100', 'U1133', 'U1118', 'U1072', 'U1080', 'U1063', 'U1074', 'U1117', 'U1020', 'U1051', 'U1055', 'U1053', 'U1035', 'U1064', 'U1081', 'U1001', 'U1014', 'U1088', 'U1056', 'U1134', 'U1106', 'U1126', 'U1124', 'U1018', 'U1125', 'U1119', 'U1076', 'U1022', 'U1094', 'U1116', 'U1105', 'U1075', 'U1007', 'U1115', 'U1024', 'U1132', 'U1005', 'U1120', 'U1004', 'U1037', 'U1052', 'U1036', 'U1038', 'U1071', 'U1114', 'U1084', 'U1049', 'U1019', 'U1069', 'U1113', 'U1104', 'U1079', 'U1045', 'U1009', 'U1016', 'U1047', 'U1095', 'U1034', 'U1078', 'U1099', 'U1008', 'U1040', 'U1121', 'U1110', 'U1042', 'U1013', 'U1054', 'U1111', 'U1128', 'U1062', 'U1101', 'U1135', 'U1032', 'U1048', 'U1092', 'U1085', 'U1109', 'U1102', 'U1098', 'U1046', 'U1122', 'U1138', 'U1033', 'U1089', 'U1003', 'U1091', 'U1027', 'U1029', 'U1086', 'U1137', 'U1090', 'U1061', 'U1041', 'U1059', 'U1112', 'U1057', 'U1025', 'U1097', 'U1006', 'U1131', 'U1073', 'U1058', 'U1002', 'U1096', 'U1136', 'U1010', 'U1028', 'U1050', 'U1129', 'U1087', 'U1065', 'U1039', 'U1130', 'U1043', 'U1011']\n",
            "encoded userID :  {'U1077': 0, 'U1068': 1, 'U1067': 2, 'U1103': 3, 'U1107': 4, 'U1044': 5, 'U1070': 6, 'U1031': 7, 'U1082': 8, 'U1023': 9, 'U1060': 10, 'U1015': 11, 'U1123': 12, 'U1021': 13, 'U1026': 14, 'U1083': 15, 'U1108': 16, 'U1012': 17, 'U1093': 18, 'U1030': 19, 'U1066': 20, 'U1127': 21, 'U1017': 22, 'U1100': 23, 'U1133': 24, 'U1118': 25, 'U1072': 26, 'U1080': 27, 'U1063': 28, 'U1074': 29, 'U1117': 30, 'U1020': 31, 'U1051': 32, 'U1055': 33, 'U1053': 34, 'U1035': 35, 'U1064': 36, 'U1081': 37, 'U1001': 38, 'U1014': 39, 'U1088': 40, 'U1056': 41, 'U1134': 42, 'U1106': 43, 'U1126': 44, 'U1124': 45, 'U1018': 46, 'U1125': 47, 'U1119': 48, 'U1076': 49, 'U1022': 50, 'U1094': 51, 'U1116': 52, 'U1105': 53, 'U1075': 54, 'U1007': 55, 'U1115': 56, 'U1024': 57, 'U1132': 58, 'U1005': 59, 'U1120': 60, 'U1004': 61, 'U1037': 62, 'U1052': 63, 'U1036': 64, 'U1038': 65, 'U1071': 66, 'U1114': 67, 'U1084': 68, 'U1049': 69, 'U1019': 70, 'U1069': 71, 'U1113': 72, 'U1104': 73, 'U1079': 74, 'U1045': 75, 'U1009': 76, 'U1016': 77, 'U1047': 78, 'U1095': 79, 'U1034': 80, 'U1078': 81, 'U1099': 82, 'U1008': 83, 'U1040': 84, 'U1121': 85, 'U1110': 86, 'U1042': 87, 'U1013': 88, 'U1054': 89, 'U1111': 90, 'U1128': 91, 'U1062': 92, 'U1101': 93, 'U1135': 94, 'U1032': 95, 'U1048': 96, 'U1092': 97, 'U1085': 98, 'U1109': 99, 'U1102': 100, 'U1098': 101, 'U1046': 102, 'U1122': 103, 'U1138': 104, 'U1033': 105, 'U1089': 106, 'U1003': 107, 'U1091': 108, 'U1027': 109, 'U1029': 110, 'U1086': 111, 'U1137': 112, 'U1090': 113, 'U1061': 114, 'U1041': 115, 'U1059': 116, 'U1112': 117, 'U1057': 118, 'U1025': 119, 'U1097': 120, 'U1006': 121, 'U1131': 122, 'U1073': 123, 'U1058': 124, 'U1002': 125, 'U1096': 126, 'U1136': 127, 'U1010': 128, 'U1028': 129, 'U1050': 130, 'U1129': 131, 'U1087': 132, 'U1065': 133, 'U1039': 134, 'U1130': 135, 'U1043': 136, 'U1011': 137}\n",
            "encoded angka ke userID:  {0: 'U1077', 1: 'U1068', 2: 'U1067', 3: 'U1103', 4: 'U1107', 5: 'U1044', 6: 'U1070', 7: 'U1031', 8: 'U1082', 9: 'U1023', 10: 'U1060', 11: 'U1015', 12: 'U1123', 13: 'U1021', 14: 'U1026', 15: 'U1083', 16: 'U1108', 17: 'U1012', 18: 'U1093', 19: 'U1030', 20: 'U1066', 21: 'U1127', 22: 'U1017', 23: 'U1100', 24: 'U1133', 25: 'U1118', 26: 'U1072', 27: 'U1080', 28: 'U1063', 29: 'U1074', 30: 'U1117', 31: 'U1020', 32: 'U1051', 33: 'U1055', 34: 'U1053', 35: 'U1035', 36: 'U1064', 37: 'U1081', 38: 'U1001', 39: 'U1014', 40: 'U1088', 41: 'U1056', 42: 'U1134', 43: 'U1106', 44: 'U1126', 45: 'U1124', 46: 'U1018', 47: 'U1125', 48: 'U1119', 49: 'U1076', 50: 'U1022', 51: 'U1094', 52: 'U1116', 53: 'U1105', 54: 'U1075', 55: 'U1007', 56: 'U1115', 57: 'U1024', 58: 'U1132', 59: 'U1005', 60: 'U1120', 61: 'U1004', 62: 'U1037', 63: 'U1052', 64: 'U1036', 65: 'U1038', 66: 'U1071', 67: 'U1114', 68: 'U1084', 69: 'U1049', 70: 'U1019', 71: 'U1069', 72: 'U1113', 73: 'U1104', 74: 'U1079', 75: 'U1045', 76: 'U1009', 77: 'U1016', 78: 'U1047', 79: 'U1095', 80: 'U1034', 81: 'U1078', 82: 'U1099', 83: 'U1008', 84: 'U1040', 85: 'U1121', 86: 'U1110', 87: 'U1042', 88: 'U1013', 89: 'U1054', 90: 'U1111', 91: 'U1128', 92: 'U1062', 93: 'U1101', 94: 'U1135', 95: 'U1032', 96: 'U1048', 97: 'U1092', 98: 'U1085', 99: 'U1109', 100: 'U1102', 101: 'U1098', 102: 'U1046', 103: 'U1122', 104: 'U1138', 105: 'U1033', 106: 'U1089', 107: 'U1003', 108: 'U1091', 109: 'U1027', 110: 'U1029', 111: 'U1086', 112: 'U1137', 113: 'U1090', 114: 'U1061', 115: 'U1041', 116: 'U1059', 117: 'U1112', 118: 'U1057', 119: 'U1025', 120: 'U1097', 121: 'U1006', 122: 'U1131', 123: 'U1073', 124: 'U1058', 125: 'U1002', 126: 'U1096', 127: 'U1136', 128: 'U1010', 129: 'U1028', 130: 'U1050', 131: 'U1129', 132: 'U1087', 133: 'U1065', 134: 'U1039', 135: 'U1130', 136: 'U1043', 137: 'U1011'}\n"
          ]
        }
      ]
    },
    {
      "cell_type": "markdown",
      "metadata": {
        "id": "N1pFphs9Ps1u"
      },
      "source": [
        "Selanjutnya, lakukan hal yang sama pada fitur ‘placeID’."
      ]
    },
    {
      "cell_type": "code",
      "metadata": {
        "id": "977eOiBPPv8p"
      },
      "source": [
        "# Mengubah placeID menjadi list tanpa nilai yang sama\n",
        "resto_ids = df['placeID'].unique().tolist()\n",
        " \n",
        "# Melakukan proses encoding placeID\n",
        "resto_to_resto_encoded = {x: i for i, x in enumerate(resto_ids)}\n",
        " \n",
        "# Melakukan proses encoding angka ke placeID\n",
        "resto_encoded_to_resto = {i: x for i, x in enumerate(resto_ids)}\n",
        " \n",
        "# Selanjutnya, petakan userID dan placeID ke dataframe yang berkaitan.\n",
        " \n",
        "# Mapping userID ke dataframe user\n",
        "df['user'] = df['userID'].map(user_to_user_encoded)\n",
        " \n",
        "# Mapping placeID ke dataframe resto\n",
        "df['resto'] = df['placeID'].map(resto_to_resto_encoded)"
      ],
      "execution_count": null,
      "outputs": []
    },
    {
      "cell_type": "markdown",
      "metadata": {
        "id": "7F60C2btP3yD"
      },
      "source": [
        "Terakhir, cek beberapa hal dalam data seperti jumlah user, jumlah resto, dan mengubah nilai rating menjadi float."
      ]
    },
    {
      "cell_type": "code",
      "metadata": {
        "colab": {
          "base_uri": "https://localhost:8080/"
        },
        "id": "vrWhC6b_P6wv",
        "outputId": "ff20844b-6a37-4809-90d2-da4c9eb95cc0"
      },
      "source": [
        "# Mendapatkan jumlah user\n",
        "num_users = len(user_to_user_encoded)\n",
        "print(num_users)\n",
        " \n",
        "# Mendapatkan jumlah resto\n",
        "num_resto = len(resto_encoded_to_resto)\n",
        "print(num_resto)\n",
        " \n",
        "# Mengubah rating menjadi nilai float\n",
        "df['rating'] = df['rating'].values.astype(np.float32)\n",
        " \n",
        "# Nilai minimum rating\n",
        "min_rating = min(df['rating'])\n",
        " \n",
        "# Nilai maksimal rating\n",
        "max_rating = max(df['rating'])\n",
        " \n",
        "print('Number of User: {}, Number of Resto: {}, Min Rating: {}, Max Rating: {}'.format(\n",
        "    num_users, num_resto, min_rating, max_rating\n",
        "))"
      ],
      "execution_count": null,
      "outputs": [
        {
          "output_type": "stream",
          "name": "stdout",
          "text": [
            "138\n",
            "130\n",
            "Number of User: 138, Number of Resto: 130, Min Rating: 0.0, Max Rating: 2.0\n"
          ]
        }
      ]
    },
    {
      "cell_type": "markdown",
      "metadata": {
        "id": "zAN5biZJQBlO"
      },
      "source": [
        "Tahap persiapan telah selesai. Berikut adalah hal-hal yang telah kita lakukan pada tahap ini:\n",
        "\n",
        "-Memahami data rating yang kita miliki.  \n",
        "-Menyandikan (encode) fitur ‘user’ dan ‘placeID’ ke dalam indeks integer.   \n",
        "-Memetakan ‘userID’ dan ‘placeID’ ke dataframe yang berkaitan.  \n",
        "-Mengecek beberapa hal dalam data seperti jumlah user, jumlah resto, kemudian mengubah nilai rating menjadi float.  \n",
        "Tahap persiapan ini penting dilakukan agar data siap digunakan untuk pemodelan. Namun sebelumnya, kita perlu membagi data untuk training dan validasi terlebih dahulu yang akan kita pelajari di materi berikutnya. Tunggu apalagi, yuk kita lanjutkan."
      ]
    },
    {
      "cell_type": "markdown",
      "metadata": {
        "id": "_BfGy20cQMwL"
      },
      "source": [
        "### Membagi Data untuk Training dan Validasi\n",
        "Anda tentu sudah menduga, pada tahap ini kita akan melakukan pembagian data menjadi data training dan validasi. Betul! Namun sebelumnya, acak datanya terlebih dahulu agar distribusinya menjadi random.."
      ]
    },
    {
      "cell_type": "code",
      "metadata": {
        "colab": {
          "base_uri": "https://localhost:8080/",
          "height": 419
        },
        "id": "qQPmSxkhQR1o",
        "outputId": "21043cd5-d0a7-4770-f2d9-d3d55d4c00db"
      },
      "source": [
        "# Mengacak dataset\n",
        "df = df.sample(frac=1, random_state=42)\n",
        "df"
      ],
      "execution_count": null,
      "outputs": [
        {
          "output_type": "execute_result",
          "data": {
            "text/html": [
              "<div>\n",
              "<style scoped>\n",
              "    .dataframe tbody tr th:only-of-type {\n",
              "        vertical-align: middle;\n",
              "    }\n",
              "\n",
              "    .dataframe tbody tr th {\n",
              "        vertical-align: top;\n",
              "    }\n",
              "\n",
              "    .dataframe thead th {\n",
              "        text-align: right;\n",
              "    }\n",
              "</style>\n",
              "<table border=\"1\" class=\"dataframe\">\n",
              "  <thead>\n",
              "    <tr style=\"text-align: right;\">\n",
              "      <th></th>\n",
              "      <th>userID</th>\n",
              "      <th>placeID</th>\n",
              "      <th>rating</th>\n",
              "      <th>food_rating</th>\n",
              "      <th>service_rating</th>\n",
              "      <th>user</th>\n",
              "      <th>resto</th>\n",
              "    </tr>\n",
              "  </thead>\n",
              "  <tbody>\n",
              "    <tr>\n",
              "      <th>538</th>\n",
              "      <td>U1052</td>\n",
              "      <td>132870</td>\n",
              "      <td>1.0</td>\n",
              "      <td>1</td>\n",
              "      <td>1</td>\n",
              "      <td>63</td>\n",
              "      <td>116</td>\n",
              "    </tr>\n",
              "    <tr>\n",
              "      <th>673</th>\n",
              "      <td>U1015</td>\n",
              "      <td>132869</td>\n",
              "      <td>2.0</td>\n",
              "      <td>2</td>\n",
              "      <td>2</td>\n",
              "      <td>11</td>\n",
              "      <td>115</td>\n",
              "    </tr>\n",
              "    <tr>\n",
              "      <th>578</th>\n",
              "      <td>U1047</td>\n",
              "      <td>132875</td>\n",
              "      <td>0.0</td>\n",
              "      <td>0</td>\n",
              "      <td>0</td>\n",
              "      <td>78</td>\n",
              "      <td>117</td>\n",
              "    </tr>\n",
              "    <tr>\n",
              "      <th>242</th>\n",
              "      <td>U1056</td>\n",
              "      <td>135076</td>\n",
              "      <td>2.0</td>\n",
              "      <td>2</td>\n",
              "      <td>2</td>\n",
              "      <td>41</td>\n",
              "      <td>71</td>\n",
              "    </tr>\n",
              "    <tr>\n",
              "      <th>1063</th>\n",
              "      <td>U1002</td>\n",
              "      <td>135106</td>\n",
              "      <td>1.0</td>\n",
              "      <td>1</td>\n",
              "      <td>1</td>\n",
              "      <td>125</td>\n",
              "      <td>64</td>\n",
              "    </tr>\n",
              "    <tr>\n",
              "      <th>...</th>\n",
              "      <td>...</td>\n",
              "      <td>...</td>\n",
              "      <td>...</td>\n",
              "      <td>...</td>\n",
              "      <td>...</td>\n",
              "      <td>...</td>\n",
              "      <td>...</td>\n",
              "    </tr>\n",
              "    <tr>\n",
              "      <th>1044</th>\n",
              "      <td>U1073</td>\n",
              "      <td>135065</td>\n",
              "      <td>0.0</td>\n",
              "      <td>0</td>\n",
              "      <td>0</td>\n",
              "      <td>123</td>\n",
              "      <td>94</td>\n",
              "    </tr>\n",
              "    <tr>\n",
              "      <th>1095</th>\n",
              "      <td>U1058</td>\n",
              "      <td>135062</td>\n",
              "      <td>2.0</td>\n",
              "      <td>2</td>\n",
              "      <td>2</td>\n",
              "      <td>124</td>\n",
              "      <td>76</td>\n",
              "    </tr>\n",
              "    <tr>\n",
              "      <th>1130</th>\n",
              "      <td>U1087</td>\n",
              "      <td>132660</td>\n",
              "      <td>1.0</td>\n",
              "      <td>1</td>\n",
              "      <td>0</td>\n",
              "      <td>132</td>\n",
              "      <td>14</td>\n",
              "    </tr>\n",
              "    <tr>\n",
              "      <th>860</th>\n",
              "      <td>U1029</td>\n",
              "      <td>132937</td>\n",
              "      <td>1.0</td>\n",
              "      <td>1</td>\n",
              "      <td>1</td>\n",
              "      <td>110</td>\n",
              "      <td>126</td>\n",
              "    </tr>\n",
              "    <tr>\n",
              "      <th>1126</th>\n",
              "      <td>U1028</td>\n",
              "      <td>132663</td>\n",
              "      <td>0.0</td>\n",
              "      <td>0</td>\n",
              "      <td>0</td>\n",
              "      <td>129</td>\n",
              "      <td>6</td>\n",
              "    </tr>\n",
              "  </tbody>\n",
              "</table>\n",
              "<p>1161 rows × 7 columns</p>\n",
              "</div>"
            ],
            "text/plain": [
              "     userID  placeID  rating  food_rating  service_rating  user  resto\n",
              "538   U1052   132870     1.0            1               1    63    116\n",
              "673   U1015   132869     2.0            2               2    11    115\n",
              "578   U1047   132875     0.0            0               0    78    117\n",
              "242   U1056   135076     2.0            2               2    41     71\n",
              "1063  U1002   135106     1.0            1               1   125     64\n",
              "...     ...      ...     ...          ...             ...   ...    ...\n",
              "1044  U1073   135065     0.0            0               0   123     94\n",
              "1095  U1058   135062     2.0            2               2   124     76\n",
              "1130  U1087   132660     1.0            1               0   132     14\n",
              "860   U1029   132937     1.0            1               1   110    126\n",
              "1126  U1028   132663     0.0            0               0   129      6\n",
              "\n",
              "[1161 rows x 7 columns]"
            ]
          },
          "metadata": {},
          "execution_count": 49
        }
      ]
    },
    {
      "cell_type": "markdown",
      "metadata": {
        "id": "X4pOMSw1QWRe"
      },
      "source": [
        "Selanjutnya, kita bagi data train dan validasi dengan komposisi 80:20. Namun sebelumnya, kita perlu memetakan (mapping) data user dan resto menjadi satu value terlebih dahulu. Lalu, buatlah rating dalam skala 0 sampai 1 agar mudah dalam melakukan proses training. "
      ]
    },
    {
      "cell_type": "code",
      "metadata": {
        "colab": {
          "base_uri": "https://localhost:8080/"
        },
        "id": "C-thC2GBQdGf",
        "outputId": "2d982ce5-865a-45a0-b7b1-aaea405b9535"
      },
      "source": [
        "# Membuat variabel x untuk mencocokkan data user dan resto menjadi satu value\n",
        "x = df[['user', 'resto']].values\n",
        " \n",
        "# Membuat variabel y untuk membuat rating dari hasil \n",
        "y = df['rating'].apply(lambda x: (x - min_rating) / (max_rating - min_rating)).values\n",
        " \n",
        "# Membagi menjadi 80% data train dan 20% data validasi\n",
        "train_indices = int(0.8 * df.shape[0])\n",
        "x_train, x_val, y_train, y_val = (\n",
        "    x[:train_indices],\n",
        "    x[train_indices:],\n",
        "    y[:train_indices],\n",
        "    y[train_indices:]\n",
        ")\n",
        " \n",
        "print(x, y)"
      ],
      "execution_count": null,
      "outputs": [
        {
          "output_type": "stream",
          "name": "stdout",
          "text": [
            "[[ 63 116]\n",
            " [ 11 115]\n",
            " [ 78 117]\n",
            " ...\n",
            " [132  14]\n",
            " [110 126]\n",
            " [129   6]] [0.5 1.  0.  ... 0.5 0.5 0. ]\n"
          ]
        }
      ]
    },
    {
      "cell_type": "markdown",
      "metadata": {
        "id": "zUZ7PZClQoCX"
      },
      "source": [
        "### Proses Training\n",
        "Pada tahap ini, model menghitung skor kecocokan antara pengguna dan resto dengan teknik embedding. Pertama, kita melakukan proses embedding terhadap data user dan resto. Selanjutnya, lakukan operasi perkalian dot product antara embedding user dan resto. Selain itu, kita juga dapat menambahkan bias untuk setiap user dan resto. Skor kecocokan ditetapkan dalam skala [0,1] dengan fungsi aktivasi sigmoid.\n",
        "\n",
        "Di sini, kita membuat class RecommenderNet dengan keras Model class. Kode class RecommenderNet ini terinspirasi dari tutorial dalam situs Keras dengan beberapa adaptasi sesuai kasus yang sedang kita selesaikan. Terapkan kode berikut."
      ]
    },
    {
      "cell_type": "code",
      "metadata": {
        "id": "NwWjQNuTQtBU"
      },
      "source": [
        "class RecommenderNet(tf.keras.Model):\n",
        " \n",
        "  # Insialisasi fungsi\n",
        "  def __init__(self, num_users, num_resto, embedding_size, **kwargs):\n",
        "    super(RecommenderNet, self).__init__(**kwargs)\n",
        "    self.num_users = num_users\n",
        "    self.num_resto = num_resto\n",
        "    self.embedding_size = embedding_size\n",
        "    self.user_embedding = layers.Embedding( # layer embedding user\n",
        "        num_users,\n",
        "        embedding_size,\n",
        "        embeddings_initializer = 'he_normal',\n",
        "        embeddings_regularizer = keras.regularizers.l2(1e-6)\n",
        "    )\n",
        "    self.user_bias = layers.Embedding(num_users, 1) # layer embedding user bias\n",
        "    self.resto_embedding = layers.Embedding( # layer embeddings resto\n",
        "        num_resto,\n",
        "        embedding_size,\n",
        "        embeddings_initializer = 'he_normal',\n",
        "        embeddings_regularizer = keras.regularizers.l2(1e-6)\n",
        "    )\n",
        "    self.resto_bias = layers.Embedding(num_resto, 1) # layer embedding resto bias\n",
        " \n",
        "  def call(self, inputs):\n",
        "    user_vector = self.user_embedding(inputs[:,0]) # memanggil layer embedding 1\n",
        "    user_bias = self.user_bias(inputs[:, 0]) # memanggil layer embedding 2\n",
        "    resto_vector = self.resto_embedding(inputs[:, 1]) # memanggil layer embedding 3\n",
        "    resto_bias = self.resto_bias(inputs[:, 1]) # memanggil layer embedding 4\n",
        " \n",
        "    dot_user_resto = tf.tensordot(user_vector, resto_vector, 2) \n",
        " \n",
        "    x = dot_user_resto + user_bias + resto_bias\n",
        "    \n",
        "    return tf.nn.sigmoid(x) # activation sigmoid"
      ],
      "execution_count": null,
      "outputs": []
    },
    {
      "cell_type": "markdown",
      "metadata": {
        "id": "V29cvzoGQu1Z"
      },
      "source": [
        "Selanjutnya, lakukan proses compile terhadap model."
      ]
    },
    {
      "cell_type": "code",
      "metadata": {
        "id": "DX7GdqjHQyps"
      },
      "source": [
        "model = RecommenderNet(num_users, num_resto, 50) # inisialisasi model\n",
        " \n",
        "# model compile\n",
        "model.compile(\n",
        "    loss = tf.keras.losses.BinaryCrossentropy(),\n",
        "    optimizer = keras.optimizers.Adam(learning_rate=0.001),\n",
        "    metrics=[tf.keras.metrics.RootMeanSquaredError()]\n",
        ")"
      ],
      "execution_count": null,
      "outputs": []
    },
    {
      "cell_type": "markdown",
      "metadata": {
        "id": "ISrZu97CQzU5"
      },
      "source": [
        "Model ini menggunakan Binary Crossentropy untuk menghitung loss function, Adam (Adaptive Moment Estimation) sebagai optimizer, dan root mean squared error (RMSE) sebagai metrics evaluation. \n",
        "\n",
        "Langkah berikutnya, mulailah proses training. "
      ]
    },
    {
      "cell_type": "code",
      "metadata": {
        "colab": {
          "base_uri": "https://localhost:8080/"
        },
        "id": "g94d6UKKQ7hX",
        "outputId": "09067c67-89aa-4641-f99f-917585f4bdc6"
      },
      "source": [
        "# Memulai training\n",
        " \n",
        "history = model.fit(\n",
        "    x = x_train,\n",
        "    y = y_train,\n",
        "    batch_size = 8,\n",
        "    epochs = 100,\n",
        "    validation_data = (x_val, y_val)\n",
        ")"
      ],
      "execution_count": null,
      "outputs": [
        {
          "output_type": "stream",
          "name": "stdout",
          "text": [
            "Epoch 1/100\n",
            "116/116 [==============================] - 1s 5ms/step - loss: 0.6943 - root_mean_squared_error: 0.3992 - val_loss: 0.7125 - val_root_mean_squared_error: 0.4127\n",
            "Epoch 2/100\n",
            "116/116 [==============================] - 0s 2ms/step - loss: 0.6726 - root_mean_squared_error: 0.3857 - val_loss: 0.7071 - val_root_mean_squared_error: 0.4095\n",
            "Epoch 3/100\n",
            "116/116 [==============================] - 0s 2ms/step - loss: 0.6636 - root_mean_squared_error: 0.3800 - val_loss: 0.7034 - val_root_mean_squared_error: 0.4073\n",
            "Epoch 4/100\n",
            "116/116 [==============================] - 0s 2ms/step - loss: 0.6485 - root_mean_squared_error: 0.3705 - val_loss: 0.7001 - val_root_mean_squared_error: 0.4052\n",
            "Epoch 5/100\n",
            "116/116 [==============================] - 0s 2ms/step - loss: 0.6377 - root_mean_squared_error: 0.3635 - val_loss: 0.6965 - val_root_mean_squared_error: 0.4030\n",
            "Epoch 6/100\n",
            "116/116 [==============================] - 0s 2ms/step - loss: 0.6366 - root_mean_squared_error: 0.3628 - val_loss: 0.6927 - val_root_mean_squared_error: 0.4007\n",
            "Epoch 7/100\n",
            "116/116 [==============================] - 0s 2ms/step - loss: 0.6307 - root_mean_squared_error: 0.3589 - val_loss: 0.6881 - val_root_mean_squared_error: 0.3979\n",
            "Epoch 8/100\n",
            "116/116 [==============================] - 0s 2ms/step - loss: 0.6223 - root_mean_squared_error: 0.3534 - val_loss: 0.6849 - val_root_mean_squared_error: 0.3959\n",
            "Epoch 9/100\n",
            "116/116 [==============================] - 0s 2ms/step - loss: 0.6137 - root_mean_squared_error: 0.3480 - val_loss: 0.6806 - val_root_mean_squared_error: 0.3932\n",
            "Epoch 10/100\n",
            "116/116 [==============================] - 0s 2ms/step - loss: 0.6088 - root_mean_squared_error: 0.3449 - val_loss: 0.6769 - val_root_mean_squared_error: 0.3909\n",
            "Epoch 11/100\n",
            "116/116 [==============================] - 0s 2ms/step - loss: 0.5975 - root_mean_squared_error: 0.3370 - val_loss: 0.6742 - val_root_mean_squared_error: 0.3892\n",
            "Epoch 12/100\n",
            "116/116 [==============================] - 0s 2ms/step - loss: 0.5906 - root_mean_squared_error: 0.3326 - val_loss: 0.6709 - val_root_mean_squared_error: 0.3871\n",
            "Epoch 13/100\n",
            "116/116 [==============================] - 0s 2ms/step - loss: 0.5888 - root_mean_squared_error: 0.3310 - val_loss: 0.6685 - val_root_mean_squared_error: 0.3856\n",
            "Epoch 14/100\n",
            "116/116 [==============================] - 0s 2ms/step - loss: 0.5937 - root_mean_squared_error: 0.3346 - val_loss: 0.6644 - val_root_mean_squared_error: 0.3830\n",
            "Epoch 15/100\n",
            "116/116 [==============================] - 0s 2ms/step - loss: 0.5802 - root_mean_squared_error: 0.3255 - val_loss: 0.6612 - val_root_mean_squared_error: 0.3810\n",
            "Epoch 16/100\n",
            "116/116 [==============================] - 0s 2ms/step - loss: 0.5713 - root_mean_squared_error: 0.3191 - val_loss: 0.6577 - val_root_mean_squared_error: 0.3788\n",
            "Epoch 17/100\n",
            "116/116 [==============================] - 0s 2ms/step - loss: 0.5742 - root_mean_squared_error: 0.3218 - val_loss: 0.6532 - val_root_mean_squared_error: 0.3759\n",
            "Epoch 18/100\n",
            "116/116 [==============================] - 0s 2ms/step - loss: 0.5682 - root_mean_squared_error: 0.3173 - val_loss: 0.6496 - val_root_mean_squared_error: 0.3736\n",
            "Epoch 19/100\n",
            "116/116 [==============================] - 0s 2ms/step - loss: 0.5654 - root_mean_squared_error: 0.3151 - val_loss: 0.6475 - val_root_mean_squared_error: 0.3722\n",
            "Epoch 20/100\n",
            "116/116 [==============================] - 0s 2ms/step - loss: 0.5599 - root_mean_squared_error: 0.3111 - val_loss: 0.6459 - val_root_mean_squared_error: 0.3713\n",
            "Epoch 21/100\n",
            "116/116 [==============================] - 0s 2ms/step - loss: 0.5567 - root_mean_squared_error: 0.3093 - val_loss: 0.6443 - val_root_mean_squared_error: 0.3703\n",
            "Epoch 22/100\n",
            "116/116 [==============================] - 0s 2ms/step - loss: 0.5565 - root_mean_squared_error: 0.3085 - val_loss: 0.6432 - val_root_mean_squared_error: 0.3696\n",
            "Epoch 23/100\n",
            "116/116 [==============================] - 0s 2ms/step - loss: 0.5496 - root_mean_squared_error: 0.3044 - val_loss: 0.6416 - val_root_mean_squared_error: 0.3685\n",
            "Epoch 24/100\n",
            "116/116 [==============================] - 0s 2ms/step - loss: 0.5416 - root_mean_squared_error: 0.2982 - val_loss: 0.6402 - val_root_mean_squared_error: 0.3677\n",
            "Epoch 25/100\n",
            "116/116 [==============================] - 0s 2ms/step - loss: 0.5425 - root_mean_squared_error: 0.2988 - val_loss: 0.6389 - val_root_mean_squared_error: 0.3669\n",
            "Epoch 26/100\n",
            "116/116 [==============================] - 0s 2ms/step - loss: 0.5406 - root_mean_squared_error: 0.2973 - val_loss: 0.6379 - val_root_mean_squared_error: 0.3662\n",
            "Epoch 27/100\n",
            "116/116 [==============================] - 0s 2ms/step - loss: 0.5322 - root_mean_squared_error: 0.2926 - val_loss: 0.6366 - val_root_mean_squared_error: 0.3654\n",
            "Epoch 28/100\n",
            "116/116 [==============================] - 0s 2ms/step - loss: 0.5365 - root_mean_squared_error: 0.2951 - val_loss: 0.6345 - val_root_mean_squared_error: 0.3641\n",
            "Epoch 29/100\n",
            "116/116 [==============================] - 0s 2ms/step - loss: 0.5254 - root_mean_squared_error: 0.2875 - val_loss: 0.6345 - val_root_mean_squared_error: 0.3641\n",
            "Epoch 30/100\n",
            "116/116 [==============================] - 0s 2ms/step - loss: 0.5317 - root_mean_squared_error: 0.2917 - val_loss: 0.6339 - val_root_mean_squared_error: 0.3638\n",
            "Epoch 31/100\n",
            "116/116 [==============================] - 0s 2ms/step - loss: 0.5225 - root_mean_squared_error: 0.2848 - val_loss: 0.6317 - val_root_mean_squared_error: 0.3623\n",
            "Epoch 32/100\n",
            "116/116 [==============================] - 0s 2ms/step - loss: 0.5287 - root_mean_squared_error: 0.2891 - val_loss: 0.6302 - val_root_mean_squared_error: 0.3614\n",
            "Epoch 33/100\n",
            "116/116 [==============================] - 0s 2ms/step - loss: 0.5183 - root_mean_squared_error: 0.2823 - val_loss: 0.6296 - val_root_mean_squared_error: 0.3610\n",
            "Epoch 34/100\n",
            "116/116 [==============================] - 0s 2ms/step - loss: 0.5237 - root_mean_squared_error: 0.2854 - val_loss: 0.6282 - val_root_mean_squared_error: 0.3602\n",
            "Epoch 35/100\n",
            "116/116 [==============================] - 0s 2ms/step - loss: 0.5157 - root_mean_squared_error: 0.2804 - val_loss: 0.6270 - val_root_mean_squared_error: 0.3594\n",
            "Epoch 36/100\n",
            "116/116 [==============================] - 0s 2ms/step - loss: 0.5217 - root_mean_squared_error: 0.2843 - val_loss: 0.6248 - val_root_mean_squared_error: 0.3581\n",
            "Epoch 37/100\n",
            "116/116 [==============================] - 0s 2ms/step - loss: 0.5113 - root_mean_squared_error: 0.2766 - val_loss: 0.6229 - val_root_mean_squared_error: 0.3569\n",
            "Epoch 38/100\n",
            "116/116 [==============================] - 0s 2ms/step - loss: 0.5113 - root_mean_squared_error: 0.2768 - val_loss: 0.6221 - val_root_mean_squared_error: 0.3564\n",
            "Epoch 39/100\n",
            "116/116 [==============================] - 0s 2ms/step - loss: 0.5125 - root_mean_squared_error: 0.2771 - val_loss: 0.6206 - val_root_mean_squared_error: 0.3554\n",
            "Epoch 40/100\n",
            "116/116 [==============================] - 0s 2ms/step - loss: 0.5057 - root_mean_squared_error: 0.2730 - val_loss: 0.6198 - val_root_mean_squared_error: 0.3549\n",
            "Epoch 41/100\n",
            "116/116 [==============================] - 0s 2ms/step - loss: 0.5047 - root_mean_squared_error: 0.2719 - val_loss: 0.6183 - val_root_mean_squared_error: 0.3541\n",
            "Epoch 42/100\n",
            "116/116 [==============================] - 0s 2ms/step - loss: 0.5048 - root_mean_squared_error: 0.2720 - val_loss: 0.6175 - val_root_mean_squared_error: 0.3536\n",
            "Epoch 43/100\n",
            "116/116 [==============================] - 0s 2ms/step - loss: 0.5073 - root_mean_squared_error: 0.2746 - val_loss: 0.6171 - val_root_mean_squared_error: 0.3534\n",
            "Epoch 44/100\n",
            "116/116 [==============================] - 0s 2ms/step - loss: 0.5002 - root_mean_squared_error: 0.2694 - val_loss: 0.6160 - val_root_mean_squared_error: 0.3527\n",
            "Epoch 45/100\n",
            "116/116 [==============================] - 0s 2ms/step - loss: 0.4991 - root_mean_squared_error: 0.2688 - val_loss: 0.6131 - val_root_mean_squared_error: 0.3508\n",
            "Epoch 46/100\n",
            "116/116 [==============================] - 0s 2ms/step - loss: 0.5007 - root_mean_squared_error: 0.2694 - val_loss: 0.6126 - val_root_mean_squared_error: 0.3506\n",
            "Epoch 47/100\n",
            "116/116 [==============================] - 0s 2ms/step - loss: 0.4945 - root_mean_squared_error: 0.2650 - val_loss: 0.6129 - val_root_mean_squared_error: 0.3508\n",
            "Epoch 48/100\n",
            "116/116 [==============================] - 0s 2ms/step - loss: 0.4978 - root_mean_squared_error: 0.2675 - val_loss: 0.6120 - val_root_mean_squared_error: 0.3502\n",
            "Epoch 49/100\n",
            "116/116 [==============================] - 0s 2ms/step - loss: 0.4943 - root_mean_squared_error: 0.2653 - val_loss: 0.6109 - val_root_mean_squared_error: 0.3495\n",
            "Epoch 50/100\n",
            "116/116 [==============================] - 0s 2ms/step - loss: 0.4902 - root_mean_squared_error: 0.2620 - val_loss: 0.6087 - val_root_mean_squared_error: 0.3480\n",
            "Epoch 51/100\n",
            "116/116 [==============================] - 0s 2ms/step - loss: 0.4896 - root_mean_squared_error: 0.2617 - val_loss: 0.6091 - val_root_mean_squared_error: 0.3483\n",
            "Epoch 52/100\n",
            "116/116 [==============================] - 0s 2ms/step - loss: 0.4843 - root_mean_squared_error: 0.2578 - val_loss: 0.6085 - val_root_mean_squared_error: 0.3480\n",
            "Epoch 53/100\n",
            "116/116 [==============================] - 0s 2ms/step - loss: 0.4918 - root_mean_squared_error: 0.2627 - val_loss: 0.6088 - val_root_mean_squared_error: 0.3483\n",
            "Epoch 54/100\n",
            "116/116 [==============================] - 0s 2ms/step - loss: 0.4902 - root_mean_squared_error: 0.2622 - val_loss: 0.6090 - val_root_mean_squared_error: 0.3485\n",
            "Epoch 55/100\n",
            "116/116 [==============================] - 0s 2ms/step - loss: 0.4882 - root_mean_squared_error: 0.2607 - val_loss: 0.6082 - val_root_mean_squared_error: 0.3481\n",
            "Epoch 56/100\n",
            "116/116 [==============================] - 0s 2ms/step - loss: 0.4833 - root_mean_squared_error: 0.2576 - val_loss: 0.6084 - val_root_mean_squared_error: 0.3483\n",
            "Epoch 57/100\n",
            "116/116 [==============================] - 0s 2ms/step - loss: 0.4849 - root_mean_squared_error: 0.2580 - val_loss: 0.6068 - val_root_mean_squared_error: 0.3472\n",
            "Epoch 58/100\n",
            "116/116 [==============================] - 0s 2ms/step - loss: 0.4798 - root_mean_squared_error: 0.2551 - val_loss: 0.6060 - val_root_mean_squared_error: 0.3467\n",
            "Epoch 59/100\n",
            "116/116 [==============================] - 0s 2ms/step - loss: 0.4837 - root_mean_squared_error: 0.2577 - val_loss: 0.6052 - val_root_mean_squared_error: 0.3462\n",
            "Epoch 60/100\n",
            "116/116 [==============================] - 0s 2ms/step - loss: 0.4782 - root_mean_squared_error: 0.2542 - val_loss: 0.6064 - val_root_mean_squared_error: 0.3470\n",
            "Epoch 61/100\n",
            "116/116 [==============================] - 0s 2ms/step - loss: 0.4796 - root_mean_squared_error: 0.2546 - val_loss: 0.6062 - val_root_mean_squared_error: 0.3469\n",
            "Epoch 62/100\n",
            "116/116 [==============================] - 0s 2ms/step - loss: 0.4756 - root_mean_squared_error: 0.2524 - val_loss: 0.6055 - val_root_mean_squared_error: 0.3464\n",
            "Epoch 63/100\n",
            "116/116 [==============================] - 0s 2ms/step - loss: 0.4798 - root_mean_squared_error: 0.2565 - val_loss: 0.6055 - val_root_mean_squared_error: 0.3464\n",
            "Epoch 64/100\n",
            "116/116 [==============================] - 0s 2ms/step - loss: 0.4782 - root_mean_squared_error: 0.2542 - val_loss: 0.6054 - val_root_mean_squared_error: 0.3462\n",
            "Epoch 65/100\n",
            "116/116 [==============================] - 0s 2ms/step - loss: 0.4776 - root_mean_squared_error: 0.2546 - val_loss: 0.6027 - val_root_mean_squared_error: 0.3444\n",
            "Epoch 66/100\n",
            "116/116 [==============================] - 0s 2ms/step - loss: 0.4758 - root_mean_squared_error: 0.2520 - val_loss: 0.6023 - val_root_mean_squared_error: 0.3442\n",
            "Epoch 67/100\n",
            "116/116 [==============================] - 0s 2ms/step - loss: 0.4776 - root_mean_squared_error: 0.2535 - val_loss: 0.6009 - val_root_mean_squared_error: 0.3434\n",
            "Epoch 68/100\n",
            "116/116 [==============================] - 0s 2ms/step - loss: 0.4733 - root_mean_squared_error: 0.2519 - val_loss: 0.6014 - val_root_mean_squared_error: 0.3438\n",
            "Epoch 69/100\n",
            "116/116 [==============================] - 0s 2ms/step - loss: 0.4707 - root_mean_squared_error: 0.2498 - val_loss: 0.6018 - val_root_mean_squared_error: 0.3441\n",
            "Epoch 70/100\n",
            "116/116 [==============================] - 0s 2ms/step - loss: 0.4708 - root_mean_squared_error: 0.2492 - val_loss: 0.6013 - val_root_mean_squared_error: 0.3438\n",
            "Epoch 71/100\n",
            "116/116 [==============================] - 0s 2ms/step - loss: 0.4648 - root_mean_squared_error: 0.2440 - val_loss: 0.6018 - val_root_mean_squared_error: 0.3441\n",
            "Epoch 72/100\n",
            "116/116 [==============================] - 0s 2ms/step - loss: 0.4683 - root_mean_squared_error: 0.2466 - val_loss: 0.6009 - val_root_mean_squared_error: 0.3436\n",
            "Epoch 73/100\n",
            "116/116 [==============================] - 0s 2ms/step - loss: 0.4663 - root_mean_squared_error: 0.2458 - val_loss: 0.5990 - val_root_mean_squared_error: 0.3425\n",
            "Epoch 74/100\n",
            "116/116 [==============================] - 0s 2ms/step - loss: 0.4651 - root_mean_squared_error: 0.2453 - val_loss: 0.5985 - val_root_mean_squared_error: 0.3422\n",
            "Epoch 75/100\n",
            "116/116 [==============================] - 0s 2ms/step - loss: 0.4662 - root_mean_squared_error: 0.2460 - val_loss: 0.5976 - val_root_mean_squared_error: 0.3416\n",
            "Epoch 76/100\n",
            "116/116 [==============================] - 0s 2ms/step - loss: 0.4640 - root_mean_squared_error: 0.2445 - val_loss: 0.5981 - val_root_mean_squared_error: 0.3418\n",
            "Epoch 77/100\n",
            "116/116 [==============================] - 0s 2ms/step - loss: 0.4659 - root_mean_squared_error: 0.2463 - val_loss: 0.5986 - val_root_mean_squared_error: 0.3422\n",
            "Epoch 78/100\n",
            "116/116 [==============================] - 0s 2ms/step - loss: 0.4609 - root_mean_squared_error: 0.2417 - val_loss: 0.5984 - val_root_mean_squared_error: 0.3420\n",
            "Epoch 79/100\n",
            "116/116 [==============================] - 0s 2ms/step - loss: 0.4607 - root_mean_squared_error: 0.2420 - val_loss: 0.5973 - val_root_mean_squared_error: 0.3414\n",
            "Epoch 80/100\n",
            "116/116 [==============================] - 0s 2ms/step - loss: 0.4603 - root_mean_squared_error: 0.2409 - val_loss: 0.5968 - val_root_mean_squared_error: 0.3411\n",
            "Epoch 81/100\n",
            "116/116 [==============================] - 0s 2ms/step - loss: 0.4599 - root_mean_squared_error: 0.2416 - val_loss: 0.5981 - val_root_mean_squared_error: 0.3420\n",
            "Epoch 82/100\n",
            "116/116 [==============================] - 0s 2ms/step - loss: 0.4579 - root_mean_squared_error: 0.2401 - val_loss: 0.5982 - val_root_mean_squared_error: 0.3420\n",
            "Epoch 83/100\n",
            "116/116 [==============================] - 0s 2ms/step - loss: 0.4615 - root_mean_squared_error: 0.2426 - val_loss: 0.5987 - val_root_mean_squared_error: 0.3423\n",
            "Epoch 84/100\n",
            "116/116 [==============================] - 0s 2ms/step - loss: 0.4656 - root_mean_squared_error: 0.2459 - val_loss: 0.5979 - val_root_mean_squared_error: 0.3420\n",
            "Epoch 85/100\n",
            "116/116 [==============================] - 0s 2ms/step - loss: 0.4606 - root_mean_squared_error: 0.2429 - val_loss: 0.5976 - val_root_mean_squared_error: 0.3418\n",
            "Epoch 86/100\n",
            "116/116 [==============================] - 0s 2ms/step - loss: 0.4581 - root_mean_squared_error: 0.2415 - val_loss: 0.5979 - val_root_mean_squared_error: 0.3419\n",
            "Epoch 87/100\n",
            "116/116 [==============================] - 0s 2ms/step - loss: 0.4590 - root_mean_squared_error: 0.2426 - val_loss: 0.5983 - val_root_mean_squared_error: 0.3421\n",
            "Epoch 88/100\n",
            "116/116 [==============================] - 0s 2ms/step - loss: 0.4624 - root_mean_squared_error: 0.2442 - val_loss: 0.5957 - val_root_mean_squared_error: 0.3408\n",
            "Epoch 89/100\n",
            "116/116 [==============================] - 0s 2ms/step - loss: 0.4505 - root_mean_squared_error: 0.2353 - val_loss: 0.5971 - val_root_mean_squared_error: 0.3416\n",
            "Epoch 90/100\n",
            "116/116 [==============================] - 0s 2ms/step - loss: 0.4572 - root_mean_squared_error: 0.2409 - val_loss: 0.5975 - val_root_mean_squared_error: 0.3417\n",
            "Epoch 91/100\n",
            "116/116 [==============================] - 0s 2ms/step - loss: 0.4572 - root_mean_squared_error: 0.2409 - val_loss: 0.5977 - val_root_mean_squared_error: 0.3417\n",
            "Epoch 92/100\n",
            "116/116 [==============================] - 0s 2ms/step - loss: 0.4531 - root_mean_squared_error: 0.2384 - val_loss: 0.5979 - val_root_mean_squared_error: 0.3417\n",
            "Epoch 93/100\n",
            "116/116 [==============================] - 0s 2ms/step - loss: 0.4499 - root_mean_squared_error: 0.2360 - val_loss: 0.5954 - val_root_mean_squared_error: 0.3401\n",
            "Epoch 94/100\n",
            "116/116 [==============================] - 0s 2ms/step - loss: 0.4578 - root_mean_squared_error: 0.2426 - val_loss: 0.5950 - val_root_mean_squared_error: 0.3401\n",
            "Epoch 95/100\n",
            "116/116 [==============================] - 0s 2ms/step - loss: 0.4531 - root_mean_squared_error: 0.2389 - val_loss: 0.5962 - val_root_mean_squared_error: 0.3408\n",
            "Epoch 96/100\n",
            "116/116 [==============================] - 0s 2ms/step - loss: 0.4520 - root_mean_squared_error: 0.2363 - val_loss: 0.5962 - val_root_mean_squared_error: 0.3409\n",
            "Epoch 97/100\n",
            "116/116 [==============================] - 0s 2ms/step - loss: 0.4538 - root_mean_squared_error: 0.2393 - val_loss: 0.5956 - val_root_mean_squared_error: 0.3404\n",
            "Epoch 98/100\n",
            "116/116 [==============================] - 0s 2ms/step - loss: 0.4513 - root_mean_squared_error: 0.2373 - val_loss: 0.5956 - val_root_mean_squared_error: 0.3404\n",
            "Epoch 99/100\n",
            "116/116 [==============================] - 0s 2ms/step - loss: 0.4536 - root_mean_squared_error: 0.2385 - val_loss: 0.5960 - val_root_mean_squared_error: 0.3405\n",
            "Epoch 100/100\n",
            "116/116 [==============================] - 0s 2ms/step - loss: 0.4500 - root_mean_squared_error: 0.2362 - val_loss: 0.5962 - val_root_mean_squared_error: 0.3406\n"
          ]
        }
      ]
    },
    {
      "cell_type": "markdown",
      "metadata": {
        "id": "8Stxdc_XRCR6"
      },
      "source": [
        "### Visualisasi Metrik\n",
        "Untuk melihat visualisasi proses training, mari kita plot metrik evaluasi dengan matplotlib. Terapkan kode berikut."
      ]
    },
    {
      "cell_type": "code",
      "metadata": {
        "colab": {
          "base_uri": "https://localhost:8080/",
          "height": 295
        },
        "id": "RPpPLK8sRFLB",
        "outputId": "399178f0-18d7-4a08-b7eb-01eee8137527"
      },
      "source": [
        "plt.plot(history.history['root_mean_squared_error'])\n",
        "plt.plot(history.history['val_root_mean_squared_error'])\n",
        "plt.title('model_metrics')\n",
        "plt.ylabel('root_mean_squared_error')\n",
        "plt.xlabel('epoch')\n",
        "plt.legend(['train', 'test'], loc='upper left')\n",
        "plt.show()"
      ],
      "execution_count": null,
      "outputs": [
        {
          "output_type": "display_data",
          "data": {
            "image/png": "[encoded data removed]",
            "text/plain": [
              "<Figure size 432x288 with 1 Axes>"
            ]
          },
          "metadata": {
            "needs_background": "light"
          }
        }
      ]
    },
    {
      "cell_type": "markdown",
      "metadata": {
        "id": "V2sWa6PgRIsj"
      },
      "source": [
        "Perhatikanlah, proses training model cukup smooth dan model konvergen pada epochs sekitar 100. Dari proses ini, kita memperoleh nilai error akhir sebesar sekitar 0.23 dan error pada data validasi sebesar 0.34. Nilai tersebut cukup bagus untuk sistem rekomendasi. Mari kita cek, apakah model ini bisa membuat rekomendasi dengan baik?"
      ]
    },
    {
      "cell_type": "markdown",
      "metadata": {
        "id": "vfGPxwECRN5v"
      },
      "source": [
        "### Mendapatkan Rekomendasi Resto\n",
        "Untuk mendapatkan rekomendasi resto, pertama kita ambil sampel user secara acak dan definisikan variabel resto_not_visited yang merupakan daftar resto yang belum pernah dikunjungi oleh pengguna. Anda mungkin bertanya-tanya, mengapa kita perlu menentukan daftar resto_not_visited? Hal ini karena daftar resto_not_visited inilah yang akan menjadi resto yang kita rekomendasikan. \n",
        "\n",
        "Sebelumnya, pengguna telah memberi rating pada beberapa resto yang telah mereka kunjungi. Kita menggunakan rating ini untuk membuat rekomendasi restoran yang mungkin cocok untuk pengguna. Nah, restoran yang akan direkomendasikan tentulah restoran yang belum pernah dikunjungi oleh pengguna. Oleh karena itu, kita perlu membuat variabel resto_not_visited sebagai daftar restoran untuk direkomendasikan pada pengguna. \n",
        "\n",
        "Variabel resto_not_visited diperoleh dengan menggunakan operator bitwise (~) pada variabel resto_visited_by_user.\n",
        "\n",
        "Terapkan kode berikut."
      ]
    },
    {
      "cell_type": "code",
      "metadata": {
        "id": "updSpwCyRbSp"
      },
      "source": [
        "resto_df = resto_new\n",
        "df = pd.read_csv('rating_final.csv')\n",
        " \n",
        "# Mengambil sample user\n",
        "user_id = df.userID.sample(1).iloc[0]\n",
        "resto_visited_by_user = df[df.userID == user_id]\n",
        " \n",
        "# Operator bitwise (~), bisa diketahui di sini https://docs.python.org/3/reference/expressions.html \n",
        "resto_not_visited = resto_df[~resto_df['id'].isin(resto_visited_by_user.placeID.values)]['id'] \n",
        "resto_not_visited = list(\n",
        "    set(resto_not_visited)\n",
        "    .intersection(set(resto_to_resto_encoded.keys()))\n",
        ")\n",
        " \n",
        "resto_not_visited = [[resto_to_resto_encoded.get(x)] for x in resto_not_visited]\n",
        "user_encoder = user_to_user_encoded.get(user_id)\n",
        "user_resto_array = np.hstack(\n",
        "    ([[user_encoder]] * len(resto_not_visited), resto_not_visited)\n",
        ")"
      ],
      "execution_count": null,
      "outputs": []
    },
    {
      "cell_type": "markdown",
      "metadata": {
        "id": "55OiSpYcRe69"
      },
      "source": [
        "Selanjutnya, untuk memperoleh rekomendasi restoran, gunakan fungsi model.predict() dari library Keras dengan menerapkan kode berikut."
      ]
    },
    {
      "cell_type": "code",
      "metadata": {
        "colab": {
          "base_uri": "https://localhost:8080/"
        },
        "id": "fOQBxwnnRbL2",
        "outputId": "efe43cab-ef3e-413e-f425-efa3b00529e9"
      },
      "source": [
        "ratings = model.predict(user_resto_array).flatten()\n",
        " \n",
        "top_ratings_indices = ratings.argsort()[-10:][::-1]\n",
        "recommended_resto_ids = [\n",
        "    resto_encoded_to_resto.get(resto_not_visited[x][0]) for x in top_ratings_indices\n",
        "]\n",
        " \n",
        "print('Showing recommendations for users: {}'.format(user_id))\n",
        "print('===' * 9)\n",
        "print('Resto with high ratings from user')\n",
        "print('----' * 8)\n",
        " \n",
        "top_resto_user = (\n",
        "    resto_visited_by_user.sort_values(\n",
        "        by = 'rating',\n",
        "        ascending=False\n",
        "    )\n",
        "    .head(5)\n",
        "    .placeID.values\n",
        ")\n",
        " \n",
        "resto_df_rows = resto_df[resto_df['id'].isin(top_resto_user)]\n",
        "for row in resto_df_rows.itertuples():\n",
        "    print(row.resto_name, ':', row.cuisine)\n",
        " \n",
        "print('----' * 8)\n",
        "print('Top 10 resto recommendation')\n",
        "print('----' * 8)\n",
        " \n",
        "recommended_resto = resto_df[resto_df['id'].isin(recommended_resto_ids)]\n",
        "for row in recommended_resto.itertuples():\n",
        "    print(row.resto_name, ':', row.cuisine)"
      ],
      "execution_count": null,
      "outputs": [
        {
          "output_type": "stream",
          "name": "stdout",
          "text": [
            "Showing recommendations for users: U1008\n",
            "===========================\n",
            "Resto with high ratings from user\n",
            "--------------------------------\n",
            "KFC : American\n",
            "Sirlone : International\n",
            "Hamburguesas Valle Dorado : Burgers\n",
            "Chaires : Cafeteria\n",
            "--------------------------------\n",
            "Top 10 resto recommendation\n",
            "--------------------------------\n",
            "cafe punta del cielo : Cafeteria\n",
            "emilianos : Bar_Pub_Brewery\n",
            "Restaurant Las Mananitas : International\n",
            "Kiku Cuernavaca : Japanese\n",
            "El Oceano Dorado : Mexican\n",
            "El Rincon de San Francisco : Mexican\n",
            "Preambulo Wifi Zone Cafe : Cafe-Coffee_Shop\n",
            "Michiko Restaurant Japones : Japanese\n",
            "Restaurant Bar Hacienda los Martinez : Bar\n",
            "Mariscos El Pescador : Seafood\n"
          ]
        }
      ]
    },
    {
      "cell_type": "markdown",
      "metadata": {
        "id": "iyT_bvXCRmym"
      },
      "source": [
        "Selamat! Anda telah berhasil memberikan rekomendasi kepada user. Sebagai contoh, hasil di atas adalah rekomendasi untuk user dengan id U1071. Dari output tersebut, kita dapat membandingkan antara Resto with high ratings from user dan Top 10 resto recommendation untuk user. \n",
        "\n",
        "Perhatikanlah, beberapa restoran rekomendasi menyediakan kategori masakan (cuisine) yang sesuai dengan rating user. Kita memperoleh 4 rekomendasi resto dengan kategori ‘cuisine’ Mexican, 2 rekomendasi resto dengan kategori bar, dan 1 resto dengan kategori International."
      ]
    }
  ]
}